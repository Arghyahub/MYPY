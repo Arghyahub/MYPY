{
 "cells": [
  {
   "cell_type": "markdown",
   "metadata": {},
   "source": [
    "# Learning Numpy\n"
   ]
  },
  {
   "cell_type": "code",
   "execution_count": 9,
   "metadata": {},
   "outputs": [],
   "source": [
    "import numpy as np\n",
    "import sys"
   ]
  },
  {
   "cell_type": "markdown",
   "metadata": {},
   "source": [
    "Python range vs Numpy arange"
   ]
  },
  {
   "cell_type": "code",
   "execution_count": 10,
   "metadata": {},
   "outputs": [
    {
     "name": "stdout",
     "output_type": "stream",
     "text": [
      "list array: 24000\n",
      "Numpy array:  4000\n"
     ]
    }
   ],
   "source": [
    "l = range(1000) #List of 1000 elements\n",
    "print(\"list array:\", len(l)*sys.getsizeof(l[0]) )\n",
    "\n",
    "arr = np.arange(1000)\n",
    "print(\"Numpy array: \", arr.size*arr.itemsize )"
   ]
  },
  {
   "cell_type": "markdown",
   "metadata": {},
   "source": [
    "Range is like an immutable iterable object\n",
    "the numbers are not generated in the memory and is generated while iterating over\n",
    "\n",
    "List is an more like an array and it is iterable"
   ]
  },
  {
   "cell_type": "markdown",
   "metadata": {},
   "source": [
    "---\n",
    "Whereas the numpy.array and numpy.arange produces the same thing\n",
    "both produces numpy array but numpy.arange has a special ability where you can decide the step or space between numbers"
   ]
  },
  {
   "cell_type": "code",
   "execution_count": 11,
   "metadata": {},
   "outputs": [
    {
     "name": "stdout",
     "output_type": "stream",
     "text": [
      "<class 'numpy.ndarray'>\n",
      "<class 'numpy.ndarray'>\n"
     ]
    }
   ],
   "source": [
    "print( type(np.array(2) ) )\n",
    "print( type(np.arange(2) ) )"
   ]
  },
  {
   "cell_type": "markdown",
   "metadata": {},
   "source": [
    "---\n",
    "Array operations are so easy with np.array"
   ]
  },
  {
   "cell_type": "code",
   "execution_count": 12,
   "metadata": {},
   "outputs": [
    {
     "name": "stdout",
     "output_type": "stream",
     "text": [
      "[4 4 4]\n",
      "[-2  0  2]\n",
      "[3 4 3]\n",
      "[0.33333333 1.         3.        ]\n",
      "[1 0 0]\n"
     ]
    }
   ],
   "source": [
    "a = np.array([1,2,3])\n",
    "b = np.array([3,2,1])\n",
    "\n",
    "print(a+b)\n",
    "print(a-b)\n",
    "print(a*b)\n",
    "print(a/b)\n",
    "print(a%b)"
   ]
  },
  {
   "cell_type": "markdown",
   "metadata": {},
   "source": [
    "---\n",
    "\n",
    "Functions"
   ]
  },
  {
   "cell_type": "code",
   "execution_count": 14,
   "metadata": {},
   "outputs": [
    {
     "name": "stdout",
     "output_type": "stream",
     "text": [
      "np.size : 9\n",
      "np.shape : (3, 3)\n",
      "np.ndim : 2\n",
      "np.itemsize : 4\n",
      "np.dtype : int32\n"
     ]
    }
   ],
   "source": [
    "a = np.array([[1,2,3],[4,5,6],[7,8,9]])\n",
    "\n",
    "print(\"np.size :\", a.size)\n",
    "print(\"np.shape :\", a.shape)\n",
    "print(\"np.ndim :\", a.ndim)\n",
    "print(\"np.itemsize :\", a.itemsize)\n",
    "print(\"np.dtype :\", a.dtype)"
   ]
  },
  {
   "cell_type": "markdown",
   "metadata": {},
   "source": [
    "Changing data type and size"
   ]
  },
  {
   "cell_type": "code",
   "execution_count": 15,
   "metadata": {},
   "outputs": [
    {
     "name": "stdout",
     "output_type": "stream",
     "text": [
      "np.array([1]) itemsize :  4\n",
      "np.array([1],dtype=np.int8) itemsize :  1\n"
     ]
    }
   ],
   "source": [
    "a = np.array([1])\n",
    "print(\"np.array([1]) itemsize : \", a.itemsize)\n",
    "\n",
    "a = np.array([1],dtype=np.int8)\n",
    "print(\"np.array([1],dtype=np.int8) itemsize : \", a.itemsize)"
   ]
  },
  {
   "cell_type": "code",
   "execution_count": 19,
   "metadata": {},
   "outputs": [
    {
     "name": "stdout",
     "output_type": "stream",
     "text": [
      "[[0. 0. 0. 0.]\n",
      " [0. 0. 0. 0.]] \n",
      "\n",
      " [[1. 1. 1. 1.]\n",
      " [1. 1. 1. 1.]]\n"
     ]
    }
   ],
   "source": [
    "a = np.zeros((2,4))\n",
    "b = np.ones((2,4))  #Takes shape as an argument\n",
    "print(a,'\\n\\n',b)"
   ]
  },
  {
   "cell_type": "markdown",
   "metadata": {},
   "source": [
    "Arrange Like rang"
   ]
  },
  {
   "cell_type": "code",
   "execution_count": 21,
   "metadata": {},
   "outputs": [
    {
     "name": "stdout",
     "output_type": "stream",
     "text": [
      "[1 3 5 7 9]\n"
     ]
    }
   ],
   "source": [
    "print(np.arange(1,10,2)) "
   ]
  },
  {
   "cell_type": "markdown",
   "metadata": {},
   "source": [
    "---"
   ]
  },
  {
   "cell_type": "code",
   "execution_count": 25,
   "metadata": {},
   "outputs": [
    {
     "name": "stdout",
     "output_type": "stream",
     "text": [
      "np.reshape() \n",
      ": [[1 3]\n",
      " [4 1]\n",
      " [2 5]]\n",
      "\n",
      "np.ravel() : [1 3 4 1 2 5]\n"
     ]
    }
   ],
   "source": [
    "a = np.array([[1,3,4],[1,2,5]])\n",
    "print(\"np.reshape() \\n:\" ,a.reshape(3,2))\n",
    "print()\n",
    "print(\"np.ravel() :\" ,a.ravel()) "
   ]
  },
  {
   "cell_type": "markdown",
   "metadata": {},
   "source": [
    "min, max\n",
    "sum , axis"
   ]
  },
  {
   "cell_type": "code",
   "execution_count": 27,
   "metadata": {},
   "outputs": [
    {
     "name": "stdout",
     "output_type": "stream",
     "text": [
      "16\n",
      "5 1\n"
     ]
    }
   ],
   "source": [
    "print(a.sum())\n",
    "print(a.max() , a.min())"
   ]
  },
  {
   "cell_type": "markdown",
   "metadata": {},
   "source": [
    "---\n",
    "\n",
    "axis = 0 means : Colum wise\n",
    "\n",
    "axis = 0 means : Row wise\n"
   ]
  },
  {
   "cell_type": "code",
   "execution_count": 31,
   "metadata": {},
   "outputs": [
    {
     "name": "stdout",
     "output_type": "stream",
     "text": [
      "a :\n",
      " [[1 2 3]\n",
      " [4 5 6]]\n",
      "\n",
      "[5 7 9]\n",
      "\n",
      "[ 6 15]\n"
     ]
    }
   ],
   "source": [
    "a = np.array([[1,2,3],[4,5,6]])\n",
    "print(\"a :\\n\",a)\n",
    "print()\n",
    "print(a.sum(axis=0))\n",
    "print()\n",
    "print(a.sum(axis=1))"
   ]
  },
  {
   "cell_type": "markdown",
   "metadata": {},
   "source": [
    "Matrix product"
   ]
  },
  {
   "cell_type": "code",
   "execution_count": 35,
   "metadata": {},
   "outputs": [
    {
     "name": "stdout",
     "output_type": "stream",
     "text": [
      "a : \n",
      " [[1 2 3]\n",
      " [4 5 6]]\n",
      "b : \n",
      " [[1 2]\n",
      " [2 4]\n",
      " [5 6]]\n",
      "\n",
      "a.b : \n",
      " [[20 28]\n",
      " [44 64]]\n"
     ]
    }
   ],
   "source": [
    "b = np.array([[1,2],[2,4],[5,6]])\n",
    "print(\"a : \\n\",a)\n",
    "print(\"b : \\n\",b)\n",
    "print()\n",
    "print(\"a.b : \\n\" ,a.dot(b))"
   ]
  },
  {
   "cell_type": "markdown",
   "metadata": {},
   "source": [
    "### Indexing\n",
    "both works"
   ]
  },
  {
   "cell_type": "code",
   "execution_count": 36,
   "metadata": {},
   "outputs": [
    {
     "name": "stdout",
     "output_type": "stream",
     "text": [
      "[[1 2 3]\n",
      " [4 5 6]]\n",
      "\n",
      "6\n",
      "6\n"
     ]
    }
   ],
   "source": [
    "print(a)\n",
    "print()\n",
    "print(a[1,2])\n",
    "print(a[1][2])"
   ]
  },
  {
   "cell_type": "markdown",
   "metadata": {},
   "source": [
    "### Stacking of arrays"
   ]
  },
  {
   "cell_type": "code",
   "execution_count": 43,
   "metadata": {},
   "outputs": [
    {
     "name": "stdout",
     "output_type": "stream",
     "text": [
      "a : \n",
      " [[ 1  2  3  4  5]\n",
      " [ 6  7  8  9 10]]\n",
      "\n",
      "b : \n",
      " [[ 1  3  5  7  9]\n",
      " [11 13 15 17 19]]\n",
      "\n",
      "np.vstack((a,b)) : \n",
      " [[ 1  2  3  4  5]\n",
      " [ 6  7  8  9 10]\n",
      " [ 1  3  5  7  9]\n",
      " [11 13 15 17 19]] \n",
      "\n",
      "np.vstack((a,b)) : \n",
      " [[ 1  2  3  4  5  1  3  5  7  9]\n",
      " [ 6  7  8  9 10 11 13 15 17 19]]\n"
     ]
    }
   ],
   "source": [
    "a = np.arange(1,11).reshape(2,5)\n",
    "print(f\"a : \\n {a}\\n\")\n",
    "\n",
    "b = np.arange(1,20,2).reshape(2,5)\n",
    "print(f\"b : \\n {b}\\n\")\n",
    "\n",
    "c = np.vstack((a,b))\n",
    "d = np.hstack((a,b))\n",
    "\n",
    "print(f\"np.vstack((a,b)) : \\n {c} \\n\")\n",
    "print(f\"np.vstack((a,b)) : \\n {d}\")"
   ]
  },
  {
   "cell_type": "markdown",
   "metadata": {},
   "source": [
    "#### hsplit : cut the rows \n",
    "#### vsplit : cut the colums "
   ]
  },
  {
   "cell_type": "code",
   "execution_count": 69,
   "metadata": {},
   "outputs": [
    {
     "name": "stdout",
     "output_type": "stream",
     "text": [
      "[[ 1  2  3]\n",
      " [ 4  5  6]\n",
      " [ 7  8  9]\n",
      " [10 11 12]]\n",
      "\n",
      "np.hsplit(a,4) : \n",
      " [array([[ 1],\n",
      "       [ 4],\n",
      "       [ 7],\n",
      "       [10]]), array([[ 2],\n",
      "       [ 5],\n",
      "       [ 8],\n",
      "       [11]]), array([[ 3],\n",
      "       [ 6],\n",
      "       [ 9],\n",
      "       [12]])]\n"
     ]
    }
   ],
   "source": [
    "a=np.arange(1,13).reshape(4,-1)\n",
    "print(a)\n",
    "print()\n",
    "z = np.hsplit(a,3)\n",
    "print(\"np.hsplit(a,4) : \\n\", z)"
   ]
  },
  {
   "cell_type": "markdown",
   "metadata": {},
   "source": [
    "---\n",
    "### Indexing with boolean array"
   ]
  },
  {
   "cell_type": "code",
   "execution_count": 70,
   "metadata": {},
   "outputs": [
    {
     "name": "stdout",
     "output_type": "stream",
     "text": [
      "a : \n",
      " [[ 1  2  3]\n",
      " [ 4  5  6]\n",
      " [ 7  8  9]\n",
      " [10 11 12]]\n",
      "b : \n",
      " [[False False False]\n",
      " [False  True  True]\n",
      " [ True  True  True]\n",
      " [ True  True  True]]\n"
     ]
    }
   ],
   "source": [
    "print(\"a : \\n\",a)\n",
    "\n",
    "b = a > 4\n",
    "print(\"b : \\n\",b)"
   ]
  },
  {
   "cell_type": "code",
   "execution_count": 71,
   "metadata": {},
   "outputs": [
    {
     "name": "stdout",
     "output_type": "stream",
     "text": [
      "a : \n",
      " [[ 1  2  3]\n",
      " [ 4 -1 -1]\n",
      " [-1 -1 -1]\n",
      " [-1 -1 -1]]\n"
     ]
    }
   ],
   "source": [
    "a[b] = -1\n",
    "print('a : \\n',a)"
   ]
  }
 ],
 "metadata": {
  "kernelspec": {
   "display_name": "Python 3",
   "language": "python",
   "name": "python3"
  },
  "language_info": {
   "codemirror_mode": {
    "name": "ipython",
    "version": 3
   },
   "file_extension": ".py",
   "mimetype": "text/x-python",
   "name": "python",
   "nbconvert_exporter": "python",
   "pygments_lexer": "ipython3",
   "version": "3.9.6"
  },
  "orig_nbformat": 4
 },
 "nbformat": 4,
 "nbformat_minor": 2
}
