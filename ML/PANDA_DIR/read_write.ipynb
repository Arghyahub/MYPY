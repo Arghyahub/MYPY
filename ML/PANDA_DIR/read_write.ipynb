{
 "cells": [
  {
   "cell_type": "markdown",
   "metadata": {},
   "source": [
    "##### Read Write using CSV"
   ]
  },
  {
   "cell_type": "code",
   "execution_count": 2,
   "metadata": {},
   "outputs": [],
   "source": [
    "import pandas as pd"
   ]
  },
  {
   "cell_type": "markdown",
   "metadata": {},
   "source": [
    "CSV table with extra or unwanted row"
   ]
  },
  {
   "cell_type": "code",
   "execution_count": 9,
   "metadata": {},
   "outputs": [
    {
     "name": "stdout",
     "output_type": "stream",
     "text": [
      "        0         1     2      3      4\n",
      "0  random      None  None   None   None\n",
      "1     Day      Temp  Wind  Event   None\n",
      "2       0  1/2/2020    10      5   rain\n",
      "3       1  1/3/2020    12      4  sunny\n",
      "4       2  1/4/2020    14      3   snow\n",
      "5       3  1/5/2020    16      2   snow\n",
      "6       4  1/6/2020    18      1   rain\n",
      "7       5  1/7/2020    20      0  sunny\n",
      "   1/2/2020  10  5   rain\n",
      "0  1/3/2020  12  4  sunny\n",
      "1  1/4/2020  14  3   snow\n",
      "2  1/5/2020  16  2   snow\n",
      "3  1/6/2020  18  1   rain\n",
      "4  1/7/2020  20  0  sunny\n"
     ]
    }
   ],
   "source": [
    "ExtraTup = [\n",
    "    ('random',),\n",
    "    ('Day','Temp','Wind','Event'),\n",
    "    ('0','1/2/2020','10','5','rain'),\n",
    "    ('1','1/3/2020','12','4','sunny'),\n",
    "    ('2','1/4/2020','14','3','snow'),\n",
    "    ('3','1/5/2020','16','2','snow'),\n",
    "    ('4','1/6/2020','18','1','rain'),\n",
    "    ('5','1/7/2020','20','0','sunny')\n",
    "]\n",
    "\n",
    "df = pd.DataFrame(ExtraTup)\n",
    "print(df) \n",
    "\n",
    "df = pd.read_csv('./weather.csv', skiprows=1)\n",
    "print(df)\n",
    "\n",
    "# Or use header=1"
   ]
  },
  {
   "cell_type": "markdown",
   "metadata": {},
   "source": [
    "You can provide column name"
   ]
  },
  {
   "cell_type": "code",
   "execution_count": 12,
   "metadata": {},
   "outputs": [
    {
     "data": {
      "text/html": [
       "<div>\n",
       "<style scoped>\n",
       "    .dataframe tbody tr th:only-of-type {\n",
       "        vertical-align: middle;\n",
       "    }\n",
       "\n",
       "    .dataframe tbody tr th {\n",
       "        vertical-align: top;\n",
       "    }\n",
       "\n",
       "    .dataframe thead th {\n",
       "        text-align: right;\n",
       "    }\n",
       "</style>\n",
       "<table border=\"1\" class=\"dataframe\">\n",
       "  <thead>\n",
       "    <tr style=\"text-align: right;\">\n",
       "      <th></th>\n",
       "      <th>date ig</th>\n",
       "      <th>num ig</th>\n",
       "      <th>other num</th>\n",
       "      <th>climate</th>\n",
       "    </tr>\n",
       "  </thead>\n",
       "  <tbody>\n",
       "    <tr>\n",
       "      <th>0</th>\n",
       "      <td>1/2/2020</td>\n",
       "      <td>10</td>\n",
       "      <td>5</td>\n",
       "      <td>rain</td>\n",
       "    </tr>\n",
       "    <tr>\n",
       "      <th>1</th>\n",
       "      <td>1/3/2020</td>\n",
       "      <td>12</td>\n",
       "      <td>4</td>\n",
       "      <td>sunny</td>\n",
       "    </tr>\n",
       "    <tr>\n",
       "      <th>2</th>\n",
       "      <td>1/4/2020</td>\n",
       "      <td>14</td>\n",
       "      <td>3</td>\n",
       "      <td>snow</td>\n",
       "    </tr>\n",
       "    <tr>\n",
       "      <th>3</th>\n",
       "      <td>1/5/2020</td>\n",
       "      <td>16</td>\n",
       "      <td>2</td>\n",
       "      <td>snow</td>\n",
       "    </tr>\n",
       "    <tr>\n",
       "      <th>4</th>\n",
       "      <td>1/6/2020</td>\n",
       "      <td>18</td>\n",
       "      <td>1</td>\n",
       "      <td>rain</td>\n",
       "    </tr>\n",
       "    <tr>\n",
       "      <th>5</th>\n",
       "      <td>1/7/2020</td>\n",
       "      <td>20</td>\n",
       "      <td>0</td>\n",
       "      <td>sunny</td>\n",
       "    </tr>\n",
       "  </tbody>\n",
       "</table>\n",
       "</div>"
      ],
      "text/plain": [
       "    date ig  num ig  other num climate\n",
       "0  1/2/2020      10          5    rain\n",
       "1  1/3/2020      12          4   sunny\n",
       "2  1/4/2020      14          3    snow\n",
       "3  1/5/2020      16          2    snow\n",
       "4  1/6/2020      18          1    rain\n",
       "5  1/7/2020      20          0   sunny"
      ]
     },
     "execution_count": 12,
     "metadata": {},
     "output_type": "execute_result"
    }
   ],
   "source": [
    "df = pd.read_csv('./weather.csv',skiprows=1,header=None, names=['date ig', 'num ig', 'other num', 'climate'])\n",
    "df"
   ]
  },
  {
   "cell_type": "markdown",
   "metadata": {},
   "source": [
    "##### If you have millions of lines written in you csv you can limit it with nrows"
   ]
  },
  {
   "cell_type": "code",
   "execution_count": 13,
   "metadata": {},
   "outputs": [
    {
     "data": {
      "text/html": [
       "<div>\n",
       "<style scoped>\n",
       "    .dataframe tbody tr th:only-of-type {\n",
       "        vertical-align: middle;\n",
       "    }\n",
       "\n",
       "    .dataframe tbody tr th {\n",
       "        vertical-align: top;\n",
       "    }\n",
       "\n",
       "    .dataframe thead th {\n",
       "        text-align: right;\n",
       "    }\n",
       "</style>\n",
       "<table border=\"1\" class=\"dataframe\">\n",
       "  <thead>\n",
       "    <tr style=\"text-align: right;\">\n",
       "      <th></th>\n",
       "      <th>Day</th>\n",
       "      <th>Temp</th>\n",
       "      <th>Wind</th>\n",
       "      <th>Event</th>\n",
       "    </tr>\n",
       "  </thead>\n",
       "  <tbody>\n",
       "    <tr>\n",
       "      <th>0</th>\n",
       "      <td>1/2/2020</td>\n",
       "      <td>10</td>\n",
       "      <td>5</td>\n",
       "      <td>rain</td>\n",
       "    </tr>\n",
       "    <tr>\n",
       "      <th>1</th>\n",
       "      <td>1/3/2020</td>\n",
       "      <td>12</td>\n",
       "      <td>4</td>\n",
       "      <td>sunny</td>\n",
       "    </tr>\n",
       "    <tr>\n",
       "      <th>2</th>\n",
       "      <td>1/4/2020</td>\n",
       "      <td>14</td>\n",
       "      <td>3</td>\n",
       "      <td>snow</td>\n",
       "    </tr>\n",
       "  </tbody>\n",
       "</table>\n",
       "</div>"
      ],
      "text/plain": [
       "        Day  Temp  Wind  Event\n",
       "0  1/2/2020    10     5   rain\n",
       "1  1/3/2020    12     4  sunny\n",
       "2  1/4/2020    14     3   snow"
      ]
     },
     "execution_count": 13,
     "metadata": {},
     "output_type": "execute_result"
    }
   ],
   "source": [
    "pf = pd.read_csv('./weather.csv', nrows=3)\n",
    "pf"
   ]
  },
  {
   "cell_type": "markdown",
   "metadata": {},
   "source": [
    "Remove unnecessary values and convert the to nan"
   ]
  },
  {
   "cell_type": "code",
   "execution_count": 6,
   "metadata": {},
   "outputs": [
    {
     "name": "stdout",
     "output_type": "stream",
     "text": [
      "  tikers            eps  revenue price     people\n",
      "0  GOOGL          28.89       -2   897      LARRY\n",
      "1    WMT           8.23       89   NaN      GARRY\n",
      "2   MSFT             -4       98   n.a       BILL\n",
      "3    RIL  not available       59    -2   \"AMBANI\"\n",
      "\n",
      "\n",
      "Clean Data\n",
      "\n",
      "  tikers    eps  revenue  price     people\n",
      "0  GOOGL  28.89       -2  897.0      LARRY\n",
      "1    WMT   8.23       89    NaN      GARRY\n",
      "2   MSFT  -4.00       98    NaN       BILL\n",
      "3    RIL    NaN       59   -2.0   \"AMBANI\"\n"
     ]
    }
   ],
   "source": [
    "df = pd.read_csv('./NotComplete.csv')\n",
    "print(df)\n",
    "print(\"\\n\\nClean Data\\n\")\n",
    "\n",
    "df = pd.read_csv('./NotComplete.csv', na_values=['n.a', '', 'not available'])\n",
    "print(df) "
   ]
  },
  {
   "cell_type": "markdown",
   "metadata": {},
   "source": [
    "#### But there is a problem\n",
    "revenue cannot be negative, but if we consider -2 as na value then price will also be converted which we don't want\n",
    "\n",
    "So we can provide a dictionary"
   ]
  },
  {
   "cell_type": "code",
   "execution_count": 7,
   "metadata": {},
   "outputs": [
    {
     "data": {
      "text/html": [
       "<div>\n",
       "<style scoped>\n",
       "    .dataframe tbody tr th:only-of-type {\n",
       "        vertical-align: middle;\n",
       "    }\n",
       "\n",
       "    .dataframe tbody tr th {\n",
       "        vertical-align: top;\n",
       "    }\n",
       "\n",
       "    .dataframe thead th {\n",
       "        text-align: right;\n",
       "    }\n",
       "</style>\n",
       "<table border=\"1\" class=\"dataframe\">\n",
       "  <thead>\n",
       "    <tr style=\"text-align: right;\">\n",
       "      <th></th>\n",
       "      <th>tikers</th>\n",
       "      <th>eps</th>\n",
       "      <th>revenue</th>\n",
       "      <th>price</th>\n",
       "      <th>people</th>\n",
       "    </tr>\n",
       "  </thead>\n",
       "  <tbody>\n",
       "    <tr>\n",
       "      <th>0</th>\n",
       "      <td>GOOGL</td>\n",
       "      <td>28.89</td>\n",
       "      <td>NaN</td>\n",
       "      <td>897.0</td>\n",
       "      <td>LARRY</td>\n",
       "    </tr>\n",
       "    <tr>\n",
       "      <th>1</th>\n",
       "      <td>WMT</td>\n",
       "      <td>8.23</td>\n",
       "      <td>89.0</td>\n",
       "      <td>NaN</td>\n",
       "      <td>GARRY</td>\n",
       "    </tr>\n",
       "    <tr>\n",
       "      <th>2</th>\n",
       "      <td>MSFT</td>\n",
       "      <td>-4</td>\n",
       "      <td>98.0</td>\n",
       "      <td>NaN</td>\n",
       "      <td>BILL</td>\n",
       "    </tr>\n",
       "    <tr>\n",
       "      <th>3</th>\n",
       "      <td>RIL</td>\n",
       "      <td>not available</td>\n",
       "      <td>59.0</td>\n",
       "      <td>-2.0</td>\n",
       "      <td>\"AMBANI\"</td>\n",
       "    </tr>\n",
       "  </tbody>\n",
       "</table>\n",
       "</div>"
      ],
      "text/plain": [
       "  tikers            eps  revenue  price     people\n",
       "0  GOOGL          28.89      NaN  897.0      LARRY\n",
       "1    WMT           8.23     89.0    NaN      GARRY\n",
       "2   MSFT             -4     98.0    NaN       BILL\n",
       "3    RIL  not available     59.0   -2.0   \"AMBANI\""
      ]
     },
     "execution_count": 7,
     "metadata": {},
     "output_type": "execute_result"
    }
   ],
   "source": [
    "df = pd.read_csv('./NotComplete.csv', na_values={\n",
    "    'revenue':[ -2 , 'not available'],\n",
    "    'price': ['n.a'],\n",
    "    'eps': ['not avilable']\n",
    "})\n",
    "df"
   ]
  },
  {
   "cell_type": "markdown",
   "metadata": {},
   "source": [
    "##### Write to CSV"
   ]
  },
  {
   "cell_type": "code",
   "execution_count": 14,
   "metadata": {},
   "outputs": [
    {
     "name": "stdout",
     "output_type": "stream",
     "text": [
      "   revenue            eps\n",
      "0      NaN          28.89\n",
      "1     89.0           8.23\n",
      "2     98.0             -4\n",
      "3     59.0  not available\n"
     ]
    }
   ],
   "source": [
    "df.to_csv('new.csv', columns=['revenue','eps'], index=False )\n",
    "\n",
    "print(pd.read_csv('./new.csv'))"
   ]
  },
  {
   "cell_type": "markdown",
   "metadata": {},
   "source": [
    "### Converters for conditionals"
   ]
  },
  {
   "cell_type": "code",
   "execution_count": 19,
   "metadata": {},
   "outputs": [
    {
     "name": "stdout",
     "output_type": "stream",
     "text": [
      "   revenue            eps\n",
      "0      NaN          28.89\n",
      "1     89.0           8.23\n",
      "2     98.0             -4\n",
      "3     59.0  not available\n",
      "Revenus must not be Nan it should atleast be 0 and eps 1\n",
      "\n",
      "  revenue    eps\n",
      "0       0  28.89\n",
      "1    89.0   8.23\n",
      "2    98.0     -4\n",
      "3    59.0      1\n"
     ]
    }
   ],
   "source": [
    "df = pd.read_csv('./new.csv')\n",
    "print(df)\n",
    "\n",
    "print(\"Revenus must not be Nan it should atleast be 0 and eps 1\\n\")\n",
    "\n",
    "def convert_rev(cell):\n",
    "    if cell=='' :\n",
    "        return '0'\n",
    "    return cell\n",
    "def convert_eps(cell):\n",
    "    if cell=='not available' :\n",
    "        return '1'\n",
    "    return cell\n",
    "\n",
    "df = pd.read_csv('./new.csv' , converters= {\n",
    "    'revenue' : convert_rev,\n",
    "    'eps' : convert_eps\n",
    "})\n",
    "print(df)"
   ]
  }
 ],
 "metadata": {
  "kernelspec": {
   "display_name": "Python 3",
   "language": "python",
   "name": "python3"
  },
  "language_info": {
   "codemirror_mode": {
    "name": "ipython",
    "version": 3
   },
   "file_extension": ".py",
   "mimetype": "text/x-python",
   "name": "python",
   "nbconvert_exporter": "python",
   "pygments_lexer": "ipython3",
   "version": "3.9.6"
  },
  "orig_nbformat": 4
 },
 "nbformat": 4,
 "nbformat_minor": 2
}
