{
 "cells": [
  {
   "cell_type": "markdown",
   "metadata": {},
   "source": [
    "### Precision\n",
    "<img src='./precision.png' />"
   ]
  },
  {
   "cell_type": "markdown",
   "metadata": {},
   "source": [
    "It is stated as \\<Boolean Positive\\>\n",
    "<br/>\n",
    "Boolean => How many done correctly(True) or not(False)\n",
    "Here Positive is the class of object it needed to identify : \n",
    "\n",
    "For Dog classification => Identifying dog is considered Positive <br/>\n",
    "                       => Others are not considered positive\n",
    "\n",
    "\n",
    "= Total Right / How many identifed as right"
   ]
  },
  {
   "cell_type": "markdown",
   "metadata": {},
   "source": [
    "___\n",
    "### Recall\n",
    "<img src='./recall.png' />\n",
    "\n",
    "<br />\n",
    "<br />\n",
    "Out all True answers, how many of them are predicted right\n",
    "\n",
    "= Total right identified / Actual Right"
   ]
  },
  {
   "cell_type": "markdown",
   "metadata": {},
   "source": [
    "### F1 score\n",
    "\n",
    "<img src='./f1score.png' />\n",
    "\n",
    "Harmonic mean of precision and recall"
   ]
  }
 ],
 "metadata": {
  "kernelspec": {
   "display_name": "Python 3",
   "language": "python",
   "name": "python3"
  },
  "language_info": {
   "name": "python",
   "version": "3.10.12"
  }
 },
 "nbformat": 4,
 "nbformat_minor": 2
}
