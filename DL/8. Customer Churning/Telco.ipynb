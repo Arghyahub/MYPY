{
 "cells": [
  {
   "cell_type": "code",
   "execution_count": 1,
   "metadata": {},
   "outputs": [
    {
     "name": "stderr",
     "output_type": "stream",
     "text": [
      "2024-01-03 23:14:31.867481: E external/local_xla/xla/stream_executor/cuda/cuda_dnn.cc:9261] Unable to register cuDNN factory: Attempting to register factory for plugin cuDNN when one has already been registered\n",
      "2024-01-03 23:14:31.867572: E external/local_xla/xla/stream_executor/cuda/cuda_fft.cc:607] Unable to register cuFFT factory: Attempting to register factory for plugin cuFFT when one has already been registered\n",
      "2024-01-03 23:14:31.939039: E external/local_xla/xla/stream_executor/cuda/cuda_blas.cc:1515] Unable to register cuBLAS factory: Attempting to register factory for plugin cuBLAS when one has already been registered\n",
      "2024-01-03 23:14:32.087742: I tensorflow/core/platform/cpu_feature_guard.cc:182] This TensorFlow binary is optimized to use available CPU instructions in performance-critical operations.\n",
      "To enable the following instructions: AVX2 FMA, in other operations, rebuild TensorFlow with the appropriate compiler flags.\n",
      "2024-01-03 23:14:33.778620: W tensorflow/compiler/tf2tensorrt/utils/py_utils.cc:38] TF-TRT Warning: Could not find TensorRT\n"
     ]
    }
   ],
   "source": [
    "import pandas as pd\n",
    "from matplotlib import pyplot as plt\n",
    "import numpy as np\n",
    "from tensorflow import keras\n",
    "import tensorflow as tf "
   ]
  },
  {
   "cell_type": "code",
   "execution_count": 2,
   "metadata": {},
   "outputs": [
    {
     "data": {
      "text/html": [
       "<div>\n",
       "<style scoped>\n",
       "    .dataframe tbody tr th:only-of-type {\n",
       "        vertical-align: middle;\n",
       "    }\n",
       "\n",
       "    .dataframe tbody tr th {\n",
       "        vertical-align: top;\n",
       "    }\n",
       "\n",
       "    .dataframe thead th {\n",
       "        text-align: right;\n",
       "    }\n",
       "</style>\n",
       "<table border=\"1\" class=\"dataframe\">\n",
       "  <thead>\n",
       "    <tr style=\"text-align: right;\">\n",
       "      <th></th>\n",
       "      <th>customerID</th>\n",
       "      <th>gender</th>\n",
       "      <th>SeniorCitizen</th>\n",
       "      <th>Partner</th>\n",
       "      <th>Dependents</th>\n",
       "      <th>tenure</th>\n",
       "      <th>PhoneService</th>\n",
       "      <th>MultipleLines</th>\n",
       "      <th>InternetService</th>\n",
       "      <th>OnlineSecurity</th>\n",
       "      <th>...</th>\n",
       "      <th>DeviceProtection</th>\n",
       "      <th>TechSupport</th>\n",
       "      <th>StreamingTV</th>\n",
       "      <th>StreamingMovies</th>\n",
       "      <th>Contract</th>\n",
       "      <th>PaperlessBilling</th>\n",
       "      <th>PaymentMethod</th>\n",
       "      <th>MonthlyCharges</th>\n",
       "      <th>TotalCharges</th>\n",
       "      <th>Churn</th>\n",
       "    </tr>\n",
       "  </thead>\n",
       "  <tbody>\n",
       "    <tr>\n",
       "      <th>2382</th>\n",
       "      <td>6114-TCFID</td>\n",
       "      <td>Female</td>\n",
       "      <td>0</td>\n",
       "      <td>No</td>\n",
       "      <td>No</td>\n",
       "      <td>29</td>\n",
       "      <td>No</td>\n",
       "      <td>No phone service</td>\n",
       "      <td>DSL</td>\n",
       "      <td>Yes</td>\n",
       "      <td>...</td>\n",
       "      <td>No</td>\n",
       "      <td>Yes</td>\n",
       "      <td>No</td>\n",
       "      <td>No</td>\n",
       "      <td>One year</td>\n",
       "      <td>No</td>\n",
       "      <td>Credit card (automatic)</td>\n",
       "      <td>39.50</td>\n",
       "      <td>1082.75</td>\n",
       "      <td>No</td>\n",
       "    </tr>\n",
       "    <tr>\n",
       "      <th>3225</th>\n",
       "      <td>4931-TRZWN</td>\n",
       "      <td>Female</td>\n",
       "      <td>0</td>\n",
       "      <td>No</td>\n",
       "      <td>No</td>\n",
       "      <td>13</td>\n",
       "      <td>Yes</td>\n",
       "      <td>No</td>\n",
       "      <td>DSL</td>\n",
       "      <td>Yes</td>\n",
       "      <td>...</td>\n",
       "      <td>No</td>\n",
       "      <td>No</td>\n",
       "      <td>Yes</td>\n",
       "      <td>Yes</td>\n",
       "      <td>Month-to-month</td>\n",
       "      <td>Yes</td>\n",
       "      <td>Electronic check</td>\n",
       "      <td>71.95</td>\n",
       "      <td>923.85</td>\n",
       "      <td>No</td>\n",
       "    </tr>\n",
       "  </tbody>\n",
       "</table>\n",
       "<p>2 rows × 21 columns</p>\n",
       "</div>"
      ],
      "text/plain": [
       "      customerID  gender  SeniorCitizen Partner Dependents  tenure  \\\n",
       "2382  6114-TCFID  Female              0      No         No      29   \n",
       "3225  4931-TRZWN  Female              0      No         No      13   \n",
       "\n",
       "     PhoneService     MultipleLines InternetService OnlineSecurity  ...  \\\n",
       "2382           No  No phone service             DSL            Yes  ...   \n",
       "3225          Yes                No             DSL            Yes  ...   \n",
       "\n",
       "     DeviceProtection TechSupport StreamingTV StreamingMovies        Contract  \\\n",
       "2382               No         Yes          No              No        One year   \n",
       "3225               No          No         Yes             Yes  Month-to-month   \n",
       "\n",
       "     PaperlessBilling            PaymentMethod MonthlyCharges  TotalCharges  \\\n",
       "2382               No  Credit card (automatic)          39.50       1082.75   \n",
       "3225              Yes         Electronic check          71.95        923.85   \n",
       "\n",
       "     Churn  \n",
       "2382    No  \n",
       "3225    No  \n",
       "\n",
       "[2 rows x 21 columns]"
      ]
     },
     "execution_count": 2,
     "metadata": {},
     "output_type": "execute_result"
    }
   ],
   "source": [
    "df = pd.read_csv(\"telco_customer.csv\")\n",
    "df.sample(2)"
   ]
  },
  {
   "cell_type": "code",
   "execution_count": 3,
   "metadata": {},
   "outputs": [
    {
     "data": {
      "text/html": [
       "<div>\n",
       "<style scoped>\n",
       "    .dataframe tbody tr th:only-of-type {\n",
       "        vertical-align: middle;\n",
       "    }\n",
       "\n",
       "    .dataframe tbody tr th {\n",
       "        vertical-align: top;\n",
       "    }\n",
       "\n",
       "    .dataframe thead th {\n",
       "        text-align: right;\n",
       "    }\n",
       "</style>\n",
       "<table border=\"1\" class=\"dataframe\">\n",
       "  <thead>\n",
       "    <tr style=\"text-align: right;\">\n",
       "      <th></th>\n",
       "      <th>gender</th>\n",
       "      <th>SeniorCitizen</th>\n",
       "      <th>Partner</th>\n",
       "      <th>Dependents</th>\n",
       "      <th>tenure</th>\n",
       "      <th>PhoneService</th>\n",
       "      <th>MultipleLines</th>\n",
       "      <th>InternetService</th>\n",
       "      <th>OnlineSecurity</th>\n",
       "      <th>OnlineBackup</th>\n",
       "      <th>DeviceProtection</th>\n",
       "      <th>TechSupport</th>\n",
       "      <th>StreamingTV</th>\n",
       "      <th>StreamingMovies</th>\n",
       "      <th>Contract</th>\n",
       "      <th>PaperlessBilling</th>\n",
       "      <th>PaymentMethod</th>\n",
       "      <th>MonthlyCharges</th>\n",
       "      <th>TotalCharges</th>\n",
       "      <th>Churn</th>\n",
       "    </tr>\n",
       "  </thead>\n",
       "  <tbody>\n",
       "    <tr>\n",
       "      <th>0</th>\n",
       "      <td>Female</td>\n",
       "      <td>0</td>\n",
       "      <td>Yes</td>\n",
       "      <td>No</td>\n",
       "      <td>1</td>\n",
       "      <td>No</td>\n",
       "      <td>No phone service</td>\n",
       "      <td>DSL</td>\n",
       "      <td>No</td>\n",
       "      <td>Yes</td>\n",
       "      <td>No</td>\n",
       "      <td>No</td>\n",
       "      <td>No</td>\n",
       "      <td>No</td>\n",
       "      <td>Month-to-month</td>\n",
       "      <td>Yes</td>\n",
       "      <td>Electronic check</td>\n",
       "      <td>29.85</td>\n",
       "      <td>29.85</td>\n",
       "      <td>No</td>\n",
       "    </tr>\n",
       "    <tr>\n",
       "      <th>1</th>\n",
       "      <td>Male</td>\n",
       "      <td>0</td>\n",
       "      <td>No</td>\n",
       "      <td>No</td>\n",
       "      <td>34</td>\n",
       "      <td>Yes</td>\n",
       "      <td>No</td>\n",
       "      <td>DSL</td>\n",
       "      <td>Yes</td>\n",
       "      <td>No</td>\n",
       "      <td>Yes</td>\n",
       "      <td>No</td>\n",
       "      <td>No</td>\n",
       "      <td>No</td>\n",
       "      <td>One year</td>\n",
       "      <td>No</td>\n",
       "      <td>Mailed check</td>\n",
       "      <td>56.95</td>\n",
       "      <td>1889.5</td>\n",
       "      <td>No</td>\n",
       "    </tr>\n",
       "  </tbody>\n",
       "</table>\n",
       "</div>"
      ],
      "text/plain": [
       "   gender  SeniorCitizen Partner Dependents  tenure PhoneService  \\\n",
       "0  Female              0     Yes         No       1           No   \n",
       "1    Male              0      No         No      34          Yes   \n",
       "\n",
       "      MultipleLines InternetService OnlineSecurity OnlineBackup  \\\n",
       "0  No phone service             DSL             No          Yes   \n",
       "1                No             DSL            Yes           No   \n",
       "\n",
       "  DeviceProtection TechSupport StreamingTV StreamingMovies        Contract  \\\n",
       "0               No          No          No              No  Month-to-month   \n",
       "1              Yes          No          No              No        One year   \n",
       "\n",
       "  PaperlessBilling     PaymentMethod  MonthlyCharges TotalCharges Churn  \n",
       "0              Yes  Electronic check           29.85        29.85    No  \n",
       "1               No      Mailed check           56.95       1889.5    No  "
      ]
     },
     "execution_count": 3,
     "metadata": {},
     "output_type": "execute_result"
    }
   ],
   "source": [
    "df.drop('customerID',inplace=True,axis='columns')\n",
    "df.head(2)"
   ]
  },
  {
   "cell_type": "code",
   "execution_count": 4,
   "metadata": {},
   "outputs": [
    {
     "name": "stdout",
     "output_type": "stream",
     "text": [
      "Col gender : ['Female' 'Male'] , dtype: object\n",
      "Col SeniorCitizen : [0 1] , dtype: int64\n",
      "Col Partner : ['Yes' 'No'] , dtype: object\n",
      "Col Dependents : ['No' 'Yes'] , dtype: object\n",
      "Col tenure : [ 1 34  2 45  8 22 10 28 62 13 16 58 49 25 69 52 71 21 12 30 47 72 17 27\n",
      "  5 46 11 70 63 43 15 60 18 66  9  3 31 50 64 56  7 42 35 48 29 65 38 68\n",
      " 32 55 37 36 41  6  4 33 67 23 57 61 14 20 53 40 59 24 44 19 54 51 26  0\n",
      " 39] , dtype: int64\n",
      "Col PhoneService : ['No' 'Yes'] , dtype: object\n",
      "Col MultipleLines : ['No phone service' 'No' 'Yes'] , dtype: object\n",
      "Col InternetService : ['DSL' 'Fiber optic' 'No'] , dtype: object\n",
      "Col OnlineSecurity : ['No' 'Yes' 'No internet service'] , dtype: object\n",
      "Col OnlineBackup : ['Yes' 'No' 'No internet service'] , dtype: object\n",
      "Col DeviceProtection : ['No' 'Yes' 'No internet service'] , dtype: object\n",
      "Col TechSupport : ['No' 'Yes' 'No internet service'] , dtype: object\n",
      "Col StreamingTV : ['No' 'Yes' 'No internet service'] , dtype: object\n",
      "Col StreamingMovies : ['No' 'Yes' 'No internet service'] , dtype: object\n",
      "Col Contract : ['Month-to-month' 'One year' 'Two year'] , dtype: object\n",
      "Col PaperlessBilling : ['Yes' 'No'] , dtype: object\n",
      "Col PaymentMethod : ['Electronic check' 'Mailed check' 'Bank transfer (automatic)'\n",
      " 'Credit card (automatic)'] , dtype: object\n",
      "Col MonthlyCharges : [29.85 56.95 53.85 ... 63.1  44.2  78.7 ] , dtype: float64\n",
      "Col TotalCharges : ['29.85' '1889.5' '108.15' ... '346.45' '306.6' '6844.5'] , dtype: object\n",
      "Col Churn : ['No' 'Yes'] , dtype: object\n"
     ]
    }
   ],
   "source": [
    "def tableData(df):\n",
    "    for col in df.columns:\n",
    "        print(f\"Col {col} : {df[col].unique()} , dtype: {df[col].dtype}\")\n",
    "\n",
    "tableData(df)"
   ]
  },
  {
   "cell_type": "markdown",
   "metadata": {},
   "source": [
    "#### As we can see Col MultipleLines : ['No phone service' 'No' 'Yes']\n",
    "We have to morph no phone service to just no\n",
    "it can be achived using .replace() in panda "
   ]
  },
  {
   "cell_type": "code",
   "execution_count": 5,
   "metadata": {},
   "outputs": [],
   "source": [
    "df['MultipleLines'].replace('No phone service','No',inplace=True)\n",
    "df['OnlineSecurity'].replace('No internet service','No',inplace=True)   #Similarly\n",
    "df['OnlineBackup'].replace('No internet service','No',inplace=True)   #Similarly\n",
    "df['DeviceProtection'].replace('No internet service','No',inplace=True)   #Similarly\n",
    "df['TechSupport'].replace('No internet service','No',inplace=True)   #Similarly\n",
    "df['StreamingTV'].replace('No internet service','No',inplace=True)   #Similarly\n",
    "df['StreamingMovies'].replace('No internet service','No',inplace=True)   #Similarly"
   ]
  },
  {
   "cell_type": "code",
   "execution_count": 6,
   "metadata": {},
   "outputs": [
    {
     "name": "stdout",
     "output_type": "stream",
     "text": [
      "Col gender : ['Female' 'Male'] , dtype: object\n",
      "Col SeniorCitizen : [0 1] , dtype: int64\n",
      "Col Partner : ['Yes' 'No'] , dtype: object\n",
      "Col Dependents : ['No' 'Yes'] , dtype: object\n",
      "Col tenure : [ 1 34  2 45  8 22 10 28 62 13 16 58 49 25 69 52 71 21 12 30 47 72 17 27\n",
      "  5 46 11 70 63 43 15 60 18 66  9  3 31 50 64 56  7 42 35 48 29 65 38 68\n",
      " 32 55 37 36 41  6  4 33 67 23 57 61 14 20 53 40 59 24 44 19 54 51 26  0\n",
      " 39] , dtype: int64\n",
      "Col PhoneService : ['No' 'Yes'] , dtype: object\n",
      "Col MultipleLines : ['No' 'Yes'] , dtype: object\n",
      "Col InternetService : ['DSL' 'Fiber optic' 'No'] , dtype: object\n",
      "Col OnlineSecurity : ['No' 'Yes'] , dtype: object\n",
      "Col OnlineBackup : ['Yes' 'No'] , dtype: object\n",
      "Col DeviceProtection : ['No' 'Yes'] , dtype: object\n",
      "Col TechSupport : ['No' 'Yes'] , dtype: object\n",
      "Col StreamingTV : ['No' 'Yes'] , dtype: object\n",
      "Col StreamingMovies : ['No' 'Yes'] , dtype: object\n",
      "Col Contract : ['Month-to-month' 'One year' 'Two year'] , dtype: object\n",
      "Col PaperlessBilling : ['Yes' 'No'] , dtype: object\n",
      "Col PaymentMethod : ['Electronic check' 'Mailed check' 'Bank transfer (automatic)'\n",
      " 'Credit card (automatic)'] , dtype: object\n",
      "Col MonthlyCharges : [29.85 56.95 53.85 ... 63.1  44.2  78.7 ] , dtype: float64\n",
      "Col TotalCharges : ['29.85' '1889.5' '108.15' ... '346.45' '306.6' '6844.5'] , dtype: object\n",
      "Col Churn : ['No' 'Yes'] , dtype: object\n"
     ]
    }
   ],
   "source": [
    "tableData(df)"
   ]
  },
  {
   "cell_type": "markdown",
   "metadata": {},
   "source": [
    "##### Look at TotalCharges column, it is in the form of object, it should be float"
   ]
  },
  {
   "cell_type": "code",
   "execution_count": 7,
   "metadata": {},
   "outputs": [
    {
     "ename": "ValueError",
     "evalue": "could not convert string to float: ' '",
     "output_type": "error",
     "traceback": [
      "\u001b[0;31m---------------------------------------------------------------------------\u001b[0m",
      "\u001b[0;31mValueError\u001b[0m                                Traceback (most recent call last)",
      "Cell \u001b[0;32mIn[7], line 1\u001b[0m\n\u001b[0;32m----> 1\u001b[0m \u001b[43mdf\u001b[49m\u001b[43m[\u001b[49m\u001b[38;5;124;43m'\u001b[39;49m\u001b[38;5;124;43mTotalCharges\u001b[39;49m\u001b[38;5;124;43m'\u001b[39;49m\u001b[43m]\u001b[49m\u001b[38;5;241;43m.\u001b[39;49m\u001b[43mastype\u001b[49m\u001b[43m(\u001b[49m\u001b[38;5;124;43m'\u001b[39;49m\u001b[38;5;124;43mfloat\u001b[39;49m\u001b[38;5;124;43m'\u001b[39;49m\u001b[43m)\u001b[49m\n",
      "File \u001b[0;32m~/.local/lib/python3.10/site-packages/pandas/core/generic.py:6534\u001b[0m, in \u001b[0;36mNDFrame.astype\u001b[0;34m(self, dtype, copy, errors)\u001b[0m\n\u001b[1;32m   6530\u001b[0m     results \u001b[38;5;241m=\u001b[39m [ser\u001b[38;5;241m.\u001b[39mastype(dtype, copy\u001b[38;5;241m=\u001b[39mcopy) \u001b[38;5;28;01mfor\u001b[39;00m _, ser \u001b[38;5;129;01min\u001b[39;00m \u001b[38;5;28mself\u001b[39m\u001b[38;5;241m.\u001b[39mitems()]\n\u001b[1;32m   6532\u001b[0m \u001b[38;5;28;01melse\u001b[39;00m:\n\u001b[1;32m   6533\u001b[0m     \u001b[38;5;66;03m# else, only a single dtype is given\u001b[39;00m\n\u001b[0;32m-> 6534\u001b[0m     new_data \u001b[38;5;241m=\u001b[39m \u001b[38;5;28;43mself\u001b[39;49m\u001b[38;5;241;43m.\u001b[39;49m\u001b[43m_mgr\u001b[49m\u001b[38;5;241;43m.\u001b[39;49m\u001b[43mastype\u001b[49m\u001b[43m(\u001b[49m\u001b[43mdtype\u001b[49m\u001b[38;5;241;43m=\u001b[39;49m\u001b[43mdtype\u001b[49m\u001b[43m,\u001b[49m\u001b[43m \u001b[49m\u001b[43mcopy\u001b[49m\u001b[38;5;241;43m=\u001b[39;49m\u001b[43mcopy\u001b[49m\u001b[43m,\u001b[49m\u001b[43m \u001b[49m\u001b[43merrors\u001b[49m\u001b[38;5;241;43m=\u001b[39;49m\u001b[43merrors\u001b[49m\u001b[43m)\u001b[49m\n\u001b[1;32m   6535\u001b[0m     res \u001b[38;5;241m=\u001b[39m \u001b[38;5;28mself\u001b[39m\u001b[38;5;241m.\u001b[39m_constructor_from_mgr(new_data, axes\u001b[38;5;241m=\u001b[39mnew_data\u001b[38;5;241m.\u001b[39maxes)\n\u001b[1;32m   6536\u001b[0m     \u001b[38;5;28;01mreturn\u001b[39;00m res\u001b[38;5;241m.\u001b[39m__finalize__(\u001b[38;5;28mself\u001b[39m, method\u001b[38;5;241m=\u001b[39m\u001b[38;5;124m\"\u001b[39m\u001b[38;5;124mastype\u001b[39m\u001b[38;5;124m\"\u001b[39m)\n",
      "File \u001b[0;32m~/.local/lib/python3.10/site-packages/pandas/core/internals/managers.py:414\u001b[0m, in \u001b[0;36mBaseBlockManager.astype\u001b[0;34m(self, dtype, copy, errors)\u001b[0m\n\u001b[1;32m    411\u001b[0m \u001b[38;5;28;01melif\u001b[39;00m using_copy_on_write():\n\u001b[1;32m    412\u001b[0m     copy \u001b[38;5;241m=\u001b[39m \u001b[38;5;28;01mFalse\u001b[39;00m\n\u001b[0;32m--> 414\u001b[0m \u001b[38;5;28;01mreturn\u001b[39;00m \u001b[38;5;28;43mself\u001b[39;49m\u001b[38;5;241;43m.\u001b[39;49m\u001b[43mapply\u001b[49m\u001b[43m(\u001b[49m\n\u001b[1;32m    415\u001b[0m \u001b[43m    \u001b[49m\u001b[38;5;124;43m\"\u001b[39;49m\u001b[38;5;124;43mastype\u001b[39;49m\u001b[38;5;124;43m\"\u001b[39;49m\u001b[43m,\u001b[49m\n\u001b[1;32m    416\u001b[0m \u001b[43m    \u001b[49m\u001b[43mdtype\u001b[49m\u001b[38;5;241;43m=\u001b[39;49m\u001b[43mdtype\u001b[49m\u001b[43m,\u001b[49m\n\u001b[1;32m    417\u001b[0m \u001b[43m    \u001b[49m\u001b[43mcopy\u001b[49m\u001b[38;5;241;43m=\u001b[39;49m\u001b[43mcopy\u001b[49m\u001b[43m,\u001b[49m\n\u001b[1;32m    418\u001b[0m \u001b[43m    \u001b[49m\u001b[43merrors\u001b[49m\u001b[38;5;241;43m=\u001b[39;49m\u001b[43merrors\u001b[49m\u001b[43m,\u001b[49m\n\u001b[1;32m    419\u001b[0m \u001b[43m    \u001b[49m\u001b[43musing_cow\u001b[49m\u001b[38;5;241;43m=\u001b[39;49m\u001b[43musing_copy_on_write\u001b[49m\u001b[43m(\u001b[49m\u001b[43m)\u001b[49m\u001b[43m,\u001b[49m\n\u001b[1;32m    420\u001b[0m \u001b[43m\u001b[49m\u001b[43m)\u001b[49m\n",
      "File \u001b[0;32m~/.local/lib/python3.10/site-packages/pandas/core/internals/managers.py:354\u001b[0m, in \u001b[0;36mBaseBlockManager.apply\u001b[0;34m(self, f, align_keys, **kwargs)\u001b[0m\n\u001b[1;32m    352\u001b[0m         applied \u001b[38;5;241m=\u001b[39m b\u001b[38;5;241m.\u001b[39mapply(f, \u001b[38;5;241m*\u001b[39m\u001b[38;5;241m*\u001b[39mkwargs)\n\u001b[1;32m    353\u001b[0m     \u001b[38;5;28;01melse\u001b[39;00m:\n\u001b[0;32m--> 354\u001b[0m         applied \u001b[38;5;241m=\u001b[39m \u001b[38;5;28;43mgetattr\u001b[39;49m\u001b[43m(\u001b[49m\u001b[43mb\u001b[49m\u001b[43m,\u001b[49m\u001b[43m \u001b[49m\u001b[43mf\u001b[49m\u001b[43m)\u001b[49m\u001b[43m(\u001b[49m\u001b[38;5;241;43m*\u001b[39;49m\u001b[38;5;241;43m*\u001b[39;49m\u001b[43mkwargs\u001b[49m\u001b[43m)\u001b[49m\n\u001b[1;32m    355\u001b[0m     result_blocks \u001b[38;5;241m=\u001b[39m extend_blocks(applied, result_blocks)\n\u001b[1;32m    357\u001b[0m out \u001b[38;5;241m=\u001b[39m \u001b[38;5;28mtype\u001b[39m(\u001b[38;5;28mself\u001b[39m)\u001b[38;5;241m.\u001b[39mfrom_blocks(result_blocks, \u001b[38;5;28mself\u001b[39m\u001b[38;5;241m.\u001b[39maxes)\n",
      "File \u001b[0;32m~/.local/lib/python3.10/site-packages/pandas/core/internals/blocks.py:616\u001b[0m, in \u001b[0;36mBlock.astype\u001b[0;34m(self, dtype, copy, errors, using_cow)\u001b[0m\n\u001b[1;32m    596\u001b[0m \u001b[38;5;250m\u001b[39m\u001b[38;5;124;03m\"\"\"\u001b[39;00m\n\u001b[1;32m    597\u001b[0m \u001b[38;5;124;03mCoerce to the new dtype.\u001b[39;00m\n\u001b[1;32m    598\u001b[0m \n\u001b[0;32m   (...)\u001b[0m\n\u001b[1;32m    612\u001b[0m \u001b[38;5;124;03mBlock\u001b[39;00m\n\u001b[1;32m    613\u001b[0m \u001b[38;5;124;03m\"\"\"\u001b[39;00m\n\u001b[1;32m    614\u001b[0m values \u001b[38;5;241m=\u001b[39m \u001b[38;5;28mself\u001b[39m\u001b[38;5;241m.\u001b[39mvalues\n\u001b[0;32m--> 616\u001b[0m new_values \u001b[38;5;241m=\u001b[39m \u001b[43mastype_array_safe\u001b[49m\u001b[43m(\u001b[49m\u001b[43mvalues\u001b[49m\u001b[43m,\u001b[49m\u001b[43m \u001b[49m\u001b[43mdtype\u001b[49m\u001b[43m,\u001b[49m\u001b[43m \u001b[49m\u001b[43mcopy\u001b[49m\u001b[38;5;241;43m=\u001b[39;49m\u001b[43mcopy\u001b[49m\u001b[43m,\u001b[49m\u001b[43m \u001b[49m\u001b[43merrors\u001b[49m\u001b[38;5;241;43m=\u001b[39;49m\u001b[43merrors\u001b[49m\u001b[43m)\u001b[49m\n\u001b[1;32m    618\u001b[0m new_values \u001b[38;5;241m=\u001b[39m maybe_coerce_values(new_values)\n\u001b[1;32m    620\u001b[0m refs \u001b[38;5;241m=\u001b[39m \u001b[38;5;28;01mNone\u001b[39;00m\n",
      "File \u001b[0;32m~/.local/lib/python3.10/site-packages/pandas/core/dtypes/astype.py:238\u001b[0m, in \u001b[0;36mastype_array_safe\u001b[0;34m(values, dtype, copy, errors)\u001b[0m\n\u001b[1;32m    235\u001b[0m     dtype \u001b[38;5;241m=\u001b[39m dtype\u001b[38;5;241m.\u001b[39mnumpy_dtype\n\u001b[1;32m    237\u001b[0m \u001b[38;5;28;01mtry\u001b[39;00m:\n\u001b[0;32m--> 238\u001b[0m     new_values \u001b[38;5;241m=\u001b[39m \u001b[43mastype_array\u001b[49m\u001b[43m(\u001b[49m\u001b[43mvalues\u001b[49m\u001b[43m,\u001b[49m\u001b[43m \u001b[49m\u001b[43mdtype\u001b[49m\u001b[43m,\u001b[49m\u001b[43m \u001b[49m\u001b[43mcopy\u001b[49m\u001b[38;5;241;43m=\u001b[39;49m\u001b[43mcopy\u001b[49m\u001b[43m)\u001b[49m\n\u001b[1;32m    239\u001b[0m \u001b[38;5;28;01mexcept\u001b[39;00m (\u001b[38;5;167;01mValueError\u001b[39;00m, \u001b[38;5;167;01mTypeError\u001b[39;00m):\n\u001b[1;32m    240\u001b[0m     \u001b[38;5;66;03m# e.g. _astype_nansafe can fail on object-dtype of strings\u001b[39;00m\n\u001b[1;32m    241\u001b[0m     \u001b[38;5;66;03m#  trying to convert to float\u001b[39;00m\n\u001b[1;32m    242\u001b[0m     \u001b[38;5;28;01mif\u001b[39;00m errors \u001b[38;5;241m==\u001b[39m \u001b[38;5;124m\"\u001b[39m\u001b[38;5;124mignore\u001b[39m\u001b[38;5;124m\"\u001b[39m:\n",
      "File \u001b[0;32m~/.local/lib/python3.10/site-packages/pandas/core/dtypes/astype.py:183\u001b[0m, in \u001b[0;36mastype_array\u001b[0;34m(values, dtype, copy)\u001b[0m\n\u001b[1;32m    180\u001b[0m     values \u001b[38;5;241m=\u001b[39m values\u001b[38;5;241m.\u001b[39mastype(dtype, copy\u001b[38;5;241m=\u001b[39mcopy)\n\u001b[1;32m    182\u001b[0m \u001b[38;5;28;01melse\u001b[39;00m:\n\u001b[0;32m--> 183\u001b[0m     values \u001b[38;5;241m=\u001b[39m \u001b[43m_astype_nansafe\u001b[49m\u001b[43m(\u001b[49m\u001b[43mvalues\u001b[49m\u001b[43m,\u001b[49m\u001b[43m \u001b[49m\u001b[43mdtype\u001b[49m\u001b[43m,\u001b[49m\u001b[43m \u001b[49m\u001b[43mcopy\u001b[49m\u001b[38;5;241;43m=\u001b[39;49m\u001b[43mcopy\u001b[49m\u001b[43m)\u001b[49m\n\u001b[1;32m    185\u001b[0m \u001b[38;5;66;03m# in pandas we don't store numpy str dtypes, so convert to object\u001b[39;00m\n\u001b[1;32m    186\u001b[0m \u001b[38;5;28;01mif\u001b[39;00m \u001b[38;5;28misinstance\u001b[39m(dtype, np\u001b[38;5;241m.\u001b[39mdtype) \u001b[38;5;129;01mand\u001b[39;00m \u001b[38;5;28missubclass\u001b[39m(values\u001b[38;5;241m.\u001b[39mdtype\u001b[38;5;241m.\u001b[39mtype, \u001b[38;5;28mstr\u001b[39m):\n",
      "File \u001b[0;32m~/.local/lib/python3.10/site-packages/pandas/core/dtypes/astype.py:134\u001b[0m, in \u001b[0;36m_astype_nansafe\u001b[0;34m(arr, dtype, copy, skipna)\u001b[0m\n\u001b[1;32m    130\u001b[0m     \u001b[38;5;28;01mraise\u001b[39;00m \u001b[38;5;167;01mValueError\u001b[39;00m(msg)\n\u001b[1;32m    132\u001b[0m \u001b[38;5;28;01mif\u001b[39;00m copy \u001b[38;5;129;01mor\u001b[39;00m arr\u001b[38;5;241m.\u001b[39mdtype \u001b[38;5;241m==\u001b[39m \u001b[38;5;28mobject\u001b[39m \u001b[38;5;129;01mor\u001b[39;00m dtype \u001b[38;5;241m==\u001b[39m \u001b[38;5;28mobject\u001b[39m:\n\u001b[1;32m    133\u001b[0m     \u001b[38;5;66;03m# Explicit copy, or required since NumPy can't view from / to object.\u001b[39;00m\n\u001b[0;32m--> 134\u001b[0m     \u001b[38;5;28;01mreturn\u001b[39;00m \u001b[43marr\u001b[49m\u001b[38;5;241;43m.\u001b[39;49m\u001b[43mastype\u001b[49m\u001b[43m(\u001b[49m\u001b[43mdtype\u001b[49m\u001b[43m,\u001b[49m\u001b[43m \u001b[49m\u001b[43mcopy\u001b[49m\u001b[38;5;241;43m=\u001b[39;49m\u001b[38;5;28;43;01mTrue\u001b[39;49;00m\u001b[43m)\u001b[49m\n\u001b[1;32m    136\u001b[0m \u001b[38;5;28;01mreturn\u001b[39;00m arr\u001b[38;5;241m.\u001b[39mastype(dtype, copy\u001b[38;5;241m=\u001b[39mcopy)\n",
      "\u001b[0;31mValueError\u001b[0m: could not convert string to float: ' '"
     ]
    }
   ],
   "source": [
    "df['TotalCharges'].astype('float')"
   ]
  },
  {
   "cell_type": "markdown",
   "metadata": {},
   "source": [
    "As we can see some values are ''"
   ]
  },
  {
   "cell_type": "code",
   "execution_count": 8,
   "metadata": {},
   "outputs": [
    {
     "data": {
      "text/plain": [
       "0         29.85\n",
       "1       1889.50\n",
       "2        108.15\n",
       "3       1840.75\n",
       "4        151.65\n",
       "         ...   \n",
       "7038    1990.50\n",
       "7039    7362.90\n",
       "7040     346.45\n",
       "7041     306.60\n",
       "7042    6844.50\n",
       "Name: TotalCharges, Length: 7043, dtype: float64"
      ]
     },
     "execution_count": 8,
     "metadata": {},
     "output_type": "execute_result"
    }
   ],
   "source": [
    "x = pd.to_numeric(df['TotalCharges'], errors='coerce')   # errors coerce converts not changeable to nan\n",
    "x"
   ]
  },
  {
   "cell_type": "code",
   "execution_count": 9,
   "metadata": {},
   "outputs": [
    {
     "data": {
      "text/html": [
       "<div>\n",
       "<style scoped>\n",
       "    .dataframe tbody tr th:only-of-type {\n",
       "        vertical-align: middle;\n",
       "    }\n",
       "\n",
       "    .dataframe tbody tr th {\n",
       "        vertical-align: top;\n",
       "    }\n",
       "\n",
       "    .dataframe thead th {\n",
       "        text-align: right;\n",
       "    }\n",
       "</style>\n",
       "<table border=\"1\" class=\"dataframe\">\n",
       "  <thead>\n",
       "    <tr style=\"text-align: right;\">\n",
       "      <th></th>\n",
       "      <th>gender</th>\n",
       "      <th>SeniorCitizen</th>\n",
       "      <th>Partner</th>\n",
       "      <th>Dependents</th>\n",
       "      <th>tenure</th>\n",
       "      <th>PhoneService</th>\n",
       "      <th>MultipleLines</th>\n",
       "      <th>InternetService</th>\n",
       "      <th>OnlineSecurity</th>\n",
       "      <th>OnlineBackup</th>\n",
       "      <th>DeviceProtection</th>\n",
       "      <th>TechSupport</th>\n",
       "      <th>StreamingTV</th>\n",
       "      <th>StreamingMovies</th>\n",
       "      <th>Contract</th>\n",
       "      <th>PaperlessBilling</th>\n",
       "      <th>PaymentMethod</th>\n",
       "      <th>MonthlyCharges</th>\n",
       "      <th>TotalCharges</th>\n",
       "      <th>Churn</th>\n",
       "    </tr>\n",
       "  </thead>\n",
       "  <tbody>\n",
       "    <tr>\n",
       "      <th>488</th>\n",
       "      <td>Female</td>\n",
       "      <td>0</td>\n",
       "      <td>Yes</td>\n",
       "      <td>Yes</td>\n",
       "      <td>0</td>\n",
       "      <td>No</td>\n",
       "      <td>No</td>\n",
       "      <td>DSL</td>\n",
       "      <td>Yes</td>\n",
       "      <td>No</td>\n",
       "      <td>Yes</td>\n",
       "      <td>Yes</td>\n",
       "      <td>Yes</td>\n",
       "      <td>No</td>\n",
       "      <td>Two year</td>\n",
       "      <td>Yes</td>\n",
       "      <td>Bank transfer (automatic)</td>\n",
       "      <td>52.55</td>\n",
       "      <td></td>\n",
       "      <td>No</td>\n",
       "    </tr>\n",
       "    <tr>\n",
       "      <th>753</th>\n",
       "      <td>Male</td>\n",
       "      <td>0</td>\n",
       "      <td>No</td>\n",
       "      <td>Yes</td>\n",
       "      <td>0</td>\n",
       "      <td>Yes</td>\n",
       "      <td>No</td>\n",
       "      <td>No</td>\n",
       "      <td>No</td>\n",
       "      <td>No</td>\n",
       "      <td>No</td>\n",
       "      <td>No</td>\n",
       "      <td>No</td>\n",
       "      <td>No</td>\n",
       "      <td>Two year</td>\n",
       "      <td>No</td>\n",
       "      <td>Mailed check</td>\n",
       "      <td>20.25</td>\n",
       "      <td></td>\n",
       "      <td>No</td>\n",
       "    </tr>\n",
       "    <tr>\n",
       "      <th>936</th>\n",
       "      <td>Female</td>\n",
       "      <td>0</td>\n",
       "      <td>Yes</td>\n",
       "      <td>Yes</td>\n",
       "      <td>0</td>\n",
       "      <td>Yes</td>\n",
       "      <td>No</td>\n",
       "      <td>DSL</td>\n",
       "      <td>Yes</td>\n",
       "      <td>Yes</td>\n",
       "      <td>Yes</td>\n",
       "      <td>No</td>\n",
       "      <td>Yes</td>\n",
       "      <td>Yes</td>\n",
       "      <td>Two year</td>\n",
       "      <td>No</td>\n",
       "      <td>Mailed check</td>\n",
       "      <td>80.85</td>\n",
       "      <td></td>\n",
       "      <td>No</td>\n",
       "    </tr>\n",
       "    <tr>\n",
       "      <th>1082</th>\n",
       "      <td>Male</td>\n",
       "      <td>0</td>\n",
       "      <td>Yes</td>\n",
       "      <td>Yes</td>\n",
       "      <td>0</td>\n",
       "      <td>Yes</td>\n",
       "      <td>Yes</td>\n",
       "      <td>No</td>\n",
       "      <td>No</td>\n",
       "      <td>No</td>\n",
       "      <td>No</td>\n",
       "      <td>No</td>\n",
       "      <td>No</td>\n",
       "      <td>No</td>\n",
       "      <td>Two year</td>\n",
       "      <td>No</td>\n",
       "      <td>Mailed check</td>\n",
       "      <td>25.75</td>\n",
       "      <td></td>\n",
       "      <td>No</td>\n",
       "    </tr>\n",
       "    <tr>\n",
       "      <th>1340</th>\n",
       "      <td>Female</td>\n",
       "      <td>0</td>\n",
       "      <td>Yes</td>\n",
       "      <td>Yes</td>\n",
       "      <td>0</td>\n",
       "      <td>No</td>\n",
       "      <td>No</td>\n",
       "      <td>DSL</td>\n",
       "      <td>Yes</td>\n",
       "      <td>Yes</td>\n",
       "      <td>Yes</td>\n",
       "      <td>Yes</td>\n",
       "      <td>Yes</td>\n",
       "      <td>No</td>\n",
       "      <td>Two year</td>\n",
       "      <td>No</td>\n",
       "      <td>Credit card (automatic)</td>\n",
       "      <td>56.05</td>\n",
       "      <td></td>\n",
       "      <td>No</td>\n",
       "    </tr>\n",
       "    <tr>\n",
       "      <th>3331</th>\n",
       "      <td>Male</td>\n",
       "      <td>0</td>\n",
       "      <td>Yes</td>\n",
       "      <td>Yes</td>\n",
       "      <td>0</td>\n",
       "      <td>Yes</td>\n",
       "      <td>No</td>\n",
       "      <td>No</td>\n",
       "      <td>No</td>\n",
       "      <td>No</td>\n",
       "      <td>No</td>\n",
       "      <td>No</td>\n",
       "      <td>No</td>\n",
       "      <td>No</td>\n",
       "      <td>Two year</td>\n",
       "      <td>No</td>\n",
       "      <td>Mailed check</td>\n",
       "      <td>19.85</td>\n",
       "      <td></td>\n",
       "      <td>No</td>\n",
       "    </tr>\n",
       "    <tr>\n",
       "      <th>3826</th>\n",
       "      <td>Male</td>\n",
       "      <td>0</td>\n",
       "      <td>Yes</td>\n",
       "      <td>Yes</td>\n",
       "      <td>0</td>\n",
       "      <td>Yes</td>\n",
       "      <td>Yes</td>\n",
       "      <td>No</td>\n",
       "      <td>No</td>\n",
       "      <td>No</td>\n",
       "      <td>No</td>\n",
       "      <td>No</td>\n",
       "      <td>No</td>\n",
       "      <td>No</td>\n",
       "      <td>Two year</td>\n",
       "      <td>No</td>\n",
       "      <td>Mailed check</td>\n",
       "      <td>25.35</td>\n",
       "      <td></td>\n",
       "      <td>No</td>\n",
       "    </tr>\n",
       "    <tr>\n",
       "      <th>4380</th>\n",
       "      <td>Female</td>\n",
       "      <td>0</td>\n",
       "      <td>Yes</td>\n",
       "      <td>Yes</td>\n",
       "      <td>0</td>\n",
       "      <td>Yes</td>\n",
       "      <td>No</td>\n",
       "      <td>No</td>\n",
       "      <td>No</td>\n",
       "      <td>No</td>\n",
       "      <td>No</td>\n",
       "      <td>No</td>\n",
       "      <td>No</td>\n",
       "      <td>No</td>\n",
       "      <td>Two year</td>\n",
       "      <td>No</td>\n",
       "      <td>Mailed check</td>\n",
       "      <td>20.00</td>\n",
       "      <td></td>\n",
       "      <td>No</td>\n",
       "    </tr>\n",
       "    <tr>\n",
       "      <th>5218</th>\n",
       "      <td>Male</td>\n",
       "      <td>0</td>\n",
       "      <td>Yes</td>\n",
       "      <td>Yes</td>\n",
       "      <td>0</td>\n",
       "      <td>Yes</td>\n",
       "      <td>No</td>\n",
       "      <td>No</td>\n",
       "      <td>No</td>\n",
       "      <td>No</td>\n",
       "      <td>No</td>\n",
       "      <td>No</td>\n",
       "      <td>No</td>\n",
       "      <td>No</td>\n",
       "      <td>One year</td>\n",
       "      <td>Yes</td>\n",
       "      <td>Mailed check</td>\n",
       "      <td>19.70</td>\n",
       "      <td></td>\n",
       "      <td>No</td>\n",
       "    </tr>\n",
       "    <tr>\n",
       "      <th>6670</th>\n",
       "      <td>Female</td>\n",
       "      <td>0</td>\n",
       "      <td>Yes</td>\n",
       "      <td>Yes</td>\n",
       "      <td>0</td>\n",
       "      <td>Yes</td>\n",
       "      <td>Yes</td>\n",
       "      <td>DSL</td>\n",
       "      <td>No</td>\n",
       "      <td>Yes</td>\n",
       "      <td>Yes</td>\n",
       "      <td>Yes</td>\n",
       "      <td>Yes</td>\n",
       "      <td>No</td>\n",
       "      <td>Two year</td>\n",
       "      <td>No</td>\n",
       "      <td>Mailed check</td>\n",
       "      <td>73.35</td>\n",
       "      <td></td>\n",
       "      <td>No</td>\n",
       "    </tr>\n",
       "    <tr>\n",
       "      <th>6754</th>\n",
       "      <td>Male</td>\n",
       "      <td>0</td>\n",
       "      <td>No</td>\n",
       "      <td>Yes</td>\n",
       "      <td>0</td>\n",
       "      <td>Yes</td>\n",
       "      <td>Yes</td>\n",
       "      <td>DSL</td>\n",
       "      <td>Yes</td>\n",
       "      <td>Yes</td>\n",
       "      <td>No</td>\n",
       "      <td>Yes</td>\n",
       "      <td>No</td>\n",
       "      <td>No</td>\n",
       "      <td>Two year</td>\n",
       "      <td>Yes</td>\n",
       "      <td>Bank transfer (automatic)</td>\n",
       "      <td>61.90</td>\n",
       "      <td></td>\n",
       "      <td>No</td>\n",
       "    </tr>\n",
       "  </tbody>\n",
       "</table>\n",
       "</div>"
      ],
      "text/plain": [
       "      gender  SeniorCitizen Partner Dependents  tenure PhoneService  \\\n",
       "488   Female              0     Yes        Yes       0           No   \n",
       "753     Male              0      No        Yes       0          Yes   \n",
       "936   Female              0     Yes        Yes       0          Yes   \n",
       "1082    Male              0     Yes        Yes       0          Yes   \n",
       "1340  Female              0     Yes        Yes       0           No   \n",
       "3331    Male              0     Yes        Yes       0          Yes   \n",
       "3826    Male              0     Yes        Yes       0          Yes   \n",
       "4380  Female              0     Yes        Yes       0          Yes   \n",
       "5218    Male              0     Yes        Yes       0          Yes   \n",
       "6670  Female              0     Yes        Yes       0          Yes   \n",
       "6754    Male              0      No        Yes       0          Yes   \n",
       "\n",
       "     MultipleLines InternetService OnlineSecurity OnlineBackup  \\\n",
       "488             No             DSL            Yes           No   \n",
       "753             No              No             No           No   \n",
       "936             No             DSL            Yes          Yes   \n",
       "1082           Yes              No             No           No   \n",
       "1340            No             DSL            Yes          Yes   \n",
       "3331            No              No             No           No   \n",
       "3826           Yes              No             No           No   \n",
       "4380            No              No             No           No   \n",
       "5218            No              No             No           No   \n",
       "6670           Yes             DSL             No          Yes   \n",
       "6754           Yes             DSL            Yes          Yes   \n",
       "\n",
       "     DeviceProtection TechSupport StreamingTV StreamingMovies  Contract  \\\n",
       "488               Yes         Yes         Yes              No  Two year   \n",
       "753                No          No          No              No  Two year   \n",
       "936               Yes          No         Yes             Yes  Two year   \n",
       "1082               No          No          No              No  Two year   \n",
       "1340              Yes         Yes         Yes              No  Two year   \n",
       "3331               No          No          No              No  Two year   \n",
       "3826               No          No          No              No  Two year   \n",
       "4380               No          No          No              No  Two year   \n",
       "5218               No          No          No              No  One year   \n",
       "6670              Yes         Yes         Yes              No  Two year   \n",
       "6754               No         Yes          No              No  Two year   \n",
       "\n",
       "     PaperlessBilling              PaymentMethod  MonthlyCharges TotalCharges  \\\n",
       "488               Yes  Bank transfer (automatic)           52.55                \n",
       "753                No               Mailed check           20.25                \n",
       "936                No               Mailed check           80.85                \n",
       "1082               No               Mailed check           25.75                \n",
       "1340               No    Credit card (automatic)           56.05                \n",
       "3331               No               Mailed check           19.85                \n",
       "3826               No               Mailed check           25.35                \n",
       "4380               No               Mailed check           20.00                \n",
       "5218              Yes               Mailed check           19.70                \n",
       "6670               No               Mailed check           73.35                \n",
       "6754              Yes  Bank transfer (automatic)           61.90                \n",
       "\n",
       "     Churn  \n",
       "488     No  \n",
       "753     No  \n",
       "936     No  \n",
       "1082    No  \n",
       "1340    No  \n",
       "3331    No  \n",
       "3826    No  \n",
       "4380    No  \n",
       "5218    No  \n",
       "6670    No  \n",
       "6754    No  "
      ]
     },
     "execution_count": 9,
     "metadata": {},
     "output_type": "execute_result"
    }
   ],
   "source": [
    "df[x.isna()]"
   ]
  },
  {
   "cell_type": "markdown",
   "metadata": {},
   "source": [
    "#### These are the columns where TotalCharges is ' '"
   ]
  },
  {
   "cell_type": "code",
   "execution_count": 10,
   "metadata": {},
   "outputs": [
    {
     "data": {
      "text/plain": [
       "' '"
      ]
     },
     "execution_count": 10,
     "metadata": {},
     "output_type": "execute_result"
    }
   ],
   "source": [
    "df.iloc[488]['TotalCharges']"
   ]
  },
  {
   "cell_type": "markdown",
   "metadata": {},
   "source": [
    "#### So we can drop these rows"
   ]
  },
  {
   "cell_type": "code",
   "execution_count": 11,
   "metadata": {},
   "outputs": [
    {
     "data": {
      "text/html": [
       "<div>\n",
       "<style scoped>\n",
       "    .dataframe tbody tr th:only-of-type {\n",
       "        vertical-align: middle;\n",
       "    }\n",
       "\n",
       "    .dataframe tbody tr th {\n",
       "        vertical-align: top;\n",
       "    }\n",
       "\n",
       "    .dataframe thead th {\n",
       "        text-align: right;\n",
       "    }\n",
       "</style>\n",
       "<table border=\"1\" class=\"dataframe\">\n",
       "  <thead>\n",
       "    <tr style=\"text-align: right;\">\n",
       "      <th></th>\n",
       "      <th>gender</th>\n",
       "      <th>SeniorCitizen</th>\n",
       "      <th>Partner</th>\n",
       "      <th>Dependents</th>\n",
       "      <th>tenure</th>\n",
       "      <th>PhoneService</th>\n",
       "      <th>MultipleLines</th>\n",
       "      <th>InternetService</th>\n",
       "      <th>OnlineSecurity</th>\n",
       "      <th>OnlineBackup</th>\n",
       "      <th>DeviceProtection</th>\n",
       "      <th>TechSupport</th>\n",
       "      <th>StreamingTV</th>\n",
       "      <th>StreamingMovies</th>\n",
       "      <th>Contract</th>\n",
       "      <th>PaperlessBilling</th>\n",
       "      <th>PaymentMethod</th>\n",
       "      <th>MonthlyCharges</th>\n",
       "      <th>TotalCharges</th>\n",
       "      <th>Churn</th>\n",
       "    </tr>\n",
       "  </thead>\n",
       "  <tbody>\n",
       "    <tr>\n",
       "      <th>0</th>\n",
       "      <td>Female</td>\n",
       "      <td>0</td>\n",
       "      <td>Yes</td>\n",
       "      <td>No</td>\n",
       "      <td>1</td>\n",
       "      <td>No</td>\n",
       "      <td>No</td>\n",
       "      <td>DSL</td>\n",
       "      <td>No</td>\n",
       "      <td>Yes</td>\n",
       "      <td>No</td>\n",
       "      <td>No</td>\n",
       "      <td>No</td>\n",
       "      <td>No</td>\n",
       "      <td>Month-to-month</td>\n",
       "      <td>Yes</td>\n",
       "      <td>Electronic check</td>\n",
       "      <td>29.85</td>\n",
       "      <td>29.85</td>\n",
       "      <td>No</td>\n",
       "    </tr>\n",
       "    <tr>\n",
       "      <th>1</th>\n",
       "      <td>Male</td>\n",
       "      <td>0</td>\n",
       "      <td>No</td>\n",
       "      <td>No</td>\n",
       "      <td>34</td>\n",
       "      <td>Yes</td>\n",
       "      <td>No</td>\n",
       "      <td>DSL</td>\n",
       "      <td>Yes</td>\n",
       "      <td>No</td>\n",
       "      <td>Yes</td>\n",
       "      <td>No</td>\n",
       "      <td>No</td>\n",
       "      <td>No</td>\n",
       "      <td>One year</td>\n",
       "      <td>No</td>\n",
       "      <td>Mailed check</td>\n",
       "      <td>56.95</td>\n",
       "      <td>1889.5</td>\n",
       "      <td>No</td>\n",
       "    </tr>\n",
       "  </tbody>\n",
       "</table>\n",
       "</div>"
      ],
      "text/plain": [
       "   gender  SeniorCitizen Partner Dependents  tenure PhoneService  \\\n",
       "0  Female              0     Yes         No       1           No   \n",
       "1    Male              0      No         No      34          Yes   \n",
       "\n",
       "  MultipleLines InternetService OnlineSecurity OnlineBackup DeviceProtection  \\\n",
       "0            No             DSL             No          Yes               No   \n",
       "1            No             DSL            Yes           No              Yes   \n",
       "\n",
       "  TechSupport StreamingTV StreamingMovies        Contract PaperlessBilling  \\\n",
       "0          No          No              No  Month-to-month              Yes   \n",
       "1          No          No              No        One year               No   \n",
       "\n",
       "      PaymentMethod  MonthlyCharges TotalCharges Churn  \n",
       "0  Electronic check           29.85        29.85    No  \n",
       "1      Mailed check           56.95       1889.5    No  "
      ]
     },
     "execution_count": 11,
     "metadata": {},
     "output_type": "execute_result"
    }
   ],
   "source": [
    "df = df[df['TotalCharges']!=' ']\n",
    "df.head(2)"
   ]
  },
  {
   "cell_type": "code",
   "execution_count": 12,
   "metadata": {},
   "outputs": [
    {
     "data": {
      "text/plain": [
       "array([False])"
      ]
     },
     "execution_count": 12,
     "metadata": {},
     "output_type": "execute_result"
    }
   ],
   "source": [
    "df['TotalCharges'].isna().unique()"
   ]
  },
  {
   "cell_type": "code",
   "execution_count": 13,
   "metadata": {},
   "outputs": [
    {
     "name": "stdout",
     "output_type": "stream",
     "text": [
      "Col gender : ['Female' 'Male'] , dtype: object\n",
      "Col SeniorCitizen : [0 1] , dtype: int64\n",
      "Col Partner : ['Yes' 'No'] , dtype: object\n",
      "Col Dependents : ['No' 'Yes'] , dtype: object\n",
      "Col tenure : [ 1 34  2 45  8 22 10 28 62 13 16 58 49 25 69 52 71 21 12 30 47 72 17 27\n",
      "  5 46 11 70 63 43 15 60 18 66  9  3 31 50 64 56  7 42 35 48 29 65 38 68\n",
      " 32 55 37 36 41  6  4 33 67 23 57 61 14 20 53 40 59 24 44 19 54 51 26 39] , dtype: int64\n",
      "Col PhoneService : ['No' 'Yes'] , dtype: object\n",
      "Col MultipleLines : ['No' 'Yes'] , dtype: object\n",
      "Col InternetService : ['DSL' 'Fiber optic' 'No'] , dtype: object\n",
      "Col OnlineSecurity : ['No' 'Yes'] , dtype: object\n",
      "Col OnlineBackup : ['Yes' 'No'] , dtype: object\n",
      "Col DeviceProtection : ['No' 'Yes'] , dtype: object\n",
      "Col TechSupport : ['No' 'Yes'] , dtype: object\n",
      "Col StreamingTV : ['No' 'Yes'] , dtype: object\n",
      "Col StreamingMovies : ['No' 'Yes'] , dtype: object\n",
      "Col Contract : ['Month-to-month' 'One year' 'Two year'] , dtype: object\n",
      "Col PaperlessBilling : ['Yes' 'No'] , dtype: object\n",
      "Col PaymentMethod : ['Electronic check' 'Mailed check' 'Bank transfer (automatic)'\n",
      " 'Credit card (automatic)'] , dtype: object\n",
      "Col MonthlyCharges : [29.85 56.95 53.85 ... 63.1  44.2  78.7 ] , dtype: float64\n",
      "Col TotalCharges : [  29.85 1889.5   108.15 ...  346.45  306.6  6844.5 ] , dtype: float64\n",
      "Col Churn : ['No' 'Yes'] , dtype: object\n"
     ]
    }
   ],
   "source": [
    "df['TotalCharges'] = df['TotalCharges'].astype('float')\n",
    "tableData(df)"
   ]
  },
  {
   "cell_type": "markdown",
   "metadata": {},
   "source": [
    "But better would be to use pd.to_numeric(df.totalCharges)"
   ]
  },
  {
   "cell_type": "markdown",
   "metadata": {},
   "source": [
    "#### Lets check if any row has na or null value"
   ]
  },
  {
   "cell_type": "code",
   "execution_count": 14,
   "metadata": {},
   "outputs": [
    {
     "name": "stdout",
     "output_type": "stream",
     "text": [
      "Col: gender , na: [False] , null: [False] \n",
      "Col: SeniorCitizen , na: [False] , null: [False] \n",
      "Col: Partner , na: [False] , null: [False] \n",
      "Col: Dependents , na: [False] , null: [False] \n",
      "Col: tenure , na: [False] , null: [False] \n",
      "Col: PhoneService , na: [False] , null: [False] \n",
      "Col: MultipleLines , na: [False] , null: [False] \n",
      "Col: InternetService , na: [False] , null: [False] \n",
      "Col: OnlineSecurity , na: [False] , null: [False] \n",
      "Col: OnlineBackup , na: [False] , null: [False] \n",
      "Col: DeviceProtection , na: [False] , null: [False] \n",
      "Col: TechSupport , na: [False] , null: [False] \n",
      "Col: StreamingTV , na: [False] , null: [False] \n",
      "Col: StreamingMovies , na: [False] , null: [False] \n",
      "Col: Contract , na: [False] , null: [False] \n",
      "Col: PaperlessBilling , na: [False] , null: [False] \n",
      "Col: PaymentMethod , na: [False] , null: [False] \n",
      "Col: MonthlyCharges , na: [False] , null: [False] \n",
      "Col: TotalCharges , na: [False] , null: [False] \n",
      "Col: Churn , na: [False] , null: [False] \n"
     ]
    }
   ],
   "source": [
    "for col in df.columns:\n",
    "    naUnique = df[col].isna().unique()\n",
    "    nuUnique = df[col].isnull().unique()\n",
    "    print(f\"Col: {col} , na: {naUnique} , null: {nuUnique} \")"
   ]
  },
  {
   "cell_type": "markdown",
   "metadata": {},
   "source": [
    "### Now data is clean we should scale the data, encode and choose test "
   ]
  },
  {
   "cell_type": "code",
   "execution_count": 15,
   "metadata": {},
   "outputs": [
    {
     "name": "stdout",
     "output_type": "stream",
     "text": [
      "Col gender : ['Female' 'Male'] , dtype: object\n",
      "Col SeniorCitizen : [0 1] , dtype: int64\n",
      "Col Partner : ['Yes' 'No'] , dtype: object\n",
      "Col Dependents : ['No' 'Yes'] , dtype: object\n",
      "Col tenure : [ 1 34  2 45  8 22 10 28 62 13 16 58 49 25 69 52 71 21 12 30 47 72 17 27\n",
      "  5 46 11 70 63 43 15 60 18 66  9  3 31 50 64 56  7 42 35 48 29 65 38 68\n",
      " 32 55 37 36 41  6  4 33 67 23 57 61 14 20 53 40 59 24 44 19 54 51 26 39] , dtype: int64\n",
      "Col PhoneService : ['No' 'Yes'] , dtype: object\n",
      "Col MultipleLines : ['No' 'Yes'] , dtype: object\n",
      "Col InternetService : ['DSL' 'Fiber optic' 'No'] , dtype: object\n",
      "Col OnlineSecurity : ['No' 'Yes'] , dtype: object\n",
      "Col OnlineBackup : ['Yes' 'No'] , dtype: object\n",
      "Col DeviceProtection : ['No' 'Yes'] , dtype: object\n",
      "Col TechSupport : ['No' 'Yes'] , dtype: object\n",
      "Col StreamingTV : ['No' 'Yes'] , dtype: object\n",
      "Col StreamingMovies : ['No' 'Yes'] , dtype: object\n",
      "Col Contract : ['Month-to-month' 'One year' 'Two year'] , dtype: object\n",
      "Col PaperlessBilling : ['Yes' 'No'] , dtype: object\n",
      "Col PaymentMethod : ['Electronic check' 'Mailed check' 'Bank transfer (automatic)'\n",
      " 'Credit card (automatic)'] , dtype: object\n",
      "Col MonthlyCharges : [29.85 56.95 53.85 ... 63.1  44.2  78.7 ] , dtype: float64\n",
      "Col TotalCharges : [  29.85 1889.5   108.15 ...  346.45  306.6  6844.5 ] , dtype: float64\n",
      "Col Churn : ['No' 'Yes'] , dtype: object\n"
     ]
    }
   ],
   "source": [
    "tableData(df)"
   ]
  },
  {
   "cell_type": "code",
   "execution_count": 16,
   "metadata": {},
   "outputs": [],
   "source": [
    "df['gender'].replace({'Female':0, 'Male': 1},inplace=True)\n",
    "df['Partner'].replace({'Yes':1, 'No':0},inplace=True)\n",
    "df['Dependents'].replace({'Yes':1, 'No':0},inplace=True)\n",
    "df['PhoneService'].replace({'Yes':1, 'No':0},inplace=True)\n",
    "df['MultipleLines'].replace({'Yes':1, 'No':0},inplace=True)\n",
    "df['OnlineSecurity'].replace({'Yes':1, 'No':0},inplace=True)\n",
    "df['OnlineBackup'].replace({'Yes':1, 'No':0},inplace=True)\n",
    "df['DeviceProtection'].replace({'Yes':1, 'No':0},inplace=True)\n",
    "df['TechSupport'].replace({'Yes':1, 'No':0},inplace=True)\n",
    "df['StreamingTV'].replace({'Yes':1, 'No':0},inplace=True)\n",
    "df['StreamingMovies'].replace({'Yes':1, 'No':0},inplace=True)\n",
    "df['PaperlessBilling'].replace({'Yes':1, 'No':0},inplace=True)\n",
    "df['Churn'].replace({'Yes':1, 'No':0},inplace=True)"
   ]
  },
  {
   "cell_type": "code",
   "execution_count": 17,
   "metadata": {},
   "outputs": [
    {
     "name": "stdout",
     "output_type": "stream",
     "text": [
      "Col gender : [0 1] , dtype: int64\n",
      "Col SeniorCitizen : [0 1] , dtype: int64\n",
      "Col Partner : [1 0] , dtype: int64\n",
      "Col Dependents : [0 1] , dtype: int64\n",
      "Col tenure : [ 1 34  2 45  8 22 10 28 62 13 16 58 49 25 69 52 71 21 12 30 47 72 17 27\n",
      "  5 46 11 70 63 43 15 60 18 66  9  3 31 50 64 56  7 42 35 48 29 65 38 68\n",
      " 32 55 37 36 41  6  4 33 67 23 57 61 14 20 53 40 59 24 44 19 54 51 26 39] , dtype: int64\n",
      "Col PhoneService : [0 1] , dtype: int64\n",
      "Col MultipleLines : [0 1] , dtype: int64\n",
      "Col InternetService : ['DSL' 'Fiber optic' 'No'] , dtype: object\n",
      "Col OnlineSecurity : [0 1] , dtype: int64\n",
      "Col OnlineBackup : [1 0] , dtype: int64\n",
      "Col DeviceProtection : [0 1] , dtype: int64\n",
      "Col TechSupport : [0 1] , dtype: int64\n",
      "Col StreamingTV : [0 1] , dtype: int64\n",
      "Col StreamingMovies : [0 1] , dtype: int64\n",
      "Col Contract : ['Month-to-month' 'One year' 'Two year'] , dtype: object\n",
      "Col PaperlessBilling : [1 0] , dtype: int64\n",
      "Col PaymentMethod : ['Electronic check' 'Mailed check' 'Bank transfer (automatic)'\n",
      " 'Credit card (automatic)'] , dtype: object\n",
      "Col MonthlyCharges : [29.85 56.95 53.85 ... 63.1  44.2  78.7 ] , dtype: float64\n",
      "Col TotalCharges : [  29.85 1889.5   108.15 ...  346.45  306.6  6844.5 ] , dtype: float64\n",
      "Col Churn : [0 1] , dtype: int64\n"
     ]
    }
   ],
   "source": [
    "tableData(df)"
   ]
  },
  {
   "cell_type": "markdown",
   "metadata": {},
   "source": [
    "#### Before morphing data to machine format, lets just try to derive some meaning out of it"
   ]
  },
  {
   "cell_type": "code",
   "execution_count": 18,
   "metadata": {},
   "outputs": [
    {
     "data": {
      "text/plain": [
       "Text(0, 0.5, 'How many people')"
      ]
     },
     "execution_count": 18,
     "metadata": {},
     "output_type": "execute_result"
    },
    {
     "data": {
      "image/png": "[encoded data removed]",
      "text/plain": [
       "<Figure size 640x480 with 1 Axes>"
      ]
     },
     "metadata": {},
     "output_type": "display_data"
    }
   ],
   "source": [
    "Left = df[df['Churn']==1]\n",
    "Stayed = df[df['Churn']==0]\n",
    "\n",
    "plt.hist([Left.tenure,Stayed.tenure],color=['red','green'])\n",
    "plt.xlabel('Tenure')\n",
    "plt.ylabel('How many people')\n"
   ]
  },
  {
   "cell_type": "code",
   "execution_count": 19,
   "metadata": {},
   "outputs": [
    {
     "data": {
      "text/plain": [
       "Text(0, 0.5, 'Number of people')"
      ]
     },
     "execution_count": 19,
     "metadata": {},
     "output_type": "execute_result"
    },
    {
     "data": {
      "image/png": "[encoded data removed]",
      "text/plain": [
       "<Figure size 640x480 with 1 Axes>"
      ]
     },
     "metadata": {},
     "output_type": "display_data"
    }
   ],
   "source": [
    "plt.hist([Left.MonthlyCharges,Stayed.MonthlyCharges],color=['red','green'])\n",
    "plt.xlabel('charges')\n",
    "plt.ylabel('Number of people')"
   ]
  },
  {
   "cell_type": "code",
   "execution_count": 20,
   "metadata": {},
   "outputs": [
    {
     "data": {
      "text/plain": [
       "Text(0, 0.5, 'Number of people')"
      ]
     },
     "execution_count": 20,
     "metadata": {},
     "output_type": "execute_result"
    },
    {
     "data": {
      "image/png": "[encoded data removed]",
      "text/plain": [
       "<Figure size 640x480 with 1 Axes>"
      ]
     },
     "metadata": {},
     "output_type": "display_data"
    }
   ],
   "source": [
    "plt.hist([Left.TotalCharges,Stayed.TotalCharges],color=['red','green'])\n",
    "plt.xlabel('charges')\n",
    "plt.ylabel('Number of people')"
   ]
  },
  {
   "cell_type": "code",
   "execution_count": 21,
   "metadata": {},
   "outputs": [],
   "source": [
    "from sklearn.model_selection import train_test_split\n",
    "from sklearn.preprocessing import MinMaxScaler"
   ]
  },
  {
   "cell_type": "code",
   "execution_count": 22,
   "metadata": {},
   "outputs": [
    {
     "name": "stdout",
     "output_type": "stream",
     "text": [
      "Col gender : [0 1] , dtype: int64\n",
      "Col SeniorCitizen : [0 1] , dtype: int64\n",
      "Col Partner : [1 0] , dtype: int64\n",
      "Col Dependents : [0 1] , dtype: int64\n",
      "Col tenure : [0.         0.46478873 0.01408451 0.61971831 0.09859155 0.29577465\n",
      " 0.12676056 0.38028169 0.85915493 0.16901408 0.21126761 0.8028169\n",
      " 0.67605634 0.33802817 0.95774648 0.71830986 0.98591549 0.28169014\n",
      " 0.15492958 0.4084507  0.64788732 1.         0.22535211 0.36619718\n",
      " 0.05633803 0.63380282 0.14084507 0.97183099 0.87323944 0.5915493\n",
      " 0.1971831  0.83098592 0.23943662 0.91549296 0.11267606 0.02816901\n",
      " 0.42253521 0.69014085 0.88732394 0.77464789 0.08450704 0.57746479\n",
      " 0.47887324 0.66197183 0.3943662  0.90140845 0.52112676 0.94366197\n",
      " 0.43661972 0.76056338 0.50704225 0.49295775 0.56338028 0.07042254\n",
      " 0.04225352 0.45070423 0.92957746 0.30985915 0.78873239 0.84507042\n",
      " 0.18309859 0.26760563 0.73239437 0.54929577 0.81690141 0.32394366\n",
      " 0.6056338  0.25352113 0.74647887 0.70422535 0.35211268 0.53521127] , dtype: float64\n",
      "Col PhoneService : [0 1] , dtype: int64\n",
      "Col MultipleLines : [0 1] , dtype: int64\n",
      "Col InternetService : ['DSL' 'Fiber optic' 'No'] , dtype: object\n",
      "Col OnlineSecurity : [0 1] , dtype: int64\n",
      "Col OnlineBackup : [1 0] , dtype: int64\n",
      "Col DeviceProtection : [0 1] , dtype: int64\n",
      "Col TechSupport : [0 1] , dtype: int64\n",
      "Col StreamingTV : [0 1] , dtype: int64\n",
      "Col StreamingMovies : [0 1] , dtype: int64\n",
      "Col Contract : ['Month-to-month' 'One year' 'Two year'] , dtype: object\n",
      "Col PaperlessBilling : [1 0] , dtype: int64\n",
      "Col PaymentMethod : ['Electronic check' 'Mailed check' 'Bank transfer (automatic)'\n",
      " 'Credit card (automatic)'] , dtype: object\n",
      "Col MonthlyCharges : [0.11542289 0.38507463 0.35422886 ... 0.44626866 0.25820896 0.60149254] , dtype: float64\n",
      "Col TotalCharges : [0.0012751  0.21586661 0.01031041 ... 0.03780868 0.03321025 0.78764136] , dtype: float64\n",
      "Col Churn : [0 1] , dtype: int64\n"
     ]
    }
   ],
   "source": [
    "MmScaler = MinMaxScaler()\n",
    "df1 = df\n",
    "df1[['tenure','MonthlyCharges','TotalCharges']] = MmScaler.fit_transform(df[['tenure','MonthlyCharges','TotalCharges']])\n",
    "tableData(df1)"
   ]
  },
  {
   "cell_type": "code",
   "execution_count": 23,
   "metadata": {},
   "outputs": [
    {
     "data": {
      "text/html": [
       "<div>\n",
       "<style scoped>\n",
       "    .dataframe tbody tr th:only-of-type {\n",
       "        vertical-align: middle;\n",
       "    }\n",
       "\n",
       "    .dataframe tbody tr th {\n",
       "        vertical-align: top;\n",
       "    }\n",
       "\n",
       "    .dataframe thead th {\n",
       "        text-align: right;\n",
       "    }\n",
       "</style>\n",
       "<table border=\"1\" class=\"dataframe\">\n",
       "  <thead>\n",
       "    <tr style=\"text-align: right;\">\n",
       "      <th></th>\n",
       "      <th>InternetService_DSL</th>\n",
       "      <th>InternetService_Fiber optic</th>\n",
       "      <th>InternetService_No</th>\n",
       "      <th>Contract_Month-to-month</th>\n",
       "      <th>Contract_One year</th>\n",
       "      <th>Contract_Two year</th>\n",
       "      <th>PaymentMethod_Bank transfer (automatic)</th>\n",
       "      <th>PaymentMethod_Credit card (automatic)</th>\n",
       "      <th>PaymentMethod_Electronic check</th>\n",
       "      <th>PaymentMethod_Mailed check</th>\n",
       "    </tr>\n",
       "  </thead>\n",
       "  <tbody>\n",
       "    <tr>\n",
       "      <th>0</th>\n",
       "      <td>1</td>\n",
       "      <td>0</td>\n",
       "      <td>0</td>\n",
       "      <td>1</td>\n",
       "      <td>0</td>\n",
       "      <td>0</td>\n",
       "      <td>0</td>\n",
       "      <td>0</td>\n",
       "      <td>1</td>\n",
       "      <td>0</td>\n",
       "    </tr>\n",
       "    <tr>\n",
       "      <th>1</th>\n",
       "      <td>1</td>\n",
       "      <td>0</td>\n",
       "      <td>0</td>\n",
       "      <td>0</td>\n",
       "      <td>1</td>\n",
       "      <td>0</td>\n",
       "      <td>0</td>\n",
       "      <td>0</td>\n",
       "      <td>0</td>\n",
       "      <td>1</td>\n",
       "    </tr>\n",
       "    <tr>\n",
       "      <th>2</th>\n",
       "      <td>1</td>\n",
       "      <td>0</td>\n",
       "      <td>0</td>\n",
       "      <td>1</td>\n",
       "      <td>0</td>\n",
       "      <td>0</td>\n",
       "      <td>0</td>\n",
       "      <td>0</td>\n",
       "      <td>0</td>\n",
       "      <td>1</td>\n",
       "    </tr>\n",
       "    <tr>\n",
       "      <th>3</th>\n",
       "      <td>1</td>\n",
       "      <td>0</td>\n",
       "      <td>0</td>\n",
       "      <td>0</td>\n",
       "      <td>1</td>\n",
       "      <td>0</td>\n",
       "      <td>1</td>\n",
       "      <td>0</td>\n",
       "      <td>0</td>\n",
       "      <td>0</td>\n",
       "    </tr>\n",
       "    <tr>\n",
       "      <th>4</th>\n",
       "      <td>0</td>\n",
       "      <td>1</td>\n",
       "      <td>0</td>\n",
       "      <td>1</td>\n",
       "      <td>0</td>\n",
       "      <td>0</td>\n",
       "      <td>0</td>\n",
       "      <td>0</td>\n",
       "      <td>1</td>\n",
       "      <td>0</td>\n",
       "    </tr>\n",
       "    <tr>\n",
       "      <th>...</th>\n",
       "      <td>...</td>\n",
       "      <td>...</td>\n",
       "      <td>...</td>\n",
       "      <td>...</td>\n",
       "      <td>...</td>\n",
       "      <td>...</td>\n",
       "      <td>...</td>\n",
       "      <td>...</td>\n",
       "      <td>...</td>\n",
       "      <td>...</td>\n",
       "    </tr>\n",
       "    <tr>\n",
       "      <th>7038</th>\n",
       "      <td>1</td>\n",
       "      <td>0</td>\n",
       "      <td>0</td>\n",
       "      <td>0</td>\n",
       "      <td>1</td>\n",
       "      <td>0</td>\n",
       "      <td>0</td>\n",
       "      <td>0</td>\n",
       "      <td>0</td>\n",
       "      <td>1</td>\n",
       "    </tr>\n",
       "    <tr>\n",
       "      <th>7039</th>\n",
       "      <td>0</td>\n",
       "      <td>1</td>\n",
       "      <td>0</td>\n",
       "      <td>0</td>\n",
       "      <td>1</td>\n",
       "      <td>0</td>\n",
       "      <td>0</td>\n",
       "      <td>1</td>\n",
       "      <td>0</td>\n",
       "      <td>0</td>\n",
       "    </tr>\n",
       "    <tr>\n",
       "      <th>7040</th>\n",
       "      <td>1</td>\n",
       "      <td>0</td>\n",
       "      <td>0</td>\n",
       "      <td>1</td>\n",
       "      <td>0</td>\n",
       "      <td>0</td>\n",
       "      <td>0</td>\n",
       "      <td>0</td>\n",
       "      <td>1</td>\n",
       "      <td>0</td>\n",
       "    </tr>\n",
       "    <tr>\n",
       "      <th>7041</th>\n",
       "      <td>0</td>\n",
       "      <td>1</td>\n",
       "      <td>0</td>\n",
       "      <td>1</td>\n",
       "      <td>0</td>\n",
       "      <td>0</td>\n",
       "      <td>0</td>\n",
       "      <td>0</td>\n",
       "      <td>0</td>\n",
       "      <td>1</td>\n",
       "    </tr>\n",
       "    <tr>\n",
       "      <th>7042</th>\n",
       "      <td>0</td>\n",
       "      <td>1</td>\n",
       "      <td>0</td>\n",
       "      <td>0</td>\n",
       "      <td>0</td>\n",
       "      <td>1</td>\n",
       "      <td>1</td>\n",
       "      <td>0</td>\n",
       "      <td>0</td>\n",
       "      <td>0</td>\n",
       "    </tr>\n",
       "  </tbody>\n",
       "</table>\n",
       "<p>7032 rows × 10 columns</p>\n",
       "</div>"
      ],
      "text/plain": [
       "      InternetService_DSL  InternetService_Fiber optic  InternetService_No  \\\n",
       "0                       1                            0                   0   \n",
       "1                       1                            0                   0   \n",
       "2                       1                            0                   0   \n",
       "3                       1                            0                   0   \n",
       "4                       0                            1                   0   \n",
       "...                   ...                          ...                 ...   \n",
       "7038                    1                            0                   0   \n",
       "7039                    0                            1                   0   \n",
       "7040                    1                            0                   0   \n",
       "7041                    0                            1                   0   \n",
       "7042                    0                            1                   0   \n",
       "\n",
       "      Contract_Month-to-month  Contract_One year  Contract_Two year  \\\n",
       "0                           1                  0                  0   \n",
       "1                           0                  1                  0   \n",
       "2                           1                  0                  0   \n",
       "3                           0                  1                  0   \n",
       "4                           1                  0                  0   \n",
       "...                       ...                ...                ...   \n",
       "7038                        0                  1                  0   \n",
       "7039                        0                  1                  0   \n",
       "7040                        1                  0                  0   \n",
       "7041                        1                  0                  0   \n",
       "7042                        0                  0                  1   \n",
       "\n",
       "      PaymentMethod_Bank transfer (automatic)  \\\n",
       "0                                           0   \n",
       "1                                           0   \n",
       "2                                           0   \n",
       "3                                           1   \n",
       "4                                           0   \n",
       "...                                       ...   \n",
       "7038                                        0   \n",
       "7039                                        0   \n",
       "7040                                        0   \n",
       "7041                                        0   \n",
       "7042                                        1   \n",
       "\n",
       "      PaymentMethod_Credit card (automatic)  PaymentMethod_Electronic check  \\\n",
       "0                                         0                               1   \n",
       "1                                         0                               0   \n",
       "2                                         0                               0   \n",
       "3                                         0                               0   \n",
       "4                                         0                               1   \n",
       "...                                     ...                             ...   \n",
       "7038                                      0                               0   \n",
       "7039                                      1                               0   \n",
       "7040                                      0                               1   \n",
       "7041                                      0                               0   \n",
       "7042                                      0                               0   \n",
       "\n",
       "      PaymentMethod_Mailed check  \n",
       "0                              0  \n",
       "1                              1  \n",
       "2                              1  \n",
       "3                              0  \n",
       "4                              0  \n",
       "...                          ...  \n",
       "7038                           1  \n",
       "7039                           0  \n",
       "7040                           0  \n",
       "7041                           1  \n",
       "7042                           0  \n",
       "\n",
       "[7032 rows x 10 columns]"
      ]
     },
     "execution_count": 23,
     "metadata": {},
     "output_type": "execute_result"
    }
   ],
   "source": [
    "encodeCols = ['InternetService','Contract','PaymentMethod']\n",
    "OneHotEncoded = pd.get_dummies(df[encodeCols],dtype='int')\n",
    "OneHotEncoded"
   ]
  },
  {
   "cell_type": "code",
   "execution_count": 24,
   "metadata": {},
   "outputs": [
    {
     "data": {
      "text/html": [
       "<div>\n",
       "<style scoped>\n",
       "    .dataframe tbody tr th:only-of-type {\n",
       "        vertical-align: middle;\n",
       "    }\n",
       "\n",
       "    .dataframe tbody tr th {\n",
       "        vertical-align: top;\n",
       "    }\n",
       "\n",
       "    .dataframe thead th {\n",
       "        text-align: right;\n",
       "    }\n",
       "</style>\n",
       "<table border=\"1\" class=\"dataframe\">\n",
       "  <thead>\n",
       "    <tr style=\"text-align: right;\">\n",
       "      <th></th>\n",
       "      <th>gender</th>\n",
       "      <th>SeniorCitizen</th>\n",
       "      <th>Partner</th>\n",
       "      <th>Dependents</th>\n",
       "      <th>tenure</th>\n",
       "      <th>PhoneService</th>\n",
       "      <th>MultipleLines</th>\n",
       "      <th>InternetService</th>\n",
       "      <th>OnlineSecurity</th>\n",
       "      <th>OnlineBackup</th>\n",
       "      <th>...</th>\n",
       "      <th>InternetService_DSL</th>\n",
       "      <th>InternetService_Fiber optic</th>\n",
       "      <th>InternetService_No</th>\n",
       "      <th>Contract_Month-to-month</th>\n",
       "      <th>Contract_One year</th>\n",
       "      <th>Contract_Two year</th>\n",
       "      <th>PaymentMethod_Bank transfer (automatic)</th>\n",
       "      <th>PaymentMethod_Credit card (automatic)</th>\n",
       "      <th>PaymentMethod_Electronic check</th>\n",
       "      <th>PaymentMethod_Mailed check</th>\n",
       "    </tr>\n",
       "  </thead>\n",
       "  <tbody>\n",
       "    <tr>\n",
       "      <th>3234</th>\n",
       "      <td>0</td>\n",
       "      <td>0</td>\n",
       "      <td>1</td>\n",
       "      <td>1</td>\n",
       "      <td>0.323944</td>\n",
       "      <td>1</td>\n",
       "      <td>0</td>\n",
       "      <td>No</td>\n",
       "      <td>0</td>\n",
       "      <td>0</td>\n",
       "      <td>...</td>\n",
       "      <td>0</td>\n",
       "      <td>0</td>\n",
       "      <td>1</td>\n",
       "      <td>0</td>\n",
       "      <td>0</td>\n",
       "      <td>1</td>\n",
       "      <td>0</td>\n",
       "      <td>0</td>\n",
       "      <td>0</td>\n",
       "      <td>1</td>\n",
       "    </tr>\n",
       "    <tr>\n",
       "      <th>6417</th>\n",
       "      <td>0</td>\n",
       "      <td>1</td>\n",
       "      <td>1</td>\n",
       "      <td>0</td>\n",
       "      <td>0.704225</td>\n",
       "      <td>1</td>\n",
       "      <td>1</td>\n",
       "      <td>Fiber optic</td>\n",
       "      <td>1</td>\n",
       "      <td>0</td>\n",
       "      <td>...</td>\n",
       "      <td>0</td>\n",
       "      <td>1</td>\n",
       "      <td>0</td>\n",
       "      <td>1</td>\n",
       "      <td>0</td>\n",
       "      <td>0</td>\n",
       "      <td>0</td>\n",
       "      <td>0</td>\n",
       "      <td>1</td>\n",
       "      <td>0</td>\n",
       "    </tr>\n",
       "  </tbody>\n",
       "</table>\n",
       "<p>2 rows × 30 columns</p>\n",
       "</div>"
      ],
      "text/plain": [
       "      gender  SeniorCitizen  Partner  Dependents    tenure  PhoneService  \\\n",
       "3234       0              0        1           1  0.323944             1   \n",
       "6417       0              1        1           0  0.704225             1   \n",
       "\n",
       "      MultipleLines InternetService  OnlineSecurity  OnlineBackup  ...  \\\n",
       "3234              0              No               0             0  ...   \n",
       "6417              1     Fiber optic               1             0  ...   \n",
       "\n",
       "      InternetService_DSL  InternetService_Fiber optic  InternetService_No  \\\n",
       "3234                    0                            0                   1   \n",
       "6417                    0                            1                   0   \n",
       "\n",
       "      Contract_Month-to-month Contract_One year  Contract_Two year  \\\n",
       "3234                        0                 0                  1   \n",
       "6417                        1                 0                  0   \n",
       "\n",
       "     PaymentMethod_Bank transfer (automatic)  \\\n",
       "3234                                       0   \n",
       "6417                                       0   \n",
       "\n",
       "      PaymentMethod_Credit card (automatic)  PaymentMethod_Electronic check  \\\n",
       "3234                                      0                               0   \n",
       "6417                                      0                               1   \n",
       "\n",
       "      PaymentMethod_Mailed check  \n",
       "3234                           1  \n",
       "6417                           0  \n",
       "\n",
       "[2 rows x 30 columns]"
      ]
     },
     "execution_count": 24,
     "metadata": {},
     "output_type": "execute_result"
    }
   ],
   "source": [
    "df2 = pd.concat([df,OneHotEncoded],axis='columns')\n",
    "df2.sample(2)"
   ]
  },
  {
   "cell_type": "code",
   "execution_count": 25,
   "metadata": {},
   "outputs": [
    {
     "data": {
      "text/html": [
       "<div>\n",
       "<style scoped>\n",
       "    .dataframe tbody tr th:only-of-type {\n",
       "        vertical-align: middle;\n",
       "    }\n",
       "\n",
       "    .dataframe tbody tr th {\n",
       "        vertical-align: top;\n",
       "    }\n",
       "\n",
       "    .dataframe thead th {\n",
       "        text-align: right;\n",
       "    }\n",
       "</style>\n",
       "<table border=\"1\" class=\"dataframe\">\n",
       "  <thead>\n",
       "    <tr style=\"text-align: right;\">\n",
       "      <th></th>\n",
       "      <th>gender</th>\n",
       "      <th>SeniorCitizen</th>\n",
       "      <th>Partner</th>\n",
       "      <th>Dependents</th>\n",
       "      <th>tenure</th>\n",
       "      <th>PhoneService</th>\n",
       "      <th>MultipleLines</th>\n",
       "      <th>OnlineSecurity</th>\n",
       "      <th>OnlineBackup</th>\n",
       "      <th>DeviceProtection</th>\n",
       "      <th>...</th>\n",
       "      <th>InternetService_DSL</th>\n",
       "      <th>InternetService_Fiber optic</th>\n",
       "      <th>InternetService_No</th>\n",
       "      <th>Contract_Month-to-month</th>\n",
       "      <th>Contract_One year</th>\n",
       "      <th>Contract_Two year</th>\n",
       "      <th>PaymentMethod_Bank transfer (automatic)</th>\n",
       "      <th>PaymentMethod_Credit card (automatic)</th>\n",
       "      <th>PaymentMethod_Electronic check</th>\n",
       "      <th>PaymentMethod_Mailed check</th>\n",
       "    </tr>\n",
       "  </thead>\n",
       "  <tbody>\n",
       "    <tr>\n",
       "      <th>215</th>\n",
       "      <td>0</td>\n",
       "      <td>0</td>\n",
       "      <td>1</td>\n",
       "      <td>0</td>\n",
       "      <td>0.788732</td>\n",
       "      <td>0</td>\n",
       "      <td>0</td>\n",
       "      <td>1</td>\n",
       "      <td>1</td>\n",
       "      <td>1</td>\n",
       "      <td>...</td>\n",
       "      <td>1</td>\n",
       "      <td>0</td>\n",
       "      <td>0</td>\n",
       "      <td>1</td>\n",
       "      <td>0</td>\n",
       "      <td>0</td>\n",
       "      <td>1</td>\n",
       "      <td>0</td>\n",
       "      <td>0</td>\n",
       "      <td>0</td>\n",
       "    </tr>\n",
       "    <tr>\n",
       "      <th>733</th>\n",
       "      <td>0</td>\n",
       "      <td>0</td>\n",
       "      <td>1</td>\n",
       "      <td>1</td>\n",
       "      <td>1.000000</td>\n",
       "      <td>1</td>\n",
       "      <td>1</td>\n",
       "      <td>1</td>\n",
       "      <td>0</td>\n",
       "      <td>0</td>\n",
       "      <td>...</td>\n",
       "      <td>0</td>\n",
       "      <td>1</td>\n",
       "      <td>0</td>\n",
       "      <td>0</td>\n",
       "      <td>0</td>\n",
       "      <td>1</td>\n",
       "      <td>1</td>\n",
       "      <td>0</td>\n",
       "      <td>0</td>\n",
       "      <td>0</td>\n",
       "    </tr>\n",
       "  </tbody>\n",
       "</table>\n",
       "<p>2 rows × 27 columns</p>\n",
       "</div>"
      ],
      "text/plain": [
       "     gender  SeniorCitizen  Partner  Dependents    tenure  PhoneService  \\\n",
       "215       0              0        1           0  0.788732             0   \n",
       "733       0              0        1           1  1.000000             1   \n",
       "\n",
       "     MultipleLines  OnlineSecurity  OnlineBackup  DeviceProtection  ...  \\\n",
       "215              0               1             1                 1  ...   \n",
       "733              1               1             0                 0  ...   \n",
       "\n",
       "     InternetService_DSL  InternetService_Fiber optic  InternetService_No  \\\n",
       "215                    1                            0                   0   \n",
       "733                    0                            1                   0   \n",
       "\n",
       "     Contract_Month-to-month  Contract_One year  Contract_Two year  \\\n",
       "215                        1                  0                  0   \n",
       "733                        0                  0                  1   \n",
       "\n",
       "     PaymentMethod_Bank transfer (automatic)  \\\n",
       "215                                        1   \n",
       "733                                        1   \n",
       "\n",
       "     PaymentMethod_Credit card (automatic)  PaymentMethod_Electronic check  \\\n",
       "215                                      0                               0   \n",
       "733                                      0                               0   \n",
       "\n",
       "     PaymentMethod_Mailed check  \n",
       "215                           0  \n",
       "733                           0  \n",
       "\n",
       "[2 rows x 27 columns]"
      ]
     },
     "execution_count": 25,
     "metadata": {},
     "output_type": "execute_result"
    }
   ],
   "source": [
    "df2.drop(encodeCols,axis='columns',inplace=True)\n",
    "df2.sample(2)"
   ]
  },
  {
   "cell_type": "code",
   "execution_count": 26,
   "metadata": {},
   "outputs": [
    {
     "data": {
      "text/plain": [
       "(Index(['gender', 'SeniorCitizen', 'Partner', 'Dependents', 'tenure',\n",
       "        'PhoneService', 'MultipleLines', 'OnlineSecurity', 'OnlineBackup',\n",
       "        'DeviceProtection', 'TechSupport', 'StreamingTV', 'StreamingMovies',\n",
       "        'PaperlessBilling', 'MonthlyCharges', 'TotalCharges',\n",
       "        'InternetService_DSL', 'InternetService_Fiber optic',\n",
       "        'InternetService_No', 'Contract_Month-to-month', 'Contract_One year',\n",
       "        'Contract_Two year', 'PaymentMethod_Bank transfer (automatic)',\n",
       "        'PaymentMethod_Credit card (automatic)',\n",
       "        'PaymentMethod_Electronic check', 'PaymentMethod_Mailed check'],\n",
       "       dtype='object'),\n",
       " '\\n',\n",
       " Index(['Churn'], dtype='object'))"
      ]
     },
     "execution_count": 26,
     "metadata": {},
     "output_type": "execute_result"
    }
   ],
   "source": [
    "X = df2.drop(['Churn'],axis='columns')\n",
    "Y = df2[['Churn']]\n",
    "X.columns , '\\n' , Y.columns"
   ]
  },
  {
   "cell_type": "code",
   "execution_count": 27,
   "metadata": {},
   "outputs": [
    {
     "data": {
      "text/plain": [
       "((5625, 26), (1407, 26), (5625, 1), (1407, 1))"
      ]
     },
     "execution_count": 27,
     "metadata": {},
     "output_type": "execute_result"
    }
   ],
   "source": [
    "X_train, X_test, y_train, y_test = train_test_split(X,Y,test_size=0.2,random_state=5)\n",
    "\n",
    "X_train.shape, X_test.shape, y_train.shape, y_test.shape"
   ]
  },
  {
   "cell_type": "code",
   "execution_count": 28,
   "metadata": {},
   "outputs": [
    {
     "name": "stderr",
     "output_type": "stream",
     "text": [
      "2024-01-03 23:18:17.592740: I external/local_xla/xla/stream_executor/cuda/cuda_executor.cc:887] could not open file to read NUMA node: /sys/bus/pci/devices/0000:01:00.0/numa_node\n",
      "Your kernel may have been built without NUMA support.\n",
      "2024-01-03 23:18:17.815624: I external/local_xla/xla/stream_executor/cuda/cuda_executor.cc:887] could not open file to read NUMA node: /sys/bus/pci/devices/0000:01:00.0/numa_node\n",
      "Your kernel may have been built without NUMA support.\n",
      "2024-01-03 23:18:17.815711: I external/local_xla/xla/stream_executor/cuda/cuda_executor.cc:887] could not open file to read NUMA node: /sys/bus/pci/devices/0000:01:00.0/numa_node\n",
      "Your kernel may have been built without NUMA support.\n",
      "2024-01-03 23:18:17.819097: I external/local_xla/xla/stream_executor/cuda/cuda_executor.cc:887] could not open file to read NUMA node: /sys/bus/pci/devices/0000:01:00.0/numa_node\n",
      "Your kernel may have been built without NUMA support.\n",
      "2024-01-03 23:18:17.819196: I external/local_xla/xla/stream_executor/cuda/cuda_executor.cc:887] could not open file to read NUMA node: /sys/bus/pci/devices/0000:01:00.0/numa_node\n",
      "Your kernel may have been built without NUMA support.\n",
      "2024-01-03 23:18:17.819249: I external/local_xla/xla/stream_executor/cuda/cuda_executor.cc:887] could not open file to read NUMA node: /sys/bus/pci/devices/0000:01:00.0/numa_node\n",
      "Your kernel may have been built without NUMA support.\n",
      "2024-01-03 23:18:18.328542: I external/local_xla/xla/stream_executor/cuda/cuda_executor.cc:887] could not open file to read NUMA node: /sys/bus/pci/devices/0000:01:00.0/numa_node\n",
      "Your kernel may have been built without NUMA support.\n",
      "2024-01-03 23:18:18.328641: I external/local_xla/xla/stream_executor/cuda/cuda_executor.cc:887] could not open file to read NUMA node: /sys/bus/pci/devices/0000:01:00.0/numa_node\n",
      "Your kernel may have been built without NUMA support.\n",
      "2024-01-03 23:18:18.328653: I tensorflow/core/common_runtime/gpu/gpu_device.cc:2022] Could not identify NUMA node of platform GPU id 0, defaulting to 0.  Your kernel may not have been built with NUMA support.\n",
      "2024-01-03 23:18:18.328718: I external/local_xla/xla/stream_executor/cuda/cuda_executor.cc:887] could not open file to read NUMA node: /sys/bus/pci/devices/0000:01:00.0/numa_node\n",
      "Your kernel may have been built without NUMA support.\n",
      "2024-01-03 23:18:18.328743: I tensorflow/core/common_runtime/gpu/gpu_device.cc:1929] Created device /job:localhost/replica:0/task:0/device:GPU:0 with 2258 MB memory:  -> device: 0, name: NVIDIA GeForce GTX 1650 Ti, pci bus id: 0000:01:00.0, compute capability: 7.5\n"
     ]
    }
   ],
   "source": [
    "model = keras.Sequential([\n",
    "    keras.layers.Dense(26,input_shape=(26,),activation='relu'),\n",
    "    keras.layers.Dense(1,activation='sigmoid')\n",
    "])"
   ]
  },
  {
   "cell_type": "code",
   "execution_count": 29,
   "metadata": {},
   "outputs": [
    {
     "name": "stdout",
     "output_type": "stream",
     "text": [
      "Epoch 1/200\n"
     ]
    },
    {
     "name": "stderr",
     "output_type": "stream",
     "text": [
      "2024-01-03 23:18:20.623872: I external/local_xla/xla/service/service.cc:168] XLA service 0x7f34f83f4310 initialized for platform CUDA (this does not guarantee that XLA will be used). Devices:\n",
      "2024-01-03 23:18:20.623939: I external/local_xla/xla/service/service.cc:176]   StreamExecutor device (0): NVIDIA GeForce GTX 1650 Ti, Compute Capability 7.5\n",
      "2024-01-03 23:18:20.644376: I tensorflow/compiler/mlir/tensorflow/utils/dump_mlir_util.cc:269] disabling MLIR crash reproducer, set env var `MLIR_CRASH_REPRODUCER_DIRECTORY` to enable.\n",
      "2024-01-03 23:18:20.702301: I external/local_xla/xla/stream_executor/cuda/cuda_dnn.cc:454] Loaded cuDNN version 8904\n",
      "WARNING: All log messages before absl::InitializeLog() is called are written to STDERR\n",
      "I0000 00:00:1704304100.810234    1653 device_compiler.h:186] Compiled cluster using XLA!  This line is logged at most once for the lifetime of the process.\n"
     ]
    },
    {
     "name": "stdout",
     "output_type": "stream",
     "text": [
      "176/176 [==============================] - 4s 12ms/step - loss: 0.5104 - accuracy: 0.7429\n",
      "Epoch 2/200\n",
      "176/176 [==============================] - 2s 11ms/step - loss: 0.4326 - accuracy: 0.7925\n",
      "Epoch 3/200\n",
      "176/176 [==============================] - 2s 12ms/step - loss: 0.4219 - accuracy: 0.7986\n",
      "Epoch 4/200\n",
      "176/176 [==============================] - 2s 12ms/step - loss: 0.4176 - accuracy: 0.8016\n",
      "Epoch 5/200\n",
      "176/176 [==============================] - 2s 11ms/step - loss: 0.4149 - accuracy: 0.8041\n",
      "Epoch 6/200\n",
      "176/176 [==============================] - 2s 11ms/step - loss: 0.4134 - accuracy: 0.8044\n",
      "Epoch 7/200\n",
      "176/176 [==============================] - 2s 11ms/step - loss: 0.4117 - accuracy: 0.8055\n",
      "Epoch 8/200\n",
      "176/176 [==============================] - 2s 10ms/step - loss: 0.4100 - accuracy: 0.8062\n",
      "Epoch 9/200\n",
      "176/176 [==============================] - 2s 11ms/step - loss: 0.4096 - accuracy: 0.8062\n",
      "Epoch 10/200\n",
      "176/176 [==============================] - 2s 12ms/step - loss: 0.4083 - accuracy: 0.8087\n",
      "Epoch 11/200\n",
      "176/176 [==============================] - 2s 10ms/step - loss: 0.4077 - accuracy: 0.8075\n",
      "Epoch 12/200\n",
      "176/176 [==============================] - 2s 10ms/step - loss: 0.4077 - accuracy: 0.8116\n",
      "Epoch 13/200\n",
      "176/176 [==============================] - 2s 10ms/step - loss: 0.4063 - accuracy: 0.8073\n",
      "Epoch 14/200\n",
      "176/176 [==============================] - 2s 10ms/step - loss: 0.4048 - accuracy: 0.8130\n",
      "Epoch 15/200\n",
      "176/176 [==============================] - 2s 10ms/step - loss: 0.4043 - accuracy: 0.8123\n",
      "Epoch 16/200\n",
      "176/176 [==============================] - 2s 10ms/step - loss: 0.4035 - accuracy: 0.8128\n",
      "Epoch 17/200\n",
      "176/176 [==============================] - 2s 10ms/step - loss: 0.4031 - accuracy: 0.8108\n",
      "Epoch 18/200\n",
      "176/176 [==============================] - 2s 10ms/step - loss: 0.4029 - accuracy: 0.8149\n",
      "Epoch 19/200\n",
      "176/176 [==============================] - 2s 10ms/step - loss: 0.4015 - accuracy: 0.8153\n",
      "Epoch 20/200\n",
      "176/176 [==============================] - 2s 10ms/step - loss: 0.4015 - accuracy: 0.8149\n",
      "Epoch 21/200\n",
      "176/176 [==============================] - 2s 9ms/step - loss: 0.4013 - accuracy: 0.8110\n",
      "Epoch 22/200\n",
      "176/176 [==============================] - 2s 10ms/step - loss: 0.4004 - accuracy: 0.8144\n",
      "Epoch 23/200\n",
      "176/176 [==============================] - 2s 9ms/step - loss: 0.4003 - accuracy: 0.8135\n",
      "Epoch 24/200\n",
      "176/176 [==============================] - 2s 10ms/step - loss: 0.3998 - accuracy: 0.8137\n",
      "Epoch 25/200\n",
      "176/176 [==============================] - 2s 11ms/step - loss: 0.3992 - accuracy: 0.8146\n",
      "Epoch 26/200\n",
      "176/176 [==============================] - 2s 10ms/step - loss: 0.3981 - accuracy: 0.8155\n",
      "Epoch 27/200\n",
      "176/176 [==============================] - 2s 10ms/step - loss: 0.3974 - accuracy: 0.8176\n",
      "Epoch 28/200\n",
      "176/176 [==============================] - 2s 10ms/step - loss: 0.3972 - accuracy: 0.8162\n",
      "Epoch 29/200\n",
      "176/176 [==============================] - 2s 11ms/step - loss: 0.3967 - accuracy: 0.8178\n",
      "Epoch 30/200\n",
      "176/176 [==============================] - 2s 11ms/step - loss: 0.3966 - accuracy: 0.8180\n",
      "Epoch 31/200\n",
      "176/176 [==============================] - 2s 9ms/step - loss: 0.3965 - accuracy: 0.8158\n",
      "Epoch 32/200\n",
      "176/176 [==============================] - 2s 10ms/step - loss: 0.3958 - accuracy: 0.8139\n",
      "Epoch 33/200\n",
      "176/176 [==============================] - 2s 10ms/step - loss: 0.3954 - accuracy: 0.8183\n",
      "Epoch 34/200\n",
      "176/176 [==============================] - 2s 9ms/step - loss: 0.3945 - accuracy: 0.8164\n",
      "Epoch 35/200\n",
      "176/176 [==============================] - 2s 10ms/step - loss: 0.3947 - accuracy: 0.8158\n",
      "Epoch 36/200\n",
      "176/176 [==============================] - 2s 10ms/step - loss: 0.3931 - accuracy: 0.8172\n",
      "Epoch 37/200\n",
      "176/176 [==============================] - 2s 10ms/step - loss: 0.3931 - accuracy: 0.8149\n",
      "Epoch 38/200\n",
      "176/176 [==============================] - 2s 11ms/step - loss: 0.3931 - accuracy: 0.8165\n",
      "Epoch 39/200\n",
      "176/176 [==============================] - 2s 11ms/step - loss: 0.3922 - accuracy: 0.8151\n",
      "Epoch 40/200\n",
      "176/176 [==============================] - 2s 11ms/step - loss: 0.3921 - accuracy: 0.8156\n",
      "Epoch 41/200\n",
      "176/176 [==============================] - 2s 9ms/step - loss: 0.3919 - accuracy: 0.8172\n",
      "Epoch 42/200\n",
      "176/176 [==============================] - 2s 10ms/step - loss: 0.3923 - accuracy: 0.8185\n",
      "Epoch 43/200\n",
      "176/176 [==============================] - 2s 10ms/step - loss: 0.3908 - accuracy: 0.8176\n",
      "Epoch 44/200\n",
      "176/176 [==============================] - 2s 11ms/step - loss: 0.3909 - accuracy: 0.8181\n",
      "Epoch 45/200\n",
      "176/176 [==============================] - 2s 9ms/step - loss: 0.3909 - accuracy: 0.8181\n",
      "Epoch 46/200\n",
      "176/176 [==============================] - 2s 9ms/step - loss: 0.3905 - accuracy: 0.8180\n",
      "Epoch 47/200\n",
      "176/176 [==============================] - 2s 9ms/step - loss: 0.3901 - accuracy: 0.8172\n",
      "Epoch 48/200\n",
      "176/176 [==============================] - 2s 10ms/step - loss: 0.3896 - accuracy: 0.8181\n",
      "Epoch 49/200\n",
      "176/176 [==============================] - 2s 10ms/step - loss: 0.3891 - accuracy: 0.8194\n",
      "Epoch 50/200\n",
      "176/176 [==============================] - 2s 9ms/step - loss: 0.3889 - accuracy: 0.8194\n",
      "Epoch 51/200\n",
      "176/176 [==============================] - 2s 11ms/step - loss: 0.3887 - accuracy: 0.8164\n",
      "Epoch 52/200\n",
      "176/176 [==============================] - 2s 11ms/step - loss: 0.3888 - accuracy: 0.8210\n",
      "Epoch 53/200\n",
      "176/176 [==============================] - 2s 10ms/step - loss: 0.3893 - accuracy: 0.8188\n",
      "Epoch 54/200\n",
      "176/176 [==============================] - 2s 10ms/step - loss: 0.3882 - accuracy: 0.8185\n",
      "Epoch 55/200\n",
      "176/176 [==============================] - 2s 12ms/step - loss: 0.3885 - accuracy: 0.8197\n",
      "Epoch 56/200\n",
      "176/176 [==============================] - 2s 11ms/step - loss: 0.3875 - accuracy: 0.8206\n",
      "Epoch 57/200\n",
      "176/176 [==============================] - 2s 11ms/step - loss: 0.3869 - accuracy: 0.8197\n",
      "Epoch 58/200\n",
      "176/176 [==============================] - 2s 12ms/step - loss: 0.3866 - accuracy: 0.8215\n",
      "Epoch 59/200\n",
      "176/176 [==============================] - 2s 11ms/step - loss: 0.3863 - accuracy: 0.8187\n",
      "Epoch 60/200\n",
      "176/176 [==============================] - 2s 10ms/step - loss: 0.3867 - accuracy: 0.8188\n",
      "Epoch 61/200\n",
      "176/176 [==============================] - 2s 9ms/step - loss: 0.3860 - accuracy: 0.8185\n",
      "Epoch 62/200\n",
      "176/176 [==============================] - 2s 11ms/step - loss: 0.3861 - accuracy: 0.8194\n",
      "Epoch 63/200\n",
      "176/176 [==============================] - 2s 12ms/step - loss: 0.3863 - accuracy: 0.8180\n",
      "Epoch 64/200\n",
      "176/176 [==============================] - 2s 10ms/step - loss: 0.3848 - accuracy: 0.8194\n",
      "Epoch 65/200\n",
      "176/176 [==============================] - 2s 10ms/step - loss: 0.3848 - accuracy: 0.8224\n",
      "Epoch 66/200\n",
      "176/176 [==============================] - 2s 10ms/step - loss: 0.3855 - accuracy: 0.8197\n",
      "Epoch 67/200\n",
      "176/176 [==============================] - 2s 11ms/step - loss: 0.3854 - accuracy: 0.8185\n",
      "Epoch 68/200\n",
      "176/176 [==============================] - 2s 11ms/step - loss: 0.3842 - accuracy: 0.8183\n",
      "Epoch 69/200\n",
      "176/176 [==============================] - 2s 10ms/step - loss: 0.3841 - accuracy: 0.8215\n",
      "Epoch 70/200\n",
      "176/176 [==============================] - 2s 10ms/step - loss: 0.3837 - accuracy: 0.8217\n",
      "Epoch 71/200\n",
      "176/176 [==============================] - 2s 9ms/step - loss: 0.3833 - accuracy: 0.8231\n",
      "Epoch 72/200\n",
      "176/176 [==============================] - 2s 10ms/step - loss: 0.3830 - accuracy: 0.8206\n",
      "Epoch 73/200\n",
      "176/176 [==============================] - 2s 9ms/step - loss: 0.3826 - accuracy: 0.8240\n",
      "Epoch 74/200\n",
      "176/176 [==============================] - 2s 10ms/step - loss: 0.3825 - accuracy: 0.8228\n",
      "Epoch 75/200\n",
      "176/176 [==============================] - 2s 10ms/step - loss: 0.3821 - accuracy: 0.8203\n",
      "Epoch 76/200\n",
      "176/176 [==============================] - 2s 10ms/step - loss: 0.3819 - accuracy: 0.8247\n",
      "Epoch 77/200\n",
      "176/176 [==============================] - 2s 10ms/step - loss: 0.3819 - accuracy: 0.8229\n",
      "Epoch 78/200\n",
      "176/176 [==============================] - 2s 10ms/step - loss: 0.3814 - accuracy: 0.8247\n",
      "Epoch 79/200\n",
      "176/176 [==============================] - 2s 10ms/step - loss: 0.3813 - accuracy: 0.8196\n",
      "Epoch 80/200\n",
      "176/176 [==============================] - 2s 10ms/step - loss: 0.3813 - accuracy: 0.8224\n",
      "Epoch 81/200\n",
      "176/176 [==============================] - 2s 9ms/step - loss: 0.3817 - accuracy: 0.8204\n",
      "Epoch 82/200\n",
      "176/176 [==============================] - 2s 10ms/step - loss: 0.3809 - accuracy: 0.8192\n",
      "Epoch 83/200\n",
      "176/176 [==============================] - 2s 9ms/step - loss: 0.3799 - accuracy: 0.8236\n",
      "Epoch 84/200\n",
      "176/176 [==============================] - 2s 9ms/step - loss: 0.3799 - accuracy: 0.8206\n",
      "Epoch 85/200\n",
      "176/176 [==============================] - 2s 9ms/step - loss: 0.3808 - accuracy: 0.8226\n",
      "Epoch 86/200\n",
      "176/176 [==============================] - 2s 10ms/step - loss: 0.3808 - accuracy: 0.8217\n",
      "Epoch 87/200\n",
      "176/176 [==============================] - 2s 11ms/step - loss: 0.3798 - accuracy: 0.8258\n",
      "Epoch 88/200\n",
      "176/176 [==============================] - 2s 11ms/step - loss: 0.3797 - accuracy: 0.8226\n",
      "Epoch 89/200\n",
      "176/176 [==============================] - 2s 10ms/step - loss: 0.3797 - accuracy: 0.8220\n",
      "Epoch 90/200\n",
      "176/176 [==============================] - 2s 10ms/step - loss: 0.3792 - accuracy: 0.8238\n",
      "Epoch 91/200\n",
      "176/176 [==============================] - 2s 11ms/step - loss: 0.3794 - accuracy: 0.8219\n",
      "Epoch 92/200\n",
      "176/176 [==============================] - 2s 10ms/step - loss: 0.3802 - accuracy: 0.8201\n",
      "Epoch 93/200\n",
      "176/176 [==============================] - 2s 10ms/step - loss: 0.3783 - accuracy: 0.8238\n",
      "Epoch 94/200\n",
      "176/176 [==============================] - 2s 10ms/step - loss: 0.3787 - accuracy: 0.8217\n",
      "Epoch 95/200\n",
      "176/176 [==============================] - 2s 10ms/step - loss: 0.3785 - accuracy: 0.8229\n",
      "Epoch 96/200\n",
      "176/176 [==============================] - 2s 9ms/step - loss: 0.3774 - accuracy: 0.8229\n",
      "Epoch 97/200\n",
      "176/176 [==============================] - 2s 9ms/step - loss: 0.3782 - accuracy: 0.8254\n",
      "Epoch 98/200\n",
      "176/176 [==============================] - 2s 9ms/step - loss: 0.3776 - accuracy: 0.8222\n",
      "Epoch 99/200\n",
      "176/176 [==============================] - 2s 9ms/step - loss: 0.3778 - accuracy: 0.8233\n",
      "Epoch 100/200\n",
      "176/176 [==============================] - 2s 9ms/step - loss: 0.3775 - accuracy: 0.8213\n",
      "Epoch 101/200\n",
      "176/176 [==============================] - 2s 9ms/step - loss: 0.3772 - accuracy: 0.8212\n",
      "Epoch 102/200\n",
      "176/176 [==============================] - 2s 9ms/step - loss: 0.3777 - accuracy: 0.8235\n",
      "Epoch 103/200\n",
      "176/176 [==============================] - 2s 9ms/step - loss: 0.3768 - accuracy: 0.8228\n",
      "Epoch 104/200\n",
      "176/176 [==============================] - 2s 9ms/step - loss: 0.3769 - accuracy: 0.8228\n",
      "Epoch 105/200\n",
      "176/176 [==============================] - 2s 9ms/step - loss: 0.3768 - accuracy: 0.8251\n",
      "Epoch 106/200\n",
      "176/176 [==============================] - 2s 9ms/step - loss: 0.3767 - accuracy: 0.8213\n",
      "Epoch 107/200\n",
      "176/176 [==============================] - 2s 9ms/step - loss: 0.3759 - accuracy: 0.8233\n",
      "Epoch 108/200\n",
      "176/176 [==============================] - 2s 10ms/step - loss: 0.3764 - accuracy: 0.8236\n",
      "Epoch 109/200\n",
      "176/176 [==============================] - 2s 10ms/step - loss: 0.3763 - accuracy: 0.8215\n",
      "Epoch 110/200\n",
      "176/176 [==============================] - 2s 10ms/step - loss: 0.3771 - accuracy: 0.8226\n",
      "Epoch 111/200\n",
      "176/176 [==============================] - 2s 9ms/step - loss: 0.3758 - accuracy: 0.8247\n",
      "Epoch 112/200\n",
      "176/176 [==============================] - 2s 10ms/step - loss: 0.3759 - accuracy: 0.8268\n",
      "Epoch 113/200\n",
      "176/176 [==============================] - 2s 10ms/step - loss: 0.3758 - accuracy: 0.8244\n",
      "Epoch 114/200\n",
      "176/176 [==============================] - 2s 10ms/step - loss: 0.3754 - accuracy: 0.8240\n",
      "Epoch 115/200\n",
      "176/176 [==============================] - 2s 9ms/step - loss: 0.3747 - accuracy: 0.8242\n",
      "Epoch 116/200\n",
      "176/176 [==============================] - 2s 10ms/step - loss: 0.3755 - accuracy: 0.8252\n",
      "Epoch 117/200\n",
      "176/176 [==============================] - 2s 9ms/step - loss: 0.3748 - accuracy: 0.8260\n",
      "Epoch 118/200\n",
      "176/176 [==============================] - 2s 10ms/step - loss: 0.3747 - accuracy: 0.8268\n",
      "Epoch 119/200\n",
      "176/176 [==============================] - 2s 10ms/step - loss: 0.3748 - accuracy: 0.8265\n",
      "Epoch 120/200\n",
      "176/176 [==============================] - 2s 10ms/step - loss: 0.3739 - accuracy: 0.8245\n",
      "Epoch 121/200\n",
      "176/176 [==============================] - 2s 9ms/step - loss: 0.3742 - accuracy: 0.8254\n",
      "Epoch 122/200\n",
      "176/176 [==============================] - 2s 10ms/step - loss: 0.3740 - accuracy: 0.8242\n",
      "Epoch 123/200\n",
      "176/176 [==============================] - 2s 10ms/step - loss: 0.3735 - accuracy: 0.8258\n",
      "Epoch 124/200\n",
      "176/176 [==============================] - 2s 9ms/step - loss: 0.3730 - accuracy: 0.8270\n",
      "Epoch 125/200\n",
      "176/176 [==============================] - 2s 9ms/step - loss: 0.3735 - accuracy: 0.8274\n",
      "Epoch 126/200\n",
      "176/176 [==============================] - 2s 10ms/step - loss: 0.3737 - accuracy: 0.8252\n",
      "Epoch 127/200\n",
      "176/176 [==============================] - 2s 9ms/step - loss: 0.3733 - accuracy: 0.8258\n",
      "Epoch 128/200\n",
      "176/176 [==============================] - 2s 9ms/step - loss: 0.3723 - accuracy: 0.8258\n",
      "Epoch 129/200\n",
      "176/176 [==============================] - 2s 9ms/step - loss: 0.3723 - accuracy: 0.8274\n",
      "Epoch 130/200\n",
      "176/176 [==============================] - 2s 10ms/step - loss: 0.3725 - accuracy: 0.8245\n",
      "Epoch 131/200\n",
      "176/176 [==============================] - 2s 9ms/step - loss: 0.3725 - accuracy: 0.8281\n",
      "Epoch 132/200\n",
      "176/176 [==============================] - 2s 10ms/step - loss: 0.3728 - accuracy: 0.8281\n",
      "Epoch 133/200\n",
      "176/176 [==============================] - 2s 9ms/step - loss: 0.3720 - accuracy: 0.8252\n",
      "Epoch 134/200\n",
      "176/176 [==============================] - 2s 9ms/step - loss: 0.3726 - accuracy: 0.8245\n",
      "Epoch 135/200\n",
      "176/176 [==============================] - 2s 9ms/step - loss: 0.3720 - accuracy: 0.8268\n",
      "Epoch 136/200\n",
      "176/176 [==============================] - 2s 10ms/step - loss: 0.3719 - accuracy: 0.8283\n",
      "Epoch 137/200\n",
      "176/176 [==============================] - 2s 9ms/step - loss: 0.3717 - accuracy: 0.8268\n",
      "Epoch 138/200\n",
      "176/176 [==============================] - 2s 10ms/step - loss: 0.3724 - accuracy: 0.8265\n",
      "Epoch 139/200\n",
      "176/176 [==============================] - 2s 10ms/step - loss: 0.3717 - accuracy: 0.8261\n",
      "Epoch 140/200\n",
      "176/176 [==============================] - 2s 9ms/step - loss: 0.3712 - accuracy: 0.8268\n",
      "Epoch 141/200\n",
      "176/176 [==============================] - 2s 10ms/step - loss: 0.3716 - accuracy: 0.8261\n",
      "Epoch 142/200\n",
      "176/176 [==============================] - 2s 10ms/step - loss: 0.3700 - accuracy: 0.8260\n",
      "Epoch 143/200\n",
      "176/176 [==============================] - 2s 11ms/step - loss: 0.3705 - accuracy: 0.8258\n",
      "Epoch 144/200\n",
      "176/176 [==============================] - 2s 12ms/step - loss: 0.3707 - accuracy: 0.8261\n",
      "Epoch 145/200\n",
      "176/176 [==============================] - 2s 13ms/step - loss: 0.3706 - accuracy: 0.8277\n",
      "Epoch 146/200\n",
      "176/176 [==============================] - 2s 11ms/step - loss: 0.3698 - accuracy: 0.8279\n",
      "Epoch 147/200\n",
      "176/176 [==============================] - 2s 11ms/step - loss: 0.3701 - accuracy: 0.8284\n",
      "Epoch 148/200\n",
      "176/176 [==============================] - 2s 11ms/step - loss: 0.3701 - accuracy: 0.8261\n",
      "Epoch 149/200\n",
      "176/176 [==============================] - 2s 13ms/step - loss: 0.3706 - accuracy: 0.8261\n",
      "Epoch 150/200\n",
      "176/176 [==============================] - 2s 10ms/step - loss: 0.3698 - accuracy: 0.8242\n",
      "Epoch 151/200\n",
      "176/176 [==============================] - 2s 10ms/step - loss: 0.3693 - accuracy: 0.8290\n",
      "Epoch 152/200\n",
      "176/176 [==============================] - 2s 9ms/step - loss: 0.3710 - accuracy: 0.8265\n",
      "Epoch 153/200\n",
      "176/176 [==============================] - 2s 9ms/step - loss: 0.3701 - accuracy: 0.8267\n",
      "Epoch 154/200\n",
      "176/176 [==============================] - 2s 10ms/step - loss: 0.3696 - accuracy: 0.8284\n",
      "Epoch 155/200\n",
      "176/176 [==============================] - 2s 10ms/step - loss: 0.3692 - accuracy: 0.8283\n",
      "Epoch 156/200\n",
      "176/176 [==============================] - 2s 10ms/step - loss: 0.3703 - accuracy: 0.8295\n",
      "Epoch 157/200\n",
      "176/176 [==============================] - 2s 10ms/step - loss: 0.3694 - accuracy: 0.8300\n",
      "Epoch 158/200\n",
      "176/176 [==============================] - 2s 11ms/step - loss: 0.3693 - accuracy: 0.8300\n",
      "Epoch 159/200\n",
      "176/176 [==============================] - 2s 10ms/step - loss: 0.3691 - accuracy: 0.8268\n",
      "Epoch 160/200\n",
      "176/176 [==============================] - 2s 9ms/step - loss: 0.3695 - accuracy: 0.8295\n",
      "Epoch 161/200\n",
      "176/176 [==============================] - 2s 9ms/step - loss: 0.3683 - accuracy: 0.8279\n",
      "Epoch 162/200\n",
      "176/176 [==============================] - 2s 9ms/step - loss: 0.3691 - accuracy: 0.8288\n",
      "Epoch 163/200\n",
      "176/176 [==============================] - 2s 10ms/step - loss: 0.3684 - accuracy: 0.8302\n",
      "Epoch 164/200\n",
      "176/176 [==============================] - 2s 9ms/step - loss: 0.3686 - accuracy: 0.8311\n",
      "Epoch 165/200\n",
      "176/176 [==============================] - 2s 10ms/step - loss: 0.3684 - accuracy: 0.8306\n",
      "Epoch 166/200\n",
      "176/176 [==============================] - 2s 9ms/step - loss: 0.3681 - accuracy: 0.8277\n",
      "Epoch 167/200\n",
      "176/176 [==============================] - 2s 10ms/step - loss: 0.3680 - accuracy: 0.8308\n",
      "Epoch 168/200\n",
      "176/176 [==============================] - 2s 9ms/step - loss: 0.3689 - accuracy: 0.8284\n",
      "Epoch 169/200\n",
      "176/176 [==============================] - 2s 10ms/step - loss: 0.3674 - accuracy: 0.8299\n",
      "Epoch 170/200\n",
      "176/176 [==============================] - 2s 9ms/step - loss: 0.3681 - accuracy: 0.8331\n",
      "Epoch 171/200\n",
      "176/176 [==============================] - 2s 10ms/step - loss: 0.3679 - accuracy: 0.8281\n",
      "Epoch 172/200\n",
      "176/176 [==============================] - 2s 9ms/step - loss: 0.3666 - accuracy: 0.8308\n",
      "Epoch 173/200\n",
      "176/176 [==============================] - 2s 10ms/step - loss: 0.3678 - accuracy: 0.8306\n",
      "Epoch 174/200\n",
      "176/176 [==============================] - 2s 9ms/step - loss: 0.3672 - accuracy: 0.8284\n",
      "Epoch 175/200\n",
      "176/176 [==============================] - 2s 9ms/step - loss: 0.3671 - accuracy: 0.8284\n",
      "Epoch 176/200\n",
      "176/176 [==============================] - 2s 10ms/step - loss: 0.3674 - accuracy: 0.8318\n",
      "Epoch 177/200\n",
      "176/176 [==============================] - 2s 9ms/step - loss: 0.3671 - accuracy: 0.8284\n",
      "Epoch 178/200\n",
      "176/176 [==============================] - 2s 10ms/step - loss: 0.3678 - accuracy: 0.8293\n",
      "Epoch 179/200\n",
      "176/176 [==============================] - 2s 9ms/step - loss: 0.3661 - accuracy: 0.8299\n",
      "Epoch 180/200\n",
      "176/176 [==============================] - 2s 9ms/step - loss: 0.3662 - accuracy: 0.8331\n",
      "Epoch 181/200\n",
      "176/176 [==============================] - 2s 9ms/step - loss: 0.3668 - accuracy: 0.8338\n",
      "Epoch 182/200\n",
      "176/176 [==============================] - 2s 10ms/step - loss: 0.3664 - accuracy: 0.8306\n",
      "Epoch 183/200\n",
      "176/176 [==============================] - 2s 9ms/step - loss: 0.3665 - accuracy: 0.8316\n",
      "Epoch 184/200\n",
      "176/176 [==============================] - 2s 9ms/step - loss: 0.3670 - accuracy: 0.8295\n",
      "Epoch 185/200\n",
      "176/176 [==============================] - 2s 9ms/step - loss: 0.3674 - accuracy: 0.8279\n",
      "Epoch 186/200\n",
      "176/176 [==============================] - 2s 9ms/step - loss: 0.3666 - accuracy: 0.8299\n",
      "Epoch 187/200\n",
      "176/176 [==============================] - 2s 9ms/step - loss: 0.3666 - accuracy: 0.8295\n",
      "Epoch 188/200\n",
      "176/176 [==============================] - 2s 10ms/step - loss: 0.3664 - accuracy: 0.8293\n",
      "Epoch 189/200\n",
      "176/176 [==============================] - 2s 9ms/step - loss: 0.3670 - accuracy: 0.8306\n",
      "Epoch 190/200\n",
      "176/176 [==============================] - 2s 9ms/step - loss: 0.3657 - accuracy: 0.8306\n",
      "Epoch 191/200\n",
      "176/176 [==============================] - 2s 9ms/step - loss: 0.3660 - accuracy: 0.8308\n",
      "Epoch 192/200\n",
      "176/176 [==============================] - 2s 10ms/step - loss: 0.3654 - accuracy: 0.8306\n",
      "Epoch 193/200\n",
      "176/176 [==============================] - 2s 10ms/step - loss: 0.3658 - accuracy: 0.8288\n",
      "Epoch 194/200\n",
      "176/176 [==============================] - 2s 10ms/step - loss: 0.3664 - accuracy: 0.8293\n",
      "Epoch 195/200\n",
      "176/176 [==============================] - 2s 9ms/step - loss: 0.3653 - accuracy: 0.8295\n",
      "Epoch 196/200\n",
      "176/176 [==============================] - 2s 9ms/step - loss: 0.3661 - accuracy: 0.8322\n",
      "Epoch 197/200\n",
      "176/176 [==============================] - 2s 10ms/step - loss: 0.3651 - accuracy: 0.8313\n",
      "Epoch 198/200\n",
      "176/176 [==============================] - 2s 9ms/step - loss: 0.3650 - accuracy: 0.8318\n",
      "Epoch 199/200\n",
      "176/176 [==============================] - 2s 9ms/step - loss: 0.3652 - accuracy: 0.8338\n",
      "Epoch 200/200\n",
      "176/176 [==============================] - 2s 9ms/step - loss: 0.3656 - accuracy: 0.8306\n"
     ]
    },
    {
     "data": {
      "text/plain": [
       "<keras.src.callbacks.History at 0x7f35c3b357b0>"
      ]
     },
     "execution_count": 29,
     "metadata": {},
     "output_type": "execute_result"
    }
   ],
   "source": [
    "model.compile(\n",
    "    optimizer='adam',\n",
    "    loss='binary_crossentropy',\n",
    "    metrics=['accuracy']\n",
    ")\n",
    "\n",
    "model.fit(X_train,y_train,epochs=200)"
   ]
  },
  {
   "cell_type": "code",
   "execution_count": 30,
   "metadata": {},
   "outputs": [
    {
     "name": "stdout",
     "output_type": "stream",
     "text": [
      "44/44 [==============================] - 0s 7ms/step - loss: 0.4689 - accuracy: 0.7811\n"
     ]
    },
    {
     "data": {
      "text/plain": [
       "[0.4689212739467621, 0.7810945510864258]"
      ]
     },
     "execution_count": 30,
     "metadata": {},
     "output_type": "execute_result"
    }
   ],
   "source": [
    "model.evaluate(X_test,y_test)"
   ]
  },
  {
   "cell_type": "code",
   "execution_count": 31,
   "metadata": {},
   "outputs": [
    {
     "data": {
      "text/plain": [
       "((1407, 26), (26,))"
      ]
     },
     "execution_count": 31,
     "metadata": {},
     "output_type": "execute_result"
    }
   ],
   "source": [
    "X_test.shape , X.iloc[0].shape"
   ]
  },
  {
   "cell_type": "markdown",
   "metadata": {},
   "source": [
    "So we need to change the shape to find the answer"
   ]
  },
  {
   "cell_type": "code",
   "execution_count": 32,
   "metadata": {},
   "outputs": [
    {
     "data": {
      "text/plain": [
       "(1, 26)"
      ]
     },
     "execution_count": 32,
     "metadata": {},
     "output_type": "execute_result"
    }
   ],
   "source": [
    "x_find = np.array([X_test.iloc[3]])\n",
    "x_find.shape"
   ]
  },
  {
   "cell_type": "code",
   "execution_count": 33,
   "metadata": {},
   "outputs": [
    {
     "name": "stdout",
     "output_type": "stream",
     "text": [
      "1/1 [==============================] - 0s 108ms/step\n"
     ]
    },
    {
     "data": {
      "text/plain": [
       "array([[0.7145842]], dtype=float32)"
      ]
     },
     "execution_count": 33,
     "metadata": {},
     "output_type": "execute_result"
    }
   ],
   "source": [
    "model.predict(x_find)"
   ]
  },
  {
   "cell_type": "code",
   "execution_count": 34,
   "metadata": {},
   "outputs": [
    {
     "data": {
      "text/plain": [
       "Churn    1\n",
       "Name: 64, dtype: int64"
      ]
     },
     "execution_count": 34,
     "metadata": {},
     "output_type": "execute_result"
    }
   ],
   "source": [
    "y_test.iloc[3]"
   ]
  },
  {
   "cell_type": "code",
   "execution_count": 36,
   "metadata": {},
   "outputs": [
    {
     "name": "stdout",
     "output_type": "stream",
     "text": [
      "44/44 [==============================] - 0s 4ms/step\n"
     ]
    },
    {
     "data": {
      "text/plain": [
       "array([[0.2818588 ],\n",
       "       [0.3716385 ],\n",
       "       [0.00673221],\n",
       "       ...,\n",
       "       [0.74722826],\n",
       "       [0.66183317],\n",
       "       [0.73818773]], dtype=float32)"
      ]
     },
     "execution_count": 36,
     "metadata": {},
     "output_type": "execute_result"
    }
   ],
   "source": [
    "y_pred = model.predict(X_test)\n",
    "y_pred"
   ]
  },
  {
   "cell_type": "code",
   "execution_count": 37,
   "metadata": {},
   "outputs": [
    {
     "data": {
      "text/plain": [
       "[0, 0, 0, 1, 1]"
      ]
     },
     "execution_count": 37,
     "metadata": {},
     "output_type": "execute_result"
    }
   ],
   "source": [
    "y_pred5 = y_pred[0:5]\n",
    "y_pred5 = [1 if x>=0.5 else 0 for x in y_pred5]\n",
    "y_pred5"
   ]
  },
  {
   "cell_type": "code",
   "execution_count": 38,
   "metadata": {},
   "outputs": [
    {
     "data": {
      "text/html": [
       "<div>\n",
       "<style scoped>\n",
       "    .dataframe tbody tr th:only-of-type {\n",
       "        vertical-align: middle;\n",
       "    }\n",
       "\n",
       "    .dataframe tbody tr th {\n",
       "        vertical-align: top;\n",
       "    }\n",
       "\n",
       "    .dataframe thead th {\n",
       "        text-align: right;\n",
       "    }\n",
       "</style>\n",
       "<table border=\"1\" class=\"dataframe\">\n",
       "  <thead>\n",
       "    <tr style=\"text-align: right;\">\n",
       "      <th></th>\n",
       "      <th>Churn</th>\n",
       "    </tr>\n",
       "  </thead>\n",
       "  <tbody>\n",
       "    <tr>\n",
       "      <th>2660</th>\n",
       "      <td>0</td>\n",
       "    </tr>\n",
       "    <tr>\n",
       "      <th>744</th>\n",
       "      <td>0</td>\n",
       "    </tr>\n",
       "    <tr>\n",
       "      <th>5579</th>\n",
       "      <td>1</td>\n",
       "    </tr>\n",
       "    <tr>\n",
       "      <th>64</th>\n",
       "      <td>1</td>\n",
       "    </tr>\n",
       "    <tr>\n",
       "      <th>3287</th>\n",
       "      <td>1</td>\n",
       "    </tr>\n",
       "  </tbody>\n",
       "</table>\n",
       "</div>"
      ],
      "text/plain": [
       "      Churn\n",
       "2660      0\n",
       "744       0\n",
       "5579      1\n",
       "64        1\n",
       "3287      1"
      ]
     },
     "execution_count": 38,
     "metadata": {},
     "output_type": "execute_result"
    }
   ],
   "source": [
    "y_test[0:5]"
   ]
  },
  {
   "cell_type": "code",
   "execution_count": 45,
   "metadata": {},
   "outputs": [
    {
     "data": {
      "text/plain": [
       "int"
      ]
     },
     "execution_count": 45,
     "metadata": {},
     "output_type": "execute_result"
    }
   ],
   "source": [
    "y_pred_fin = [1 if x>=0.5 else 0 for x in y_pred ]\n",
    "type(y_pred_fin[0])"
   ]
  },
  {
   "cell_type": "code",
   "execution_count": 46,
   "metadata": {},
   "outputs": [
    {
     "name": "stdout",
     "output_type": "stream",
     "text": [
      "              precision    recall  f1-score   support\n",
      "\n",
      "           0       0.83      0.87      0.85       999\n",
      "           1       0.64      0.56      0.60       408\n",
      "\n",
      "    accuracy                           0.78      1407\n",
      "   macro avg       0.73      0.72      0.72      1407\n",
      "weighted avg       0.77      0.78      0.78      1407\n",
      "\n"
     ]
    }
   ],
   "source": [
    "from sklearn.metrics import confusion_matrix , classification_report\n",
    "\n",
    "print(classification_report(y_test,y_pred_fin))"
   ]
  },
  {
   "cell_type": "code",
   "execution_count": 48,
   "metadata": {},
   "outputs": [
    {
     "data": {
      "text/plain": [
       "Text(95.72222222222221, 0.5, 'Truth')"
      ]
     },
     "execution_count": 48,
     "metadata": {},
     "output_type": "execute_result"
    },
    {
     "data": {
      "image/png": "[encoded data removed]",
      "text/plain": [
       "<Figure size 1000x700 with 2 Axes>"
      ]
     },
     "metadata": {},
     "output_type": "display_data"
    }
   ],
   "source": [
    "import seaborn as sn\n",
    "cm = tf.math.confusion_matrix(labels=y_test,predictions=y_pred_fin)\n",
    "\n",
    "plt.figure(figsize = (10,7))\n",
    "sn.heatmap(cm, annot=True, fmt='d')\n",
    "plt.xlabel('Predicted')\n",
    "plt.ylabel('Truth')"
   ]
  },
  {
   "cell_type": "code",
   "execution_count": 49,
   "metadata": {},
   "outputs": [
    {
     "data": {
      "text/plain": [
       "(1407, 1)"
      ]
     },
     "execution_count": 49,
     "metadata": {},
     "output_type": "execute_result"
    }
   ],
   "source": [
    "y_test.shape"
   ]
  },
  {
   "cell_type": "markdown",
   "metadata": {},
   "source": [
    "Accuracy"
   ]
  },
  {
   "cell_type": "code",
   "execution_count": 57,
   "metadata": {},
   "outputs": [
    {
     "data": {
      "text/plain": [
       "0.78"
      ]
     },
     "execution_count": 57,
     "metadata": {},
     "output_type": "execute_result"
    }
   ],
   "source": [
    "round((870+229)/(870+229+129+179),2)    # Diagonal/Total"
   ]
  },
  {
   "cell_type": "markdown",
   "metadata": {},
   "source": [
    "Precision for class 0"
   ]
  },
  {
   "cell_type": "code",
   "execution_count": 58,
   "metadata": {},
   "outputs": [
    {
     "data": {
      "text/plain": [
       "0.83"
      ]
     },
     "execution_count": 58,
     "metadata": {},
     "output_type": "execute_result"
    }
   ],
   "source": [
    "round(870/(870+179),2)      # Correct(0)/TotalPredicted(0)"
   ]
  },
  {
   "cell_type": "markdown",
   "metadata": {},
   "source": [
    "Precision for class 1"
   ]
  },
  {
   "cell_type": "code",
   "execution_count": 59,
   "metadata": {},
   "outputs": [
    {
     "data": {
      "text/plain": [
       "0.64"
      ]
     },
     "execution_count": 59,
     "metadata": {},
     "output_type": "execute_result"
    }
   ],
   "source": [
    "round(229/(229+129),2)"
   ]
  },
  {
   "cell_type": "markdown",
   "metadata": {},
   "source": [
    "Recall for class 0"
   ]
  },
  {
   "cell_type": "code",
   "execution_count": 60,
   "metadata": {},
   "outputs": [
    {
     "data": {
      "text/plain": [
       "0.87"
      ]
     },
     "execution_count": 60,
     "metadata": {},
     "output_type": "execute_result"
    }
   ],
   "source": [
    "round(870/(870+129),2)      # Correct(0)/TotalActual(0)"
   ]
  },
  {
   "cell_type": "markdown",
   "metadata": {},
   "source": [
    "Recall for class 1"
   ]
  },
  {
   "cell_type": "code",
   "execution_count": 61,
   "metadata": {},
   "outputs": [
    {
     "data": {
      "text/plain": [
       "0.56"
      ]
     },
     "execution_count": 61,
     "metadata": {},
     "output_type": "execute_result"
    }
   ],
   "source": [
    "round(229/(229+179),2)"
   ]
  }
 ],
 "metadata": {
  "kernelspec": {
   "display_name": "Python 3 (ipykernel)",
   "language": "python",
   "name": "python3"
  },
  "language_info": {
   "codemirror_mode": {
    "name": "ipython",
    "version": 3
   },
   "file_extension": ".py",
   "mimetype": "text/x-python",
   "name": "python",
   "nbconvert_exporter": "python",
   "pygments_lexer": "ipython3",
   "version": "3.10.12"
  }
 },
 "nbformat": 4,
 "nbformat_minor": 2
}
