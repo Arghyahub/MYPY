{
 "cells": [
  {
   "cell_type": "markdown",
   "metadata": {},
   "source": [
    "<h2 style=\"color:blue\" align=\"center\">Tensorboard demo using handwritten digits classification using neural network</h2>"
   ]
  },
  {
   "cell_type": "markdown",
   "metadata": {},
   "source": [
    "In this notebook we will classify handwritten digits using a simple neural network which has only input and output layers. We will than add a hidden layer and see how the performance of the model improves"
   ]
  },
  {
   "cell_type": "code",
   "execution_count": 1,
   "metadata": {},
   "outputs": [],
   "source": [
    "import tensorflow as tf\n",
    "from tensorflow import keras\n",
    "import matplotlib.pyplot as plt\n",
    "%matplotlib inline\n",
    "import numpy as np"
   ]
  },
  {
   "cell_type": "code",
   "execution_count": 2,
   "metadata": {},
   "outputs": [],
   "source": [
    "(X_train, y_train) , (X_test, y_test) = keras.datasets.mnist.load_data()"
   ]
  },
  {
   "cell_type": "code",
   "execution_count": 3,
   "metadata": {},
   "outputs": [
    {
     "data": {
      "text/plain": [
       "60000"
      ]
     },
     "execution_count": 3,
     "metadata": {},
     "output_type": "execute_result"
    }
   ],
   "source": [
    "len(X_train)"
   ]
  },
  {
   "cell_type": "code",
   "execution_count": 4,
   "metadata": {},
   "outputs": [
    {
     "data": {
      "text/plain": [
       "10000"
      ]
     },
     "execution_count": 4,
     "metadata": {},
     "output_type": "execute_result"
    }
   ],
   "source": [
    "len(X_test)"
   ]
  },
  {
   "cell_type": "code",
   "execution_count": 5,
   "metadata": {},
   "outputs": [
    {
     "data": {
      "text/plain": [
       "(28, 28)"
      ]
     },
     "execution_count": 5,
     "metadata": {},
     "output_type": "execute_result"
    }
   ],
   "source": [
    "X_train[0].shape"
   ]
  },
  {
   "cell_type": "code",
   "execution_count": 6,
   "metadata": {},
   "outputs": [
    {
     "data": {
      "text/plain": [
       "<matplotlib.image.AxesImage at 0x1abf6facfa0>"
      ]
     },
     "execution_count": 6,
     "metadata": {},
     "output_type": "execute_result"
    },
    {
     "data": {
      "image/png": "[encoded data removed]",
      "text/plain": [
       "<Figure size 480x480 with 1 Axes>"
      ]
     },
     "metadata": {},
     "output_type": "display_data"
    }
   ],
   "source": [
    "plt.matshow(X_train[0])"
   ]
  },
  {
   "cell_type": "code",
   "execution_count": 7,
   "metadata": {},
   "outputs": [
    {
     "data": {
      "text/plain": [
       "5"
      ]
     },
     "execution_count": 7,
     "metadata": {},
     "output_type": "execute_result"
    }
   ],
   "source": [
    "y_train[0]"
   ]
  },
  {
   "cell_type": "code",
   "execution_count": 8,
   "metadata": {},
   "outputs": [],
   "source": [
    "X_train = X_train / 255\n",
    "X_test = X_test / 255"
   ]
  },
  {
   "cell_type": "code",
   "execution_count": 9,
   "metadata": {},
   "outputs": [],
   "source": [
    "X_train_flattened = X_train.reshape(len(X_train), 28*28)\n",
    "X_test_flattened = X_test.reshape(len(X_test), 28*28)"
   ]
  },
  {
   "cell_type": "code",
   "execution_count": 10,
   "metadata": {},
   "outputs": [
    {
     "data": {
      "text/plain": [
       "(60000, 784)"
      ]
     },
     "execution_count": 10,
     "metadata": {},
     "output_type": "execute_result"
    }
   ],
   "source": [
    "X_train_flattened.shape"
   ]
  },
  {
   "cell_type": "markdown",
   "metadata": {},
   "source": [
    "<h3 style='color:purple'>Using Flatten layer so that we don't have to call .reshape on input dataset</h3>"
   ]
  },
  {
   "cell_type": "code",
   "execution_count": 11,
   "metadata": {
    "scrolled": false
   },
   "outputs": [
    {
     "name": "stdout",
     "output_type": "stream",
     "text": [
      "Epoch 1/5\n",
      "1875/1875 [==============================] - 6s 3ms/step - loss: 0.2702 - accuracy: 0.9239\n",
      "Epoch 2/5\n",
      "1875/1875 [==============================] - 5s 3ms/step - loss: 0.1211 - accuracy: 0.9647\n",
      "Epoch 3/5\n",
      "1875/1875 [==============================] - 5s 3ms/step - loss: 0.0837 - accuracy: 0.9758\n",
      "Epoch 4/5\n",
      "1875/1875 [==============================] - 5s 3ms/step - loss: 0.0659 - accuracy: 0.9798\n",
      "Epoch 5/5\n",
      "1875/1875 [==============================] - 5s 3ms/step - loss: 0.0513 - accuracy: 0.9844\n"
     ]
    },
    {
     "data": {
      "text/plain": [
       "<keras.src.callbacks.History at 0x1abf3be5d30>"
      ]
     },
     "execution_count": 11,
     "metadata": {},
     "output_type": "execute_result"
    }
   ],
   "source": [
    "model = keras.Sequential([\n",
    "    keras.layers.Flatten(input_shape=(28, 28)),\n",
    "    keras.layers.Dense(100, activation='relu'),\n",
    "    keras.layers.Dense(10, activation='sigmoid')\n",
    "])\n",
    "\n",
    "model.compile(optimizer='adam',\n",
    "              loss='sparse_categorical_crossentropy',\n",
    "              metrics=['accuracy'])\n",
    "\n",
    "tb_callback = tf.keras.callbacks.TensorBoard(log_dir=\"logs/\", histogram_freq=1)\n",
    "\n",
    "model.fit(X_train, y_train, epochs=5, callbacks=[tb_callback])"
   ]
  },
  {
   "cell_type": "code",
   "execution_count": 12,
   "metadata": {},
   "outputs": [],
   "source": [
    "# %load_ext tensorboard\n",
    "# %tensorboard --logdir logs/fit"
   ]
  },
  {
   "cell_type": "markdown",
   "metadata": {},
   "source": [
    "Either run above inline magic or go to git bash or your command prompt and type below to run it,\n",
    "`tensorboard --logdir logs/`\n",
    "This will launch tensorboard at this url which you can open in your browser `http://localhost:6006/`"
   ]
  },
  {
   "cell_type": "code",
   "execution_count": 13,
   "metadata": {},
   "outputs": [
    {
     "data": {
      "text/plain": [
       "[array([[ 0.02848233, -0.05836254, -0.01342596, ...,  0.07678376,\n",
       "         -0.04374874, -0.07833109],\n",
       "        [ 0.07896373, -0.05902456, -0.02467927, ..., -0.01758566,\n",
       "          0.02267102,  0.00259913],\n",
       "        [ 0.00378568,  0.03619866,  0.03713913, ..., -0.06698991,\n",
       "         -0.06282029, -0.0198801 ],\n",
       "        ...,\n",
       "        [-0.00223907,  0.00829397, -0.00293305, ..., -0.01785821,\n",
       "          0.07100357, -0.01815752],\n",
       "        [ 0.05557632, -0.07180846, -0.04578244, ...,  0.06176811,\n",
       "         -0.04084954, -0.08076209],\n",
       "        [-0.0419702 , -0.04372657, -0.0638292 , ...,  0.07873468,\n",
       "          0.04034527, -0.00168023]], dtype=float32),\n",
       " array([ 0.08636696, -0.03584229,  0.04260017,  0.0592672 , -0.02551066,\n",
       "         0.07827455,  0.00675118,  0.04547727, -0.14380457,  0.11857837,\n",
       "        -0.00440239, -0.02276396, -0.02846294, -0.06198044,  0.03807617,\n",
       "         0.21727931,  0.18532592,  0.08576639,  0.03466113,  0.00047129,\n",
       "         0.05377313, -0.03429979,  0.02911085, -0.06783461,  0.1066582 ,\n",
       "        -0.01196454, -0.10233057,  0.01333733, -0.02893088,  0.00616486,\n",
       "        -0.01097718,  0.14385638,  0.17180973, -0.15467454,  0.01328219,\n",
       "         0.19746271, -0.02729132,  0.12402979, -0.0673288 ,  0.01335843,\n",
       "         0.15752113,  0.03994681,  0.00217024, -0.0497154 ,  0.19186299,\n",
       "         0.05749739,  0.06978912,  0.11135343,  0.04204535,  0.0168742 ,\n",
       "        -0.00806351,  0.13682494,  0.11507572,  0.07476329, -0.09820198,\n",
       "        -0.06194963, -0.01565957, -0.04097006,  0.04153667,  0.02742261,\n",
       "        -0.12064909, -0.02265169, -0.01882222, -0.03214405,  0.20812961,\n",
       "        -0.07094187, -0.01684761, -0.00194696,  0.17987601,  0.12014287,\n",
       "        -0.1107308 , -0.01040986,  0.01918471,  0.09410515,  0.04128036,\n",
       "        -0.08232779, -0.09322405,  0.03616342,  0.15658   ,  0.17482096,\n",
       "        -0.13101119,  0.08324523,  0.06427091,  0.17328604,  0.20056464,\n",
       "         0.17290503,  0.1730796 , -0.03287672,  0.03581586, -0.07937691,\n",
       "        -0.03275973,  0.00998187,  0.05662202, -0.09391008,  0.10681057,\n",
       "         0.16354115, -0.18342772, -0.05104   , -0.01509339,  0.11600237],\n",
       "       dtype=float32),\n",
       " array([[-1.23502232e-01, -2.06571460e-01, -7.34214604e-01,\n",
       "         -2.20464498e-01, -7.52404928e-01,  5.43335259e-01,\n",
       "          5.53366184e-01,  7.60887340e-02, -2.60905951e-01,\n",
       "          1.10988855e-01],\n",
       "        [-2.13585701e-02, -2.96922445e-01,  6.54438734e-02,\n",
       "         -1.67063758e-01, -8.28305602e-01, -4.93650436e-02,\n",
       "         -3.93402457e-01,  1.01560459e-01,  6.69119554e-03,\n",
       "          1.83522761e-01],\n",
       "        [-2.71538436e-01, -2.64851511e-01, -2.23748609e-01,\n",
       "         -1.21133048e-02, -4.74057555e-01,  3.73141080e-01,\n",
       "         -6.82614326e-01,  3.10866475e-01, -1.01082837e-02,\n",
       "          3.47100258e-01],\n",
       "        [ 1.58208564e-01,  8.42259172e-03, -6.99960142e-02,\n",
       "          9.02660415e-02, -3.69872063e-01,  2.13718206e-01,\n",
       "          2.30267510e-01, -5.00557542e-01,  2.44490951e-01,\n",
       "          1.44451428e-02],\n",
       "        [-1.47244811e-01,  2.19263822e-01,  8.84977058e-02,\n",
       "         -8.00353214e-02, -2.22237125e-01, -1.94713771e-01,\n",
       "          6.07915372e-02, -2.04728529e-01,  1.64888754e-01,\n",
       "          4.44002226e-02],\n",
       "        [ 1.70249283e-01,  1.03728980e-01,  1.64406061e-01,\n",
       "         -5.10606229e-01,  3.44034463e-01, -4.71764237e-01,\n",
       "         -7.72011131e-02,  7.71698728e-03,  2.04263955e-01,\n",
       "          1.17862210e-01],\n",
       "        [-5.29408514e-01, -6.56430662e-01, -2.59649396e-01,\n",
       "          1.98267668e-01, -6.10648990e-01,  5.64926922e-01,\n",
       "         -1.96510851e-01, -2.01141700e-01, -3.01585972e-01,\n",
       "         -2.09301189e-01],\n",
       "        [ 1.07517704e-01, -2.82337725e-01, -2.91594267e-01,\n",
       "         -6.98854355e-03,  9.56250504e-02,  8.12261254e-02,\n",
       "         -3.55635405e-01,  1.85188964e-01, -8.02925974e-03,\n",
       "          1.18210606e-01],\n",
       "        [ 1.61299467e-01,  3.80957648e-02,  8.72219056e-02,\n",
       "          2.20121682e-01, -6.26720250e-01,  7.43749738e-02,\n",
       "         -5.22752821e-01,  2.39964008e-01, -9.75890364e-03,\n",
       "          1.15603015e-01],\n",
       "        [ 1.92630053e-01,  1.35686398e-01,  3.25979322e-01,\n",
       "          5.07780463e-02,  2.33059943e-01,  1.31499708e-01,\n",
       "          2.95952231e-01, -5.61097145e-01,  1.08408377e-01,\n",
       "         -8.69601294e-02],\n",
       "        [ 2.87116259e-01, -4.57237780e-01, -6.28916144e-01,\n",
       "         -3.94254953e-01,  6.09869361e-02,  2.49299765e-01,\n",
       "          3.80642444e-01, -1.24623189e-02, -1.30020261e-01,\n",
       "          2.62628466e-01],\n",
       "        [ 2.06672981e-01, -8.51982236e-02,  7.80421570e-02,\n",
       "         -1.26085430e-01, -4.81792241e-02, -2.04947889e-01,\n",
       "         -5.36911469e-03, -7.04550818e-02,  1.74361875e-03,\n",
       "         -2.71434009e-01],\n",
       "        [-3.97195667e-01, -3.57121672e-03,  3.87792081e-01,\n",
       "          3.89400214e-01, -4.15946841e-01, -8.23966116e-02,\n",
       "          2.20781431e-01, -1.82354413e-02, -3.67948443e-01,\n",
       "         -5.61512649e-01],\n",
       "        [ 5.53979948e-02, -1.59765661e-01,  7.62475133e-02,\n",
       "         -1.60374656e-01,  1.00232206e-01, -1.65787697e-01,\n",
       "         -1.60234660e-01, -4.03955221e-01,  3.88899930e-02,\n",
       "          5.65375909e-02],\n",
       "        [ 6.11182712e-02, -1.08843863e-01, -8.96194279e-01,\n",
       "          3.31426591e-01,  1.12184443e-01,  9.76586491e-02,\n",
       "          2.73393571e-01, -1.70369312e-01,  4.04832810e-02,\n",
       "          1.57434255e-01],\n",
       "        [ 3.12775522e-01,  5.56723714e-01, -1.94190279e-01,\n",
       "         -2.17437178e-01,  5.04237823e-02,  9.36654508e-02,\n",
       "          4.36129756e-02,  7.23762929e-01, -3.53236169e-01,\n",
       "         -7.22576737e-01],\n",
       "        [ 7.73163587e-02, -3.78675967e-01, -3.13395172e-01,\n",
       "         -2.73367435e-01,  1.70432970e-01,  7.76780620e-02,\n",
       "          1.43859893e-01,  1.78233251e-01,  1.71517447e-01,\n",
       "         -1.05420395e-03],\n",
       "        [-2.10576639e-01, -2.01941639e-01,  7.86217079e-02,\n",
       "         -8.32659677e-02, -4.64274697e-02, -1.11641951e-01,\n",
       "          1.33813798e-01, -3.70264910e-02,  1.57057121e-01,\n",
       "          4.11122255e-02],\n",
       "        [ 1.35539278e-01,  3.75562966e-01,  7.09888041e-02,\n",
       "         -2.61349410e-01,  2.63881803e-01, -7.45113194e-02,\n",
       "         -2.72635311e-01, -3.35965514e-01,  1.38940945e-01,\n",
       "          1.90373212e-01],\n",
       "        [-4.33024406e-01,  2.07033962e-01, -1.98074058e-01,\n",
       "          1.33981839e-01, -1.29281178e-01, -1.07496955e-01,\n",
       "         -1.82949513e-01,  6.90545738e-02,  1.67276457e-01,\n",
       "         -3.42317045e-01],\n",
       "        [ 7.06209317e-02,  1.40182510e-01, -1.78894132e-01,\n",
       "          1.68995693e-01, -3.13893199e-01,  1.75526664e-01,\n",
       "         -1.45002112e-01, -2.98984461e-02,  1.62254378e-01,\n",
       "         -6.20725788e-02],\n",
       "        [ 2.58622710e-02, -2.56217718e-01,  2.39705294e-01,\n",
       "          1.83867067e-01, -8.19818974e-01,  2.29294315e-01,\n",
       "          1.88202992e-01, -4.58232790e-01,  1.47882283e-01,\n",
       "         -4.21851903e-01],\n",
       "        [ 7.77102262e-02,  9.47183222e-02, -5.05949780e-02,\n",
       "         -1.47226602e-01,  5.00327535e-02,  5.58281183e-01,\n",
       "         -2.29174241e-01,  5.74510098e-02, -3.66087645e-01,\n",
       "         -3.11453164e-01],\n",
       "        [-3.75081122e-01, -7.37680271e-02,  1.51248068e-01,\n",
       "          2.05129355e-01,  7.60391504e-02, -2.91103572e-01,\n",
       "         -2.94079751e-01,  1.22649468e-01, -3.87359291e-01,\n",
       "         -7.88013697e-01],\n",
       "        [-4.36739326e-01, -5.72081268e-01, -4.91149515e-01,\n",
       "          2.66883284e-01,  1.90749943e-01,  4.53903198e-01,\n",
       "         -2.74209559e-01, -1.17786609e-01, -2.97564268e-02,\n",
       "          7.60792121e-02],\n",
       "        [-6.65727675e-01,  3.95208567e-01, -2.70716637e-01,\n",
       "          4.19867039e-01, -7.48978974e-03,  1.29812673e-01,\n",
       "         -1.00780046e+00, -5.34449637e-01, -8.53632987e-01,\n",
       "          1.89866826e-01],\n",
       "        [ 2.22397357e-01, -4.04290169e-01,  1.68094888e-01,\n",
       "         -6.03601895e-02, -1.37597024e-01, -1.08195074e-01,\n",
       "         -2.25545406e-01,  1.12037249e-01, -8.28405004e-03,\n",
       "          2.46660575e-01],\n",
       "        [ 3.40596586e-01,  3.31188887e-01,  5.14933944e-01,\n",
       "         -7.97137260e-01, -2.45619297e-01, -1.70633167e-01,\n",
       "         -1.17845006e-01,  2.66151875e-01, -6.18657231e-01,\n",
       "         -2.33124837e-01],\n",
       "        [-7.52129732e-03, -1.99397728e-01,  2.84515284e-02,\n",
       "         -1.10768549e-01, -1.60026491e-01, -5.11313140e-01,\n",
       "          3.78365278e-01,  6.20349385e-02, -3.59454572e-01,\n",
       "          1.23398736e-01],\n",
       "        [ 2.76293606e-01, -1.63972229e-01,  6.79151295e-03,\n",
       "         -1.23202726e-01, -7.96458125e-01,  1.10460036e-01,\n",
       "          1.75068930e-01,  5.98700121e-02,  7.15784058e-02,\n",
       "          6.40450940e-02],\n",
       "        [ 1.72929406e-01,  1.80280745e-01,  2.97491968e-01,\n",
       "          4.59019601e-01,  3.46075356e-01, -7.34217763e-01,\n",
       "         -3.27285945e-01, -2.57337421e-01,  9.67222825e-02,\n",
       "         -1.66614234e-01],\n",
       "        [ 1.89898953e-01, -8.50079000e-01,  5.25338113e-01,\n",
       "          1.52853772e-01, -1.13456559e+00,  3.01023990e-01,\n",
       "         -4.99752671e-01,  2.95927823e-01, -3.43847305e-01,\n",
       "         -2.25044042e-01],\n",
       "        [-6.51258677e-02,  4.73513722e-01, -3.90858144e-01,\n",
       "         -2.77204603e-01,  1.52558714e-01,  3.98163915e-01,\n",
       "          3.87905478e-01, -1.27776891e-01, -4.55357581e-01,\n",
       "         -5.87294579e-01],\n",
       "        [-2.94538122e-02, -9.87233520e-02,  1.17411219e-01,\n",
       "          1.67820126e-01, -4.82298136e-01, -2.64067173e-01,\n",
       "         -3.66367489e-01,  1.71483561e-01,  8.31060037e-02,\n",
       "         -3.77893448e-02],\n",
       "        [ 2.93674141e-01, -1.19466357e-01,  6.47525489e-02,\n",
       "         -1.29641101e-01, -1.04055509e-01, -6.65513799e-02,\n",
       "          1.82680130e-01,  3.85751314e-02,  1.76657274e-01,\n",
       "          8.92099217e-02],\n",
       "        [ 2.32021809e-01, -1.40643284e-01, -7.21688509e-01,\n",
       "         -7.71771148e-02, -6.22756891e-02,  2.99713343e-01,\n",
       "          2.58749634e-01,  1.46146268e-01,  4.67274301e-02,\n",
       "          5.54637127e-02],\n",
       "        [ 5.61466254e-02,  2.45626956e-01,  3.33236635e-01,\n",
       "          5.76183677e-01, -2.02077150e-01, -7.57091224e-01,\n",
       "          4.85147350e-02,  4.20940012e-01, -1.55996889e-01,\n",
       "         -3.29217434e-01],\n",
       "        [-2.54083633e-01,  1.29527319e-02,  2.87990540e-01,\n",
       "         -3.55131358e-01, -1.35350293e-02,  2.71572471e-01,\n",
       "         -2.49997005e-01, -4.44878995e-01, -5.39715469e-01,\n",
       "          3.95678371e-01],\n",
       "        [-2.03578472e-01,  9.06540602e-02,  6.23865165e-02,\n",
       "          3.28607291e-01, -4.18737739e-01,  1.75600201e-01,\n",
       "          2.22581431e-01, -3.78480926e-02, -3.99277866e-01,\n",
       "         -4.40646291e-01],\n",
       "        [-2.30521008e-01,  6.50442719e-01, -5.03088087e-02,\n",
       "          1.43542469e-01,  3.65688294e-01, -4.07984525e-01,\n",
       "         -3.73630404e-01, -2.70500809e-01, -4.55982864e-01,\n",
       "         -4.73345906e-01],\n",
       "        [-3.19572151e-01,  2.16162831e-01, -5.39799817e-02,\n",
       "         -5.08754492e-01,  1.76638871e-01,  2.27365375e-01,\n",
       "          3.33030611e-01, -2.51668155e-01,  4.11164537e-02,\n",
       "         -6.70630857e-02],\n",
       "        [-6.02736235e-01,  7.76418671e-02, -7.43056014e-02,\n",
       "         -4.88724917e-01, -5.04999841e-03,  5.51202476e-01,\n",
       "          1.82140619e-01,  2.83599436e-01, -1.57260355e-02,\n",
       "          6.43295795e-02],\n",
       "        [ 3.20348479e-02, -2.78300375e-01, -1.29001170e-01,\n",
       "          1.82754368e-01,  8.42483938e-02, -2.67465621e-01,\n",
       "         -1.55624360e-01, -1.88401595e-01,  2.50848919e-01,\n",
       "         -7.98650980e-02],\n",
       "        [-5.98010063e-01, -8.86001140e-02,  2.84081370e-01,\n",
       "         -3.05643864e-02, -5.57540894e-01,  8.76602381e-02,\n",
       "         -6.44490719e-01,  2.52043873e-01, -1.88808031e-02,\n",
       "         -2.78796673e-01],\n",
       "        [-2.69738555e-01, -1.75947294e-01,  4.43224013e-01,\n",
       "         -7.04687297e-01,  3.49150240e-01,  1.44085214e-01,\n",
       "          1.44679502e-01,  1.56083778e-01, -6.76036626e-02,\n",
       "         -4.34146047e-01],\n",
       "        [ 6.05356470e-02,  1.65619910e-01,  7.95167908e-02,\n",
       "         -3.69863331e-01, -1.54336570e-02, -2.24419981e-01,\n",
       "          1.60580620e-01, -4.23929781e-01, -6.19918779e-02,\n",
       "          2.25068763e-01],\n",
       "        [ 2.10786521e-01,  2.12602973e-01,  1.65396959e-01,\n",
       "         -2.63458669e-01,  3.37291956e-01, -4.22053546e-01,\n",
       "          8.30490738e-02,  3.88925582e-01,  6.77333623e-02,\n",
       "         -3.43161821e-01],\n",
       "        [-1.30077928e-01, -4.60818291e-01,  1.30046427e-01,\n",
       "          8.37812107e-03,  4.43991274e-01,  1.20098419e-01,\n",
       "          2.64567137e-01, -2.12759763e-01, -4.61348087e-01,\n",
       "          2.18073070e-01],\n",
       "        [ 4.16269571e-01,  6.29046336e-02,  5.11191130e-01,\n",
       "         -2.20688656e-01, -2.94148624e-01,  5.36307432e-02,\n",
       "         -1.23141468e-01, -3.08846891e-01, -7.78536737e-01,\n",
       "         -1.15135558e-01],\n",
       "        [-4.27250117e-01, -1.41105130e-01,  1.71843991e-01,\n",
       "          3.69110078e-01,  7.91992620e-02, -3.68826270e-01,\n",
       "         -2.83408821e-01,  1.42433047e-01, -8.56350586e-02,\n",
       "          1.22862749e-01],\n",
       "        [-1.86073720e-01,  6.69220416e-03, -3.29379618e-01,\n",
       "          1.69047058e-01,  2.61504769e-01, -4.45357502e-01,\n",
       "         -2.53000945e-01, -5.05706179e-04, -2.60531038e-01,\n",
       "          3.26893449e-01],\n",
       "        [-8.59536678e-02,  7.63745904e-02, -1.47202685e-01,\n",
       "         -4.31271568e-02, -2.69742757e-01,  1.50049284e-01,\n",
       "          1.73706025e-01, -2.88807869e-01,  1.92985952e-01,\n",
       "         -1.86612174e-01],\n",
       "        [-4.74050492e-01,  2.62479067e-01, -6.86938107e-01,\n",
       "         -7.52374172e-01,  2.91166306e-01, -2.61858672e-01,\n",
       "         -5.74080467e-01, -4.04620506e-02, -1.92196414e-01,\n",
       "          4.78923291e-01],\n",
       "        [-8.20297096e-03, -1.16274476e-01, -6.49571195e-02,\n",
       "         -1.89520463e-01,  1.91954747e-01, -1.47603363e-01,\n",
       "         -3.46677959e-01, -4.68496513e-03,  1.35484770e-01,\n",
       "          6.86220825e-02],\n",
       "        [-3.70294541e-01,  1.40641481e-01,  1.39249712e-01,\n",
       "          2.76679188e-01,  2.17297301e-01, -5.66730738e-01,\n",
       "         -1.57385841e-01,  3.08384579e-02,  4.39281985e-02,\n",
       "         -3.07895750e-01],\n",
       "        [-5.93610883e-01, -2.34285165e-02,  3.58617067e-01,\n",
       "          1.47846505e-01, -1.30727619e-01, -1.82048053e-01,\n",
       "         -2.40107909e-01,  5.28546497e-02,  2.93686688e-01,\n",
       "         -1.07929313e+00],\n",
       "        [ 1.03649348e-02,  7.89280459e-02, -2.94221401e-01,\n",
       "          1.54554188e-01,  2.26373538e-01, -2.91738957e-01,\n",
       "          3.03643972e-01, -1.99638512e-02, -5.97880721e-01,\n",
       "          1.89662233e-01],\n",
       "        [-9.99384761e-01, -1.86571181e-01, -1.46314964e-01,\n",
       "          2.51313716e-01,  2.72469550e-01,  2.96096623e-01,\n",
       "         -8.37304115e-01, -5.84666967e-01,  6.58889040e-02,\n",
       "          4.05974478e-01],\n",
       "        [-6.07290380e-02, -2.96667099e-01,  2.62565941e-01,\n",
       "          4.20546569e-02,  1.33872420e-01, -1.94888949e-01,\n",
       "          2.86260515e-01,  5.02768084e-02, -3.83340120e-01,\n",
       "          1.90497756e-01],\n",
       "        [-2.16912404e-01,  2.55081356e-01,  1.45148877e-02,\n",
       "          1.30445436e-01, -4.59104240e-01,  2.21630380e-01,\n",
       "         -1.05490595e-01, -5.51303662e-03,  1.29914582e-01,\n",
       "         -4.41310763e-01],\n",
       "        [ 1.07267410e-01, -3.42544377e-01,  2.54740387e-01,\n",
       "          1.65324435e-01, -7.41069376e-01, -1.70866594e-01,\n",
       "         -5.77753484e-01,  2.10266799e-01, -2.03586668e-01,\n",
       "          1.45772055e-01],\n",
       "        [ 1.58302665e-01,  9.73022729e-02,  1.43696472e-01,\n",
       "          1.72433689e-01,  3.73569131e-01,  7.44066462e-02,\n",
       "         -2.57728875e-01, -3.96867216e-01,  2.93409556e-01,\n",
       "          1.37059046e-02],\n",
       "        [-7.56303594e-02, -7.77911246e-02, -2.73675714e-02,\n",
       "         -4.10435945e-02, -1.04628935e-01, -4.91387904e-01,\n",
       "         -1.46528095e-01,  4.73047569e-02,  1.69960141e-01,\n",
       "          1.88981727e-01],\n",
       "        [-8.69851857e-02, -4.00410801e-01,  1.25688717e-01,\n",
       "          1.24875240e-01,  6.47314936e-02,  3.12316507e-01,\n",
       "         -3.12305063e-01,  1.21051967e-01, -2.37205073e-01,\n",
       "          1.68344155e-01],\n",
       "        [-8.60959947e-01,  3.15515876e-01, -2.63685673e-01,\n",
       "         -5.12169562e-02,  2.55861580e-01,  1.62818655e-01,\n",
       "         -7.75778770e-01,  4.07075107e-01, -2.71100998e-01,\n",
       "         -5.43377697e-02],\n",
       "        [ 2.56278515e-01, -3.10588852e-02,  2.93714046e-01,\n",
       "         -2.50790685e-01, -2.61664987e-01, -5.84824383e-01,\n",
       "          2.15248298e-02,  2.19077736e-01,  1.35238469e-01,\n",
       "          2.47497186e-01],\n",
       "        [ 1.34777665e-01, -4.40196633e-01,  1.14977211e-01,\n",
       "          1.35421753e-01, -4.20505494e-01, -3.79967332e-01,\n",
       "         -5.80276906e-01, -1.23821266e-01, -4.42115217e-01,\n",
       "          4.80569214e-01],\n",
       "        [-1.25967771e-01, -3.32275748e-01,  4.01948035e-01,\n",
       "          8.41765776e-02, -4.34290208e-02, -1.99549213e-01,\n",
       "         -1.80705905e-01,  4.63146865e-01,  2.43426397e-01,\n",
       "         -9.67945337e-01],\n",
       "        [-2.17382252e-01, -2.68089801e-01,  1.98573202e-01,\n",
       "         -5.38432956e-01,  1.68191195e-01,  2.37121344e-01,\n",
       "          2.91533262e-01,  7.43767619e-02,  3.04652572e-01,\n",
       "         -3.02662939e-01],\n",
       "        [-2.79046502e-02,  1.17388824e-02, -1.39326051e-01,\n",
       "         -4.80123580e-01,  2.98868984e-01,  2.20138177e-01,\n",
       "         -4.61871214e-02,  2.15079159e-01, -5.51834881e-01,\n",
       "          1.86220080e-01],\n",
       "        [-4.76244092e-01, -3.73929381e-01,  2.74538845e-01,\n",
       "          2.45151728e-01, -7.51679063e-01, -1.21976035e-02,\n",
       "          1.29273489e-01,  2.99616933e-01, -4.80817795e-01,\n",
       "         -5.94175100e-01],\n",
       "        [ 1.17894493e-01, -6.82589263e-02, -3.01902387e-02,\n",
       "          2.64348149e-01,  7.89875090e-02, -4.15599011e-02,\n",
       "          2.26898968e-01, -4.15524036e-01,  1.71574752e-03,\n",
       "         -1.60909861e-01],\n",
       "        [ 2.46399522e-01,  2.40736887e-01,  3.16985011e-01,\n",
       "         -2.78927207e-01, -9.44508389e-02, -8.82337034e-01,\n",
       "         -2.41467804e-02,  8.72257538e-03, -2.26430252e-01,\n",
       "          2.24932849e-01],\n",
       "        [ 2.90366799e-01,  4.23348188e-01, -3.01327527e-01,\n",
       "         -4.45026308e-01,  3.15615326e-01,  6.55629672e-03,\n",
       "          9.41240564e-02,  2.69744247e-01, -7.62087852e-02,\n",
       "          1.01226509e-01],\n",
       "        [-3.10006678e-01,  7.26906061e-01,  3.58746260e-01,\n",
       "         -2.19697371e-01, -4.41935033e-01,  8.84560868e-02,\n",
       "         -7.26611167e-02,  2.79121816e-01, -3.98481131e-01,\n",
       "         -2.52041906e-01],\n",
       "        [-4.91592139e-01,  2.04517782e-01,  1.25033945e-01,\n",
       "          2.43795425e-01, -5.42348385e-01, -3.69816661e-01,\n",
       "         -4.15667504e-01,  1.87008664e-01, -3.74499291e-01,\n",
       "         -2.58505970e-01],\n",
       "        [-1.18256822e-01,  2.99199224e-01,  2.70617425e-01,\n",
       "         -2.95119256e-01, -2.15297818e-01,  2.06189901e-01,\n",
       "         -2.46813998e-01,  1.99869871e-01, -4.47592437e-01,\n",
       "         -2.74350613e-01],\n",
       "        [-3.64793420e-01,  1.62496194e-01, -9.56670493e-02,\n",
       "          9.62122083e-02,  1.45435408e-01, -2.42594212e-01,\n",
       "         -5.71854692e-03,  1.30005464e-01,  2.23872215e-01,\n",
       "         -1.83211148e-01],\n",
       "        [ 2.07622156e-01, -2.73428798e-01, -2.04303682e-01,\n",
       "          3.85405235e-02, -2.87998527e-01,  9.01403502e-02,\n",
       "          2.01713622e-01, -2.59776264e-01,  1.84046388e-01,\n",
       "         -2.45248199e-01],\n",
       "        [-3.32952082e-01,  2.73140017e-02,  1.51369855e-01,\n",
       "         -5.87122925e-02, -1.10027082e-01,  1.65261582e-01,\n",
       "          1.23056449e-01, -5.38500488e-01,  1.94488972e-01,\n",
       "         -2.98383176e-01],\n",
       "        [ 2.20834062e-01, -3.37831020e-01,  5.01647182e-02,\n",
       "          2.11198509e-01, -5.52501082e-01,  2.34061360e-01,\n",
       "         -2.48195827e-01, -7.72198886e-02,  2.63205439e-01,\n",
       "          2.20911324e-01],\n",
       "        [-1.46225274e-01,  2.93257266e-01,  1.53921664e-01,\n",
       "         -7.44407102e-02, -3.31898898e-01,  9.44847390e-02,\n",
       "          1.55871496e-01,  3.15191567e-01,  2.16540858e-01,\n",
       "         -6.83480680e-01],\n",
       "        [ 1.30053818e-01, -3.33758086e-01, -1.15826108e-01,\n",
       "          1.49234772e-01,  9.24153775e-02,  1.76191419e-01,\n",
       "          2.15582103e-01, -1.77959427e-01,  2.14449495e-01,\n",
       "          1.57572612e-01],\n",
       "        [-9.98833179e-02, -3.32750261e-01, -4.16405737e-01,\n",
       "         -2.10314721e-01,  6.93576753e-01,  3.56807187e-02,\n",
       "          1.12264929e-02,  4.82009113e-01, -4.11132395e-01,\n",
       "         -7.98176706e-01],\n",
       "        [-1.47067502e-01, -3.62884663e-02, -2.02385522e-02,\n",
       "         -1.18486531e-01,  5.00024408e-02, -1.60605963e-02,\n",
       "          2.17731133e-01, -3.77562135e-01,  1.24549471e-01,\n",
       "          1.72955217e-03],\n",
       "        [-1.31959066e-01, -1.98054299e-01, -1.44125223e-01,\n",
       "         -2.11994737e-01,  1.28662363e-01, -9.85573977e-02,\n",
       "          1.96588352e-01, -2.14377865e-02,  3.73952761e-02,\n",
       "          7.53642470e-02],\n",
       "        [ 2.34327435e-01, -2.79037505e-01,  9.20476690e-02,\n",
       "         -1.72026739e-01,  1.53978050e-01,  9.15699303e-02,\n",
       "          2.22051889e-01, -2.39612430e-01,  2.96385586e-02,\n",
       "         -7.13705048e-02],\n",
       "        [ 4.01146919e-01, -2.44099066e-01,  1.88628659e-01,\n",
       "         -2.35300675e-01,  9.75635499e-02, -4.88840878e-01,\n",
       "         -1.32959813e-01, -2.61611566e-02, -1.09514080e-01,\n",
       "         -1.27908453e-01],\n",
       "        [-4.53770310e-01,  5.23617268e-01, -4.62438375e-01,\n",
       "          1.61274731e-01, -2.14789854e-03,  3.61175656e-01,\n",
       "          4.44095612e-01,  3.10326636e-01, -8.87615308e-02,\n",
       "         -5.25555789e-01],\n",
       "        [ 3.01943988e-01,  2.84113377e-01,  2.18358904e-01,\n",
       "          8.51033628e-02, -2.02863276e-01,  1.20701209e-01,\n",
       "         -1.36911705e-01, -3.69628638e-01, -2.62206465e-01,\n",
       "         -1.49936542e-01],\n",
       "        [-3.81348431e-02,  6.43720776e-02, -8.75181630e-02,\n",
       "          1.12625286e-01, -1.10125363e-01, -2.29843140e-01,\n",
       "         -1.51656955e-01,  1.87737808e-01,  1.10779047e-01,\n",
       "          1.47443622e-01],\n",
       "        [-2.59959877e-01, -3.66311133e-01,  1.58472564e-02,\n",
       "          1.92482218e-01, -9.64698642e-02,  5.03545664e-02,\n",
       "         -4.43031013e-01,  2.37387717e-01, -3.44091952e-01,\n",
       "          5.71636185e-02],\n",
       "        [-3.06038916e-01,  1.38572618e-01, -5.19890822e-02,\n",
       "         -5.30591719e-02,  1.15394324e-01, -5.41879952e-01,\n",
       "          4.62521017e-01,  1.73453093e-01, -6.48417622e-02,\n",
       "          1.30463853e-01],\n",
       "        [-1.82831347e-01,  3.72987688e-02, -2.20074952e-01,\n",
       "          1.66614190e-01, -2.89049774e-01, -2.11733510e-03,\n",
       "         -5.97138226e-01, -1.20861009e-01,  6.14582598e-02,\n",
       "          3.55999656e-02],\n",
       "        [-5.83624840e-01, -7.48358294e-02,  6.09731935e-02,\n",
       "         -7.88437203e-02,  3.53421420e-01,  6.20509200e-02,\n",
       "         -5.22338271e-01, -1.55524835e-01,  2.21176088e-01,\n",
       "          2.09960669e-01],\n",
       "        [-6.42733216e-01,  1.38272762e-01, -5.10390162e-01,\n",
       "         -2.07581818e-02,  2.91661888e-01,  2.06765547e-01,\n",
       "         -3.77078325e-01, -5.33039449e-04,  1.23924650e-02,\n",
       "          2.54577875e-01],\n",
       "        [ 2.62095064e-01,  1.58678770e-01, -1.06845625e-01,\n",
       "          2.96908990e-02, -1.58900857e-01, -8.55093300e-02,\n",
       "         -1.27690136e-01, -2.65988320e-01, -6.58254743e-01,\n",
       "          1.49401113e-01],\n",
       "        [ 4.76200320e-02,  2.50794739e-01, -4.12180811e-01,\n",
       "          2.50296295e-01,  1.29602894e-01, -3.14988792e-01,\n",
       "         -2.41750762e-01,  2.97699302e-01, -5.00393987e-01,\n",
       "          3.08225542e-01],\n",
       "        [-7.00263074e-03, -3.94962996e-01,  1.24451816e-01,\n",
       "          2.50058994e-02, -4.41195369e-01, -1.78389158e-02,\n",
       "         -4.60525662e-01,  5.34826741e-02,  1.98114425e-01,\n",
       "          4.78978865e-02],\n",
       "        [ 2.02433497e-01, -2.09005624e-01, -1.94657799e-02,\n",
       "         -1.27826840e-01, -2.64887959e-01,  2.58943528e-01,\n",
       "         -1.18483402e-01,  1.88736573e-01,  1.06691405e-01,\n",
       "         -2.82167166e-01]], dtype=float32),\n",
       " array([-0.10174127, -0.00942888, -0.05924236, -0.1646289 ,  0.1296668 ,\n",
       "         0.04878646,  0.09138654, -0.08693723,  0.16615298, -0.03978947],\n",
       "       dtype=float32)]"
      ]
     },
     "execution_count": 13,
     "metadata": {},
     "output_type": "execute_result"
    }
   ],
   "source": [
    "model.get_weights()"
   ]
  }
 ],
 "metadata": {
  "kernelspec": {
   "display_name": "Python 3",
   "language": "python",
   "name": "python3"
  },
  "language_info": {
   "codemirror_mode": {
    "name": "ipython",
    "version": 3
   },
   "file_extension": ".py",
   "mimetype": "text/x-python",
   "name": "python",
   "nbconvert_exporter": "python",
   "pygments_lexer": "ipython3",
   "version": "3.9.6"
  }
 },
 "nbformat": 4,
 "nbformat_minor": 4
}
